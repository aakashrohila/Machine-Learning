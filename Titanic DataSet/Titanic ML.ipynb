{
 "cells": [
  {
   "cell_type": "code",
   "execution_count": 1,
   "id": "07da1086",
   "metadata": {},
   "outputs": [],
   "source": [
    "import pandas as pd\n",
    "import numpy as np\n",
    "import matplotlib.pyplot as plt"
   ]
  },
  {
   "cell_type": "code",
   "execution_count": 2,
   "id": "662ae528",
   "metadata": {},
   "outputs": [],
   "source": [
    "df_tr = pd.read_csv('train.csv')"
   ]
  },
  {
   "cell_type": "code",
   "execution_count": 3,
   "id": "872ce4e3",
   "metadata": {},
   "outputs": [],
   "source": [
    "df_te = pd.read_csv('test.csv')"
   ]
  },
  {
   "cell_type": "code",
   "execution_count": 4,
   "id": "fa50d0d9",
   "metadata": {},
   "outputs": [],
   "source": [
    "df = pd.concat([df_tr,df_te],axis = 0 , ignore_index=True)"
   ]
  },
  {
   "cell_type": "markdown",
   "id": "e4ed03c7",
   "metadata": {},
   "source": [
    "Passenger ID — unique ID that identifies each passenger\n",
    "Survived — 0 means never survive, 1 means survive\n",
    "Pclass — Passenger class (1,2 or 3)\n",
    "SibSp — Number of siblings/spouse onboard the Titanic\n",
    "Parch — Number of parents/children onboard the Titanic\n",
    "Ticket — Ticket number\n",
    "Cabin — Cabin number, where the passengers stay\n",
    "Embarked — The location where the passengers board the Titanic ( C=Cherbourg, Q= Queenstown, S=Southampton)"
   ]
  },
  {
   "cell_type": "code",
   "execution_count": 5,
   "id": "111f8a1e",
   "metadata": {},
   "outputs": [
    {
     "data": {
      "text/html": [
       "<div>\n",
       "<style scoped>\n",
       "    .dataframe tbody tr th:only-of-type {\n",
       "        vertical-align: middle;\n",
       "    }\n",
       "\n",
       "    .dataframe tbody tr th {\n",
       "        vertical-align: top;\n",
       "    }\n",
       "\n",
       "    .dataframe thead th {\n",
       "        text-align: right;\n",
       "    }\n",
       "</style>\n",
       "<table border=\"1\" class=\"dataframe\">\n",
       "  <thead>\n",
       "    <tr style=\"text-align: right;\">\n",
       "      <th></th>\n",
       "      <th>PassengerId</th>\n",
       "      <th>Survived</th>\n",
       "      <th>Pclass</th>\n",
       "      <th>Name</th>\n",
       "      <th>Sex</th>\n",
       "      <th>Age</th>\n",
       "      <th>SibSp</th>\n",
       "      <th>Parch</th>\n",
       "      <th>Ticket</th>\n",
       "      <th>Fare</th>\n",
       "      <th>Cabin</th>\n",
       "      <th>Embarked</th>\n",
       "    </tr>\n",
       "  </thead>\n",
       "  <tbody>\n",
       "    <tr>\n",
       "      <th>0</th>\n",
       "      <td>1</td>\n",
       "      <td>0.0</td>\n",
       "      <td>3</td>\n",
       "      <td>Braund, Mr. Owen Harris</td>\n",
       "      <td>male</td>\n",
       "      <td>22.0</td>\n",
       "      <td>1</td>\n",
       "      <td>0</td>\n",
       "      <td>A/5 21171</td>\n",
       "      <td>7.2500</td>\n",
       "      <td>NaN</td>\n",
       "      <td>S</td>\n",
       "    </tr>\n",
       "    <tr>\n",
       "      <th>1</th>\n",
       "      <td>2</td>\n",
       "      <td>1.0</td>\n",
       "      <td>1</td>\n",
       "      <td>Cumings, Mrs. John Bradley (Florence Briggs Th...</td>\n",
       "      <td>female</td>\n",
       "      <td>38.0</td>\n",
       "      <td>1</td>\n",
       "      <td>0</td>\n",
       "      <td>PC 17599</td>\n",
       "      <td>71.2833</td>\n",
       "      <td>C85</td>\n",
       "      <td>C</td>\n",
       "    </tr>\n",
       "    <tr>\n",
       "      <th>2</th>\n",
       "      <td>3</td>\n",
       "      <td>1.0</td>\n",
       "      <td>3</td>\n",
       "      <td>Heikkinen, Miss. Laina</td>\n",
       "      <td>female</td>\n",
       "      <td>26.0</td>\n",
       "      <td>0</td>\n",
       "      <td>0</td>\n",
       "      <td>STON/O2. 3101282</td>\n",
       "      <td>7.9250</td>\n",
       "      <td>NaN</td>\n",
       "      <td>S</td>\n",
       "    </tr>\n",
       "    <tr>\n",
       "      <th>3</th>\n",
       "      <td>4</td>\n",
       "      <td>1.0</td>\n",
       "      <td>1</td>\n",
       "      <td>Futrelle, Mrs. Jacques Heath (Lily May Peel)</td>\n",
       "      <td>female</td>\n",
       "      <td>35.0</td>\n",
       "      <td>1</td>\n",
       "      <td>0</td>\n",
       "      <td>113803</td>\n",
       "      <td>53.1000</td>\n",
       "      <td>C123</td>\n",
       "      <td>S</td>\n",
       "    </tr>\n",
       "    <tr>\n",
       "      <th>4</th>\n",
       "      <td>5</td>\n",
       "      <td>0.0</td>\n",
       "      <td>3</td>\n",
       "      <td>Allen, Mr. William Henry</td>\n",
       "      <td>male</td>\n",
       "      <td>35.0</td>\n",
       "      <td>0</td>\n",
       "      <td>0</td>\n",
       "      <td>373450</td>\n",
       "      <td>8.0500</td>\n",
       "      <td>NaN</td>\n",
       "      <td>S</td>\n",
       "    </tr>\n",
       "    <tr>\n",
       "      <th>...</th>\n",
       "      <td>...</td>\n",
       "      <td>...</td>\n",
       "      <td>...</td>\n",
       "      <td>...</td>\n",
       "      <td>...</td>\n",
       "      <td>...</td>\n",
       "      <td>...</td>\n",
       "      <td>...</td>\n",
       "      <td>...</td>\n",
       "      <td>...</td>\n",
       "      <td>...</td>\n",
       "      <td>...</td>\n",
       "    </tr>\n",
       "    <tr>\n",
       "      <th>1304</th>\n",
       "      <td>1305</td>\n",
       "      <td>NaN</td>\n",
       "      <td>3</td>\n",
       "      <td>Spector, Mr. Woolf</td>\n",
       "      <td>male</td>\n",
       "      <td>NaN</td>\n",
       "      <td>0</td>\n",
       "      <td>0</td>\n",
       "      <td>A.5. 3236</td>\n",
       "      <td>8.0500</td>\n",
       "      <td>NaN</td>\n",
       "      <td>S</td>\n",
       "    </tr>\n",
       "    <tr>\n",
       "      <th>1305</th>\n",
       "      <td>1306</td>\n",
       "      <td>NaN</td>\n",
       "      <td>1</td>\n",
       "      <td>Oliva y Ocana, Dona. Fermina</td>\n",
       "      <td>female</td>\n",
       "      <td>39.0</td>\n",
       "      <td>0</td>\n",
       "      <td>0</td>\n",
       "      <td>PC 17758</td>\n",
       "      <td>108.9000</td>\n",
       "      <td>C105</td>\n",
       "      <td>C</td>\n",
       "    </tr>\n",
       "    <tr>\n",
       "      <th>1306</th>\n",
       "      <td>1307</td>\n",
       "      <td>NaN</td>\n",
       "      <td>3</td>\n",
       "      <td>Saether, Mr. Simon Sivertsen</td>\n",
       "      <td>male</td>\n",
       "      <td>38.5</td>\n",
       "      <td>0</td>\n",
       "      <td>0</td>\n",
       "      <td>SOTON/O.Q. 3101262</td>\n",
       "      <td>7.2500</td>\n",
       "      <td>NaN</td>\n",
       "      <td>S</td>\n",
       "    </tr>\n",
       "    <tr>\n",
       "      <th>1307</th>\n",
       "      <td>1308</td>\n",
       "      <td>NaN</td>\n",
       "      <td>3</td>\n",
       "      <td>Ware, Mr. Frederick</td>\n",
       "      <td>male</td>\n",
       "      <td>NaN</td>\n",
       "      <td>0</td>\n",
       "      <td>0</td>\n",
       "      <td>359309</td>\n",
       "      <td>8.0500</td>\n",
       "      <td>NaN</td>\n",
       "      <td>S</td>\n",
       "    </tr>\n",
       "    <tr>\n",
       "      <th>1308</th>\n",
       "      <td>1309</td>\n",
       "      <td>NaN</td>\n",
       "      <td>3</td>\n",
       "      <td>Peter, Master. Michael J</td>\n",
       "      <td>male</td>\n",
       "      <td>NaN</td>\n",
       "      <td>1</td>\n",
       "      <td>1</td>\n",
       "      <td>2668</td>\n",
       "      <td>22.3583</td>\n",
       "      <td>NaN</td>\n",
       "      <td>C</td>\n",
       "    </tr>\n",
       "  </tbody>\n",
       "</table>\n",
       "<p>1309 rows × 12 columns</p>\n",
       "</div>"
      ],
      "text/plain": [
       "      PassengerId  Survived  Pclass  \\\n",
       "0               1       0.0       3   \n",
       "1               2       1.0       1   \n",
       "2               3       1.0       3   \n",
       "3               4       1.0       1   \n",
       "4               5       0.0       3   \n",
       "...           ...       ...     ...   \n",
       "1304         1305       NaN       3   \n",
       "1305         1306       NaN       1   \n",
       "1306         1307       NaN       3   \n",
       "1307         1308       NaN       3   \n",
       "1308         1309       NaN       3   \n",
       "\n",
       "                                                   Name     Sex   Age  SibSp  \\\n",
       "0                               Braund, Mr. Owen Harris    male  22.0      1   \n",
       "1     Cumings, Mrs. John Bradley (Florence Briggs Th...  female  38.0      1   \n",
       "2                                Heikkinen, Miss. Laina  female  26.0      0   \n",
       "3          Futrelle, Mrs. Jacques Heath (Lily May Peel)  female  35.0      1   \n",
       "4                              Allen, Mr. William Henry    male  35.0      0   \n",
       "...                                                 ...     ...   ...    ...   \n",
       "1304                                 Spector, Mr. Woolf    male   NaN      0   \n",
       "1305                       Oliva y Ocana, Dona. Fermina  female  39.0      0   \n",
       "1306                       Saether, Mr. Simon Sivertsen    male  38.5      0   \n",
       "1307                                Ware, Mr. Frederick    male   NaN      0   \n",
       "1308                           Peter, Master. Michael J    male   NaN      1   \n",
       "\n",
       "      Parch              Ticket      Fare Cabin Embarked  \n",
       "0         0           A/5 21171    7.2500   NaN        S  \n",
       "1         0            PC 17599   71.2833   C85        C  \n",
       "2         0    STON/O2. 3101282    7.9250   NaN        S  \n",
       "3         0              113803   53.1000  C123        S  \n",
       "4         0              373450    8.0500   NaN        S  \n",
       "...     ...                 ...       ...   ...      ...  \n",
       "1304      0           A.5. 3236    8.0500   NaN        S  \n",
       "1305      0            PC 17758  108.9000  C105        C  \n",
       "1306      0  SOTON/O.Q. 3101262    7.2500   NaN        S  \n",
       "1307      0              359309    8.0500   NaN        S  \n",
       "1308      1                2668   22.3583   NaN        C  \n",
       "\n",
       "[1309 rows x 12 columns]"
      ]
     },
     "execution_count": 5,
     "metadata": {},
     "output_type": "execute_result"
    }
   ],
   "source": [
    "df"
   ]
  },
  {
   "cell_type": "code",
   "execution_count": 6,
   "id": "a9faef8b",
   "metadata": {},
   "outputs": [
    {
     "data": {
      "text/plain": [
       "PassengerId       0\n",
       "Survived        418\n",
       "Pclass            0\n",
       "Name              0\n",
       "Sex               0\n",
       "Age             263\n",
       "SibSp             0\n",
       "Parch             0\n",
       "Ticket            0\n",
       "Fare              1\n",
       "Cabin          1014\n",
       "Embarked          2\n",
       "dtype: int64"
      ]
     },
     "execution_count": 6,
     "metadata": {},
     "output_type": "execute_result"
    }
   ],
   "source": [
    "df.isnull().sum()"
   ]
  },
  {
   "cell_type": "code",
   "execution_count": 7,
   "id": "970889ee",
   "metadata": {},
   "outputs": [],
   "source": [
    "df.drop(['Cabin'],axis=1,inplace = True)"
   ]
  },
  {
   "cell_type": "code",
   "execution_count": 8,
   "id": "3390c868",
   "metadata": {},
   "outputs": [
    {
     "data": {
      "text/plain": [
       "PassengerId      0\n",
       "Survived       418\n",
       "Pclass           0\n",
       "Name             0\n",
       "Sex              0\n",
       "Age            263\n",
       "SibSp            0\n",
       "Parch            0\n",
       "Ticket           0\n",
       "Fare             1\n",
       "Embarked         2\n",
       "dtype: int64"
      ]
     },
     "execution_count": 8,
     "metadata": {},
     "output_type": "execute_result"
    }
   ],
   "source": [
    "df.isna().sum()"
   ]
  },
  {
   "cell_type": "code",
   "execution_count": 9,
   "id": "5e59452f",
   "metadata": {},
   "outputs": [
    {
     "data": {
      "text/html": [
       "<div>\n",
       "<style scoped>\n",
       "    .dataframe tbody tr th:only-of-type {\n",
       "        vertical-align: middle;\n",
       "    }\n",
       "\n",
       "    .dataframe tbody tr th {\n",
       "        vertical-align: top;\n",
       "    }\n",
       "\n",
       "    .dataframe thead th {\n",
       "        text-align: right;\n",
       "    }\n",
       "</style>\n",
       "<table border=\"1\" class=\"dataframe\">\n",
       "  <thead>\n",
       "    <tr style=\"text-align: right;\">\n",
       "      <th></th>\n",
       "      <th>PassengerId</th>\n",
       "      <th>Survived</th>\n",
       "      <th>Pclass</th>\n",
       "      <th>Name</th>\n",
       "      <th>Sex</th>\n",
       "      <th>Age</th>\n",
       "      <th>SibSp</th>\n",
       "      <th>Parch</th>\n",
       "      <th>Ticket</th>\n",
       "      <th>Fare</th>\n",
       "      <th>Embarked</th>\n",
       "    </tr>\n",
       "  </thead>\n",
       "  <tbody>\n",
       "    <tr>\n",
       "      <th>0</th>\n",
       "      <td>1</td>\n",
       "      <td>0.0</td>\n",
       "      <td>3</td>\n",
       "      <td>Braund, Mr. Owen Harris</td>\n",
       "      <td>male</td>\n",
       "      <td>22.0</td>\n",
       "      <td>1</td>\n",
       "      <td>0</td>\n",
       "      <td>A/5 21171</td>\n",
       "      <td>7.2500</td>\n",
       "      <td>S</td>\n",
       "    </tr>\n",
       "    <tr>\n",
       "      <th>1</th>\n",
       "      <td>2</td>\n",
       "      <td>1.0</td>\n",
       "      <td>1</td>\n",
       "      <td>Cumings, Mrs. John Bradley (Florence Briggs Th...</td>\n",
       "      <td>female</td>\n",
       "      <td>38.0</td>\n",
       "      <td>1</td>\n",
       "      <td>0</td>\n",
       "      <td>PC 17599</td>\n",
       "      <td>71.2833</td>\n",
       "      <td>C</td>\n",
       "    </tr>\n",
       "    <tr>\n",
       "      <th>2</th>\n",
       "      <td>3</td>\n",
       "      <td>1.0</td>\n",
       "      <td>3</td>\n",
       "      <td>Heikkinen, Miss. Laina</td>\n",
       "      <td>female</td>\n",
       "      <td>26.0</td>\n",
       "      <td>0</td>\n",
       "      <td>0</td>\n",
       "      <td>STON/O2. 3101282</td>\n",
       "      <td>7.9250</td>\n",
       "      <td>S</td>\n",
       "    </tr>\n",
       "    <tr>\n",
       "      <th>3</th>\n",
       "      <td>4</td>\n",
       "      <td>1.0</td>\n",
       "      <td>1</td>\n",
       "      <td>Futrelle, Mrs. Jacques Heath (Lily May Peel)</td>\n",
       "      <td>female</td>\n",
       "      <td>35.0</td>\n",
       "      <td>1</td>\n",
       "      <td>0</td>\n",
       "      <td>113803</td>\n",
       "      <td>53.1000</td>\n",
       "      <td>S</td>\n",
       "    </tr>\n",
       "    <tr>\n",
       "      <th>4</th>\n",
       "      <td>5</td>\n",
       "      <td>0.0</td>\n",
       "      <td>3</td>\n",
       "      <td>Allen, Mr. William Henry</td>\n",
       "      <td>male</td>\n",
       "      <td>35.0</td>\n",
       "      <td>0</td>\n",
       "      <td>0</td>\n",
       "      <td>373450</td>\n",
       "      <td>8.0500</td>\n",
       "      <td>S</td>\n",
       "    </tr>\n",
       "  </tbody>\n",
       "</table>\n",
       "</div>"
      ],
      "text/plain": [
       "   PassengerId  Survived  Pclass  \\\n",
       "0            1       0.0       3   \n",
       "1            2       1.0       1   \n",
       "2            3       1.0       3   \n",
       "3            4       1.0       1   \n",
       "4            5       0.0       3   \n",
       "\n",
       "                                                Name     Sex   Age  SibSp  \\\n",
       "0                            Braund, Mr. Owen Harris    male  22.0      1   \n",
       "1  Cumings, Mrs. John Bradley (Florence Briggs Th...  female  38.0      1   \n",
       "2                             Heikkinen, Miss. Laina  female  26.0      0   \n",
       "3       Futrelle, Mrs. Jacques Heath (Lily May Peel)  female  35.0      1   \n",
       "4                           Allen, Mr. William Henry    male  35.0      0   \n",
       "\n",
       "   Parch            Ticket     Fare Embarked  \n",
       "0      0         A/5 21171   7.2500        S  \n",
       "1      0          PC 17599  71.2833        C  \n",
       "2      0  STON/O2. 3101282   7.9250        S  \n",
       "3      0            113803  53.1000        S  \n",
       "4      0            373450   8.0500        S  "
      ]
     },
     "execution_count": 9,
     "metadata": {},
     "output_type": "execute_result"
    }
   ],
   "source": [
    "df.head()"
   ]
  },
  {
   "cell_type": "code",
   "execution_count": 10,
   "id": "ecaf76a7",
   "metadata": {},
   "outputs": [],
   "source": [
    "df.drop('PassengerId',axis=1,inplace = True)"
   ]
  },
  {
   "cell_type": "code",
   "execution_count": 11,
   "id": "c63197e4",
   "metadata": {},
   "outputs": [
    {
     "data": {
      "text/html": [
       "<div>\n",
       "<style scoped>\n",
       "    .dataframe tbody tr th:only-of-type {\n",
       "        vertical-align: middle;\n",
       "    }\n",
       "\n",
       "    .dataframe tbody tr th {\n",
       "        vertical-align: top;\n",
       "    }\n",
       "\n",
       "    .dataframe thead th {\n",
       "        text-align: right;\n",
       "    }\n",
       "</style>\n",
       "<table border=\"1\" class=\"dataframe\">\n",
       "  <thead>\n",
       "    <tr style=\"text-align: right;\">\n",
       "      <th></th>\n",
       "      <th>Survived</th>\n",
       "      <th>Pclass</th>\n",
       "      <th>Name</th>\n",
       "      <th>Sex</th>\n",
       "      <th>Age</th>\n",
       "      <th>SibSp</th>\n",
       "      <th>Parch</th>\n",
       "      <th>Ticket</th>\n",
       "      <th>Fare</th>\n",
       "      <th>Embarked</th>\n",
       "    </tr>\n",
       "  </thead>\n",
       "  <tbody>\n",
       "    <tr>\n",
       "      <th>0</th>\n",
       "      <td>0.0</td>\n",
       "      <td>3</td>\n",
       "      <td>Braund, Mr. Owen Harris</td>\n",
       "      <td>male</td>\n",
       "      <td>22.0</td>\n",
       "      <td>1</td>\n",
       "      <td>0</td>\n",
       "      <td>A/5 21171</td>\n",
       "      <td>7.2500</td>\n",
       "      <td>S</td>\n",
       "    </tr>\n",
       "    <tr>\n",
       "      <th>1</th>\n",
       "      <td>1.0</td>\n",
       "      <td>1</td>\n",
       "      <td>Cumings, Mrs. John Bradley (Florence Briggs Th...</td>\n",
       "      <td>female</td>\n",
       "      <td>38.0</td>\n",
       "      <td>1</td>\n",
       "      <td>0</td>\n",
       "      <td>PC 17599</td>\n",
       "      <td>71.2833</td>\n",
       "      <td>C</td>\n",
       "    </tr>\n",
       "    <tr>\n",
       "      <th>2</th>\n",
       "      <td>1.0</td>\n",
       "      <td>3</td>\n",
       "      <td>Heikkinen, Miss. Laina</td>\n",
       "      <td>female</td>\n",
       "      <td>26.0</td>\n",
       "      <td>0</td>\n",
       "      <td>0</td>\n",
       "      <td>STON/O2. 3101282</td>\n",
       "      <td>7.9250</td>\n",
       "      <td>S</td>\n",
       "    </tr>\n",
       "    <tr>\n",
       "      <th>3</th>\n",
       "      <td>1.0</td>\n",
       "      <td>1</td>\n",
       "      <td>Futrelle, Mrs. Jacques Heath (Lily May Peel)</td>\n",
       "      <td>female</td>\n",
       "      <td>35.0</td>\n",
       "      <td>1</td>\n",
       "      <td>0</td>\n",
       "      <td>113803</td>\n",
       "      <td>53.1000</td>\n",
       "      <td>S</td>\n",
       "    </tr>\n",
       "    <tr>\n",
       "      <th>4</th>\n",
       "      <td>0.0</td>\n",
       "      <td>3</td>\n",
       "      <td>Allen, Mr. William Henry</td>\n",
       "      <td>male</td>\n",
       "      <td>35.0</td>\n",
       "      <td>0</td>\n",
       "      <td>0</td>\n",
       "      <td>373450</td>\n",
       "      <td>8.0500</td>\n",
       "      <td>S</td>\n",
       "    </tr>\n",
       "  </tbody>\n",
       "</table>\n",
       "</div>"
      ],
      "text/plain": [
       "   Survived  Pclass                                               Name  \\\n",
       "0       0.0       3                            Braund, Mr. Owen Harris   \n",
       "1       1.0       1  Cumings, Mrs. John Bradley (Florence Briggs Th...   \n",
       "2       1.0       3                             Heikkinen, Miss. Laina   \n",
       "3       1.0       1       Futrelle, Mrs. Jacques Heath (Lily May Peel)   \n",
       "4       0.0       3                           Allen, Mr. William Henry   \n",
       "\n",
       "      Sex   Age  SibSp  Parch            Ticket     Fare Embarked  \n",
       "0    male  22.0      1      0         A/5 21171   7.2500        S  \n",
       "1  female  38.0      1      0          PC 17599  71.2833        C  \n",
       "2  female  26.0      0      0  STON/O2. 3101282   7.9250        S  \n",
       "3  female  35.0      1      0            113803  53.1000        S  \n",
       "4    male  35.0      0      0            373450   8.0500        S  "
      ]
     },
     "execution_count": 11,
     "metadata": {},
     "output_type": "execute_result"
    }
   ],
   "source": [
    "df.head()"
   ]
  },
  {
   "cell_type": "code",
   "execution_count": 12,
   "id": "15098926",
   "metadata": {},
   "outputs": [],
   "source": [
    "df.drop('Name',axis=1,inplace = True)"
   ]
  },
  {
   "cell_type": "code",
   "execution_count": 13,
   "id": "beba7b70",
   "metadata": {},
   "outputs": [
    {
     "data": {
      "text/html": [
       "<div>\n",
       "<style scoped>\n",
       "    .dataframe tbody tr th:only-of-type {\n",
       "        vertical-align: middle;\n",
       "    }\n",
       "\n",
       "    .dataframe tbody tr th {\n",
       "        vertical-align: top;\n",
       "    }\n",
       "\n",
       "    .dataframe thead th {\n",
       "        text-align: right;\n",
       "    }\n",
       "</style>\n",
       "<table border=\"1\" class=\"dataframe\">\n",
       "  <thead>\n",
       "    <tr style=\"text-align: right;\">\n",
       "      <th></th>\n",
       "      <th>Survived</th>\n",
       "      <th>Pclass</th>\n",
       "      <th>Sex</th>\n",
       "      <th>Age</th>\n",
       "      <th>SibSp</th>\n",
       "      <th>Parch</th>\n",
       "      <th>Ticket</th>\n",
       "      <th>Fare</th>\n",
       "      <th>Embarked</th>\n",
       "    </tr>\n",
       "  </thead>\n",
       "  <tbody>\n",
       "    <tr>\n",
       "      <th>0</th>\n",
       "      <td>0.0</td>\n",
       "      <td>3</td>\n",
       "      <td>male</td>\n",
       "      <td>22.0</td>\n",
       "      <td>1</td>\n",
       "      <td>0</td>\n",
       "      <td>A/5 21171</td>\n",
       "      <td>7.2500</td>\n",
       "      <td>S</td>\n",
       "    </tr>\n",
       "    <tr>\n",
       "      <th>1</th>\n",
       "      <td>1.0</td>\n",
       "      <td>1</td>\n",
       "      <td>female</td>\n",
       "      <td>38.0</td>\n",
       "      <td>1</td>\n",
       "      <td>0</td>\n",
       "      <td>PC 17599</td>\n",
       "      <td>71.2833</td>\n",
       "      <td>C</td>\n",
       "    </tr>\n",
       "    <tr>\n",
       "      <th>2</th>\n",
       "      <td>1.0</td>\n",
       "      <td>3</td>\n",
       "      <td>female</td>\n",
       "      <td>26.0</td>\n",
       "      <td>0</td>\n",
       "      <td>0</td>\n",
       "      <td>STON/O2. 3101282</td>\n",
       "      <td>7.9250</td>\n",
       "      <td>S</td>\n",
       "    </tr>\n",
       "    <tr>\n",
       "      <th>3</th>\n",
       "      <td>1.0</td>\n",
       "      <td>1</td>\n",
       "      <td>female</td>\n",
       "      <td>35.0</td>\n",
       "      <td>1</td>\n",
       "      <td>0</td>\n",
       "      <td>113803</td>\n",
       "      <td>53.1000</td>\n",
       "      <td>S</td>\n",
       "    </tr>\n",
       "    <tr>\n",
       "      <th>4</th>\n",
       "      <td>0.0</td>\n",
       "      <td>3</td>\n",
       "      <td>male</td>\n",
       "      <td>35.0</td>\n",
       "      <td>0</td>\n",
       "      <td>0</td>\n",
       "      <td>373450</td>\n",
       "      <td>8.0500</td>\n",
       "      <td>S</td>\n",
       "    </tr>\n",
       "  </tbody>\n",
       "</table>\n",
       "</div>"
      ],
      "text/plain": [
       "   Survived  Pclass     Sex   Age  SibSp  Parch            Ticket     Fare  \\\n",
       "0       0.0       3    male  22.0      1      0         A/5 21171   7.2500   \n",
       "1       1.0       1  female  38.0      1      0          PC 17599  71.2833   \n",
       "2       1.0       3  female  26.0      0      0  STON/O2. 3101282   7.9250   \n",
       "3       1.0       1  female  35.0      1      0            113803  53.1000   \n",
       "4       0.0       3    male  35.0      0      0            373450   8.0500   \n",
       "\n",
       "  Embarked  \n",
       "0        S  \n",
       "1        C  \n",
       "2        S  \n",
       "3        S  \n",
       "4        S  "
      ]
     },
     "execution_count": 13,
     "metadata": {},
     "output_type": "execute_result"
    }
   ],
   "source": [
    "df.head()"
   ]
  },
  {
   "cell_type": "code",
   "execution_count": 14,
   "id": "07b53d3f",
   "metadata": {},
   "outputs": [],
   "source": [
    "df.drop(['Ticket'],axis = 1 , inplace = True)"
   ]
  },
  {
   "cell_type": "code",
   "execution_count": 15,
   "id": "aca7d776",
   "metadata": {},
   "outputs": [
    {
     "data": {
      "text/html": [
       "<div>\n",
       "<style scoped>\n",
       "    .dataframe tbody tr th:only-of-type {\n",
       "        vertical-align: middle;\n",
       "    }\n",
       "\n",
       "    .dataframe tbody tr th {\n",
       "        vertical-align: top;\n",
       "    }\n",
       "\n",
       "    .dataframe thead th {\n",
       "        text-align: right;\n",
       "    }\n",
       "</style>\n",
       "<table border=\"1\" class=\"dataframe\">\n",
       "  <thead>\n",
       "    <tr style=\"text-align: right;\">\n",
       "      <th></th>\n",
       "      <th>Survived</th>\n",
       "      <th>Pclass</th>\n",
       "      <th>Sex</th>\n",
       "      <th>Age</th>\n",
       "      <th>SibSp</th>\n",
       "      <th>Parch</th>\n",
       "      <th>Fare</th>\n",
       "      <th>Embarked</th>\n",
       "    </tr>\n",
       "  </thead>\n",
       "  <tbody>\n",
       "    <tr>\n",
       "      <th>0</th>\n",
       "      <td>0.0</td>\n",
       "      <td>3</td>\n",
       "      <td>male</td>\n",
       "      <td>22.0</td>\n",
       "      <td>1</td>\n",
       "      <td>0</td>\n",
       "      <td>7.2500</td>\n",
       "      <td>S</td>\n",
       "    </tr>\n",
       "    <tr>\n",
       "      <th>1</th>\n",
       "      <td>1.0</td>\n",
       "      <td>1</td>\n",
       "      <td>female</td>\n",
       "      <td>38.0</td>\n",
       "      <td>1</td>\n",
       "      <td>0</td>\n",
       "      <td>71.2833</td>\n",
       "      <td>C</td>\n",
       "    </tr>\n",
       "    <tr>\n",
       "      <th>2</th>\n",
       "      <td>1.0</td>\n",
       "      <td>3</td>\n",
       "      <td>female</td>\n",
       "      <td>26.0</td>\n",
       "      <td>0</td>\n",
       "      <td>0</td>\n",
       "      <td>7.9250</td>\n",
       "      <td>S</td>\n",
       "    </tr>\n",
       "    <tr>\n",
       "      <th>3</th>\n",
       "      <td>1.0</td>\n",
       "      <td>1</td>\n",
       "      <td>female</td>\n",
       "      <td>35.0</td>\n",
       "      <td>1</td>\n",
       "      <td>0</td>\n",
       "      <td>53.1000</td>\n",
       "      <td>S</td>\n",
       "    </tr>\n",
       "    <tr>\n",
       "      <th>4</th>\n",
       "      <td>0.0</td>\n",
       "      <td>3</td>\n",
       "      <td>male</td>\n",
       "      <td>35.0</td>\n",
       "      <td>0</td>\n",
       "      <td>0</td>\n",
       "      <td>8.0500</td>\n",
       "      <td>S</td>\n",
       "    </tr>\n",
       "  </tbody>\n",
       "</table>\n",
       "</div>"
      ],
      "text/plain": [
       "   Survived  Pclass     Sex   Age  SibSp  Parch     Fare Embarked\n",
       "0       0.0       3    male  22.0      1      0   7.2500        S\n",
       "1       1.0       1  female  38.0      1      0  71.2833        C\n",
       "2       1.0       3  female  26.0      0      0   7.9250        S\n",
       "3       1.0       1  female  35.0      1      0  53.1000        S\n",
       "4       0.0       3    male  35.0      0      0   8.0500        S"
      ]
     },
     "execution_count": 15,
     "metadata": {},
     "output_type": "execute_result"
    }
   ],
   "source": [
    "df.head()"
   ]
  },
  {
   "cell_type": "code",
   "execution_count": 16,
   "id": "79e549d1",
   "metadata": {},
   "outputs": [
    {
     "data": {
      "text/html": [
       "<div>\n",
       "<style scoped>\n",
       "    .dataframe tbody tr th:only-of-type {\n",
       "        vertical-align: middle;\n",
       "    }\n",
       "\n",
       "    .dataframe tbody tr th {\n",
       "        vertical-align: top;\n",
       "    }\n",
       "\n",
       "    .dataframe thead th {\n",
       "        text-align: right;\n",
       "    }\n",
       "</style>\n",
       "<table border=\"1\" class=\"dataframe\">\n",
       "  <thead>\n",
       "    <tr style=\"text-align: right;\">\n",
       "      <th></th>\n",
       "      <th>Survived</th>\n",
       "      <th>Pclass</th>\n",
       "      <th>Sex</th>\n",
       "      <th>Age</th>\n",
       "      <th>SibSp</th>\n",
       "      <th>Parch</th>\n",
       "      <th>Fare</th>\n",
       "      <th>Embarked</th>\n",
       "    </tr>\n",
       "  </thead>\n",
       "  <tbody>\n",
       "    <tr>\n",
       "      <th>0</th>\n",
       "      <td>0.0</td>\n",
       "      <td>3</td>\n",
       "      <td>male</td>\n",
       "      <td>22.0</td>\n",
       "      <td>1</td>\n",
       "      <td>0</td>\n",
       "      <td>7.2500</td>\n",
       "      <td>S</td>\n",
       "    </tr>\n",
       "    <tr>\n",
       "      <th>1</th>\n",
       "      <td>1.0</td>\n",
       "      <td>1</td>\n",
       "      <td>female</td>\n",
       "      <td>38.0</td>\n",
       "      <td>1</td>\n",
       "      <td>0</td>\n",
       "      <td>71.2833</td>\n",
       "      <td>C</td>\n",
       "    </tr>\n",
       "    <tr>\n",
       "      <th>2</th>\n",
       "      <td>1.0</td>\n",
       "      <td>3</td>\n",
       "      <td>female</td>\n",
       "      <td>26.0</td>\n",
       "      <td>0</td>\n",
       "      <td>0</td>\n",
       "      <td>7.9250</td>\n",
       "      <td>S</td>\n",
       "    </tr>\n",
       "    <tr>\n",
       "      <th>3</th>\n",
       "      <td>1.0</td>\n",
       "      <td>1</td>\n",
       "      <td>female</td>\n",
       "      <td>35.0</td>\n",
       "      <td>1</td>\n",
       "      <td>0</td>\n",
       "      <td>53.1000</td>\n",
       "      <td>S</td>\n",
       "    </tr>\n",
       "    <tr>\n",
       "      <th>4</th>\n",
       "      <td>0.0</td>\n",
       "      <td>3</td>\n",
       "      <td>male</td>\n",
       "      <td>35.0</td>\n",
       "      <td>0</td>\n",
       "      <td>0</td>\n",
       "      <td>8.0500</td>\n",
       "      <td>S</td>\n",
       "    </tr>\n",
       "  </tbody>\n",
       "</table>\n",
       "</div>"
      ],
      "text/plain": [
       "   Survived  Pclass     Sex   Age  SibSp  Parch     Fare Embarked\n",
       "0       0.0       3    male  22.0      1      0   7.2500        S\n",
       "1       1.0       1  female  38.0      1      0  71.2833        C\n",
       "2       1.0       3  female  26.0      0      0   7.9250        S\n",
       "3       1.0       1  female  35.0      1      0  53.1000        S\n",
       "4       0.0       3    male  35.0      0      0   8.0500        S"
      ]
     },
     "execution_count": 16,
     "metadata": {},
     "output_type": "execute_result"
    }
   ],
   "source": [
    "df.head()"
   ]
  },
  {
   "cell_type": "code",
   "execution_count": 17,
   "id": "de1cf7b4",
   "metadata": {},
   "outputs": [
    {
     "data": {
      "text/plain": [
       "Survived    418\n",
       "Pclass        0\n",
       "Sex           0\n",
       "Age         263\n",
       "SibSp         0\n",
       "Parch         0\n",
       "Fare          1\n",
       "Embarked      2\n",
       "dtype: int64"
      ]
     },
     "execution_count": 17,
     "metadata": {},
     "output_type": "execute_result"
    }
   ],
   "source": [
    "df.isna().sum()"
   ]
  },
  {
   "cell_type": "code",
   "execution_count": 18,
   "id": "e2f5bacd",
   "metadata": {},
   "outputs": [],
   "source": [
    "from sklearn.impute import SimpleImputer\n",
    "Imputer = SimpleImputer(missing_values = np.nan , strategy ='mean' )\n",
    "new_age = Imputer.fit_transform(df.Age.values.reshape(-1,1))"
   ]
  },
  {
   "cell_type": "code",
   "execution_count": 19,
   "id": "2bf8c6eb",
   "metadata": {},
   "outputs": [],
   "source": [
    "new_age = new_age.astype(int)"
   ]
  },
  {
   "cell_type": "code",
   "execution_count": 20,
   "id": "fdfb1c10",
   "metadata": {},
   "outputs": [],
   "source": [
    "df = df.join(pd.DataFrame(new_age))"
   ]
  },
  {
   "cell_type": "code",
   "execution_count": 21,
   "id": "04e465b5",
   "metadata": {},
   "outputs": [
    {
     "data": {
      "text/html": [
       "<div>\n",
       "<style scoped>\n",
       "    .dataframe tbody tr th:only-of-type {\n",
       "        vertical-align: middle;\n",
       "    }\n",
       "\n",
       "    .dataframe tbody tr th {\n",
       "        vertical-align: top;\n",
       "    }\n",
       "\n",
       "    .dataframe thead th {\n",
       "        text-align: right;\n",
       "    }\n",
       "</style>\n",
       "<table border=\"1\" class=\"dataframe\">\n",
       "  <thead>\n",
       "    <tr style=\"text-align: right;\">\n",
       "      <th></th>\n",
       "      <th>Survived</th>\n",
       "      <th>Pclass</th>\n",
       "      <th>Sex</th>\n",
       "      <th>Age</th>\n",
       "      <th>SibSp</th>\n",
       "      <th>Parch</th>\n",
       "      <th>Fare</th>\n",
       "      <th>Embarked</th>\n",
       "      <th>0</th>\n",
       "    </tr>\n",
       "  </thead>\n",
       "  <tbody>\n",
       "    <tr>\n",
       "      <th>0</th>\n",
       "      <td>0.0</td>\n",
       "      <td>3</td>\n",
       "      <td>male</td>\n",
       "      <td>22.0</td>\n",
       "      <td>1</td>\n",
       "      <td>0</td>\n",
       "      <td>7.2500</td>\n",
       "      <td>S</td>\n",
       "      <td>22</td>\n",
       "    </tr>\n",
       "    <tr>\n",
       "      <th>1</th>\n",
       "      <td>1.0</td>\n",
       "      <td>1</td>\n",
       "      <td>female</td>\n",
       "      <td>38.0</td>\n",
       "      <td>1</td>\n",
       "      <td>0</td>\n",
       "      <td>71.2833</td>\n",
       "      <td>C</td>\n",
       "      <td>38</td>\n",
       "    </tr>\n",
       "    <tr>\n",
       "      <th>2</th>\n",
       "      <td>1.0</td>\n",
       "      <td>3</td>\n",
       "      <td>female</td>\n",
       "      <td>26.0</td>\n",
       "      <td>0</td>\n",
       "      <td>0</td>\n",
       "      <td>7.9250</td>\n",
       "      <td>S</td>\n",
       "      <td>26</td>\n",
       "    </tr>\n",
       "    <tr>\n",
       "      <th>3</th>\n",
       "      <td>1.0</td>\n",
       "      <td>1</td>\n",
       "      <td>female</td>\n",
       "      <td>35.0</td>\n",
       "      <td>1</td>\n",
       "      <td>0</td>\n",
       "      <td>53.1000</td>\n",
       "      <td>S</td>\n",
       "      <td>35</td>\n",
       "    </tr>\n",
       "    <tr>\n",
       "      <th>4</th>\n",
       "      <td>0.0</td>\n",
       "      <td>3</td>\n",
       "      <td>male</td>\n",
       "      <td>35.0</td>\n",
       "      <td>0</td>\n",
       "      <td>0</td>\n",
       "      <td>8.0500</td>\n",
       "      <td>S</td>\n",
       "      <td>35</td>\n",
       "    </tr>\n",
       "    <tr>\n",
       "      <th>...</th>\n",
       "      <td>...</td>\n",
       "      <td>...</td>\n",
       "      <td>...</td>\n",
       "      <td>...</td>\n",
       "      <td>...</td>\n",
       "      <td>...</td>\n",
       "      <td>...</td>\n",
       "      <td>...</td>\n",
       "      <td>...</td>\n",
       "    </tr>\n",
       "    <tr>\n",
       "      <th>1304</th>\n",
       "      <td>NaN</td>\n",
       "      <td>3</td>\n",
       "      <td>male</td>\n",
       "      <td>NaN</td>\n",
       "      <td>0</td>\n",
       "      <td>0</td>\n",
       "      <td>8.0500</td>\n",
       "      <td>S</td>\n",
       "      <td>29</td>\n",
       "    </tr>\n",
       "    <tr>\n",
       "      <th>1305</th>\n",
       "      <td>NaN</td>\n",
       "      <td>1</td>\n",
       "      <td>female</td>\n",
       "      <td>39.0</td>\n",
       "      <td>0</td>\n",
       "      <td>0</td>\n",
       "      <td>108.9000</td>\n",
       "      <td>C</td>\n",
       "      <td>39</td>\n",
       "    </tr>\n",
       "    <tr>\n",
       "      <th>1306</th>\n",
       "      <td>NaN</td>\n",
       "      <td>3</td>\n",
       "      <td>male</td>\n",
       "      <td>38.5</td>\n",
       "      <td>0</td>\n",
       "      <td>0</td>\n",
       "      <td>7.2500</td>\n",
       "      <td>S</td>\n",
       "      <td>38</td>\n",
       "    </tr>\n",
       "    <tr>\n",
       "      <th>1307</th>\n",
       "      <td>NaN</td>\n",
       "      <td>3</td>\n",
       "      <td>male</td>\n",
       "      <td>NaN</td>\n",
       "      <td>0</td>\n",
       "      <td>0</td>\n",
       "      <td>8.0500</td>\n",
       "      <td>S</td>\n",
       "      <td>29</td>\n",
       "    </tr>\n",
       "    <tr>\n",
       "      <th>1308</th>\n",
       "      <td>NaN</td>\n",
       "      <td>3</td>\n",
       "      <td>male</td>\n",
       "      <td>NaN</td>\n",
       "      <td>1</td>\n",
       "      <td>1</td>\n",
       "      <td>22.3583</td>\n",
       "      <td>C</td>\n",
       "      <td>29</td>\n",
       "    </tr>\n",
       "  </tbody>\n",
       "</table>\n",
       "<p>1309 rows × 9 columns</p>\n",
       "</div>"
      ],
      "text/plain": [
       "      Survived  Pclass     Sex   Age  SibSp  Parch      Fare Embarked   0\n",
       "0          0.0       3    male  22.0      1      0    7.2500        S  22\n",
       "1          1.0       1  female  38.0      1      0   71.2833        C  38\n",
       "2          1.0       3  female  26.0      0      0    7.9250        S  26\n",
       "3          1.0       1  female  35.0      1      0   53.1000        S  35\n",
       "4          0.0       3    male  35.0      0      0    8.0500        S  35\n",
       "...        ...     ...     ...   ...    ...    ...       ...      ...  ..\n",
       "1304       NaN       3    male   NaN      0      0    8.0500        S  29\n",
       "1305       NaN       1  female  39.0      0      0  108.9000        C  39\n",
       "1306       NaN       3    male  38.5      0      0    7.2500        S  38\n",
       "1307       NaN       3    male   NaN      0      0    8.0500        S  29\n",
       "1308       NaN       3    male   NaN      1      1   22.3583        C  29\n",
       "\n",
       "[1309 rows x 9 columns]"
      ]
     },
     "execution_count": 21,
     "metadata": {},
     "output_type": "execute_result"
    }
   ],
   "source": [
    "df"
   ]
  },
  {
   "cell_type": "code",
   "execution_count": 22,
   "id": "9aaa96f2",
   "metadata": {},
   "outputs": [],
   "source": [
    "df.drop(['Age'],axis = 1,inplace = True)"
   ]
  },
  {
   "cell_type": "code",
   "execution_count": 23,
   "id": "67408335",
   "metadata": {},
   "outputs": [],
   "source": [
    "df = df.rename( {0 : 'Age'},axis = 1)"
   ]
  },
  {
   "cell_type": "code",
   "execution_count": 24,
   "id": "1c358e4e",
   "metadata": {},
   "outputs": [
    {
     "data": {
      "text/plain": [
       "0    891\n",
       "1    319\n",
       "2     42\n",
       "4     22\n",
       "3     20\n",
       "8      9\n",
       "5      6\n",
       "Name: SibSp, dtype: int64"
      ]
     },
     "execution_count": 24,
     "metadata": {},
     "output_type": "execute_result"
    }
   ],
   "source": [
    "df.SibSp.value_counts()"
   ]
  },
  {
   "cell_type": "code",
   "execution_count": 25,
   "id": "1d8c519b",
   "metadata": {},
   "outputs": [
    {
     "data": {
      "text/plain": [
       "male      843\n",
       "female    466\n",
       "Name: Sex, dtype: int64"
      ]
     },
     "execution_count": 25,
     "metadata": {},
     "output_type": "execute_result"
    }
   ],
   "source": [
    "df.Sex.value_counts()"
   ]
  },
  {
   "cell_type": "code",
   "execution_count": 26,
   "id": "ce5ff424",
   "metadata": {},
   "outputs": [
    {
     "data": {
      "text/html": [
       "<div>\n",
       "<style scoped>\n",
       "    .dataframe tbody tr th:only-of-type {\n",
       "        vertical-align: middle;\n",
       "    }\n",
       "\n",
       "    .dataframe tbody tr th {\n",
       "        vertical-align: top;\n",
       "    }\n",
       "\n",
       "    .dataframe thead th {\n",
       "        text-align: right;\n",
       "    }\n",
       "</style>\n",
       "<table border=\"1\" class=\"dataframe\">\n",
       "  <thead>\n",
       "    <tr style=\"text-align: right;\">\n",
       "      <th></th>\n",
       "      <th>Survived</th>\n",
       "      <th>Pclass</th>\n",
       "      <th>Sex</th>\n",
       "      <th>SibSp</th>\n",
       "      <th>Parch</th>\n",
       "      <th>Fare</th>\n",
       "      <th>Embarked</th>\n",
       "      <th>Age</th>\n",
       "    </tr>\n",
       "  </thead>\n",
       "  <tbody>\n",
       "    <tr>\n",
       "      <th>0</th>\n",
       "      <td>0.0</td>\n",
       "      <td>3</td>\n",
       "      <td>male</td>\n",
       "      <td>1</td>\n",
       "      <td>0</td>\n",
       "      <td>7.2500</td>\n",
       "      <td>S</td>\n",
       "      <td>22</td>\n",
       "    </tr>\n",
       "    <tr>\n",
       "      <th>1</th>\n",
       "      <td>1.0</td>\n",
       "      <td>1</td>\n",
       "      <td>female</td>\n",
       "      <td>1</td>\n",
       "      <td>0</td>\n",
       "      <td>71.2833</td>\n",
       "      <td>C</td>\n",
       "      <td>38</td>\n",
       "    </tr>\n",
       "    <tr>\n",
       "      <th>2</th>\n",
       "      <td>1.0</td>\n",
       "      <td>3</td>\n",
       "      <td>female</td>\n",
       "      <td>0</td>\n",
       "      <td>0</td>\n",
       "      <td>7.9250</td>\n",
       "      <td>S</td>\n",
       "      <td>26</td>\n",
       "    </tr>\n",
       "    <tr>\n",
       "      <th>3</th>\n",
       "      <td>1.0</td>\n",
       "      <td>1</td>\n",
       "      <td>female</td>\n",
       "      <td>1</td>\n",
       "      <td>0</td>\n",
       "      <td>53.1000</td>\n",
       "      <td>S</td>\n",
       "      <td>35</td>\n",
       "    </tr>\n",
       "    <tr>\n",
       "      <th>4</th>\n",
       "      <td>0.0</td>\n",
       "      <td>3</td>\n",
       "      <td>male</td>\n",
       "      <td>0</td>\n",
       "      <td>0</td>\n",
       "      <td>8.0500</td>\n",
       "      <td>S</td>\n",
       "      <td>35</td>\n",
       "    </tr>\n",
       "    <tr>\n",
       "      <th>...</th>\n",
       "      <td>...</td>\n",
       "      <td>...</td>\n",
       "      <td>...</td>\n",
       "      <td>...</td>\n",
       "      <td>...</td>\n",
       "      <td>...</td>\n",
       "      <td>...</td>\n",
       "      <td>...</td>\n",
       "    </tr>\n",
       "    <tr>\n",
       "      <th>1304</th>\n",
       "      <td>NaN</td>\n",
       "      <td>3</td>\n",
       "      <td>male</td>\n",
       "      <td>0</td>\n",
       "      <td>0</td>\n",
       "      <td>8.0500</td>\n",
       "      <td>S</td>\n",
       "      <td>29</td>\n",
       "    </tr>\n",
       "    <tr>\n",
       "      <th>1305</th>\n",
       "      <td>NaN</td>\n",
       "      <td>1</td>\n",
       "      <td>female</td>\n",
       "      <td>0</td>\n",
       "      <td>0</td>\n",
       "      <td>108.9000</td>\n",
       "      <td>C</td>\n",
       "      <td>39</td>\n",
       "    </tr>\n",
       "    <tr>\n",
       "      <th>1306</th>\n",
       "      <td>NaN</td>\n",
       "      <td>3</td>\n",
       "      <td>male</td>\n",
       "      <td>0</td>\n",
       "      <td>0</td>\n",
       "      <td>7.2500</td>\n",
       "      <td>S</td>\n",
       "      <td>38</td>\n",
       "    </tr>\n",
       "    <tr>\n",
       "      <th>1307</th>\n",
       "      <td>NaN</td>\n",
       "      <td>3</td>\n",
       "      <td>male</td>\n",
       "      <td>0</td>\n",
       "      <td>0</td>\n",
       "      <td>8.0500</td>\n",
       "      <td>S</td>\n",
       "      <td>29</td>\n",
       "    </tr>\n",
       "    <tr>\n",
       "      <th>1308</th>\n",
       "      <td>NaN</td>\n",
       "      <td>3</td>\n",
       "      <td>male</td>\n",
       "      <td>1</td>\n",
       "      <td>1</td>\n",
       "      <td>22.3583</td>\n",
       "      <td>C</td>\n",
       "      <td>29</td>\n",
       "    </tr>\n",
       "  </tbody>\n",
       "</table>\n",
       "<p>1309 rows × 8 columns</p>\n",
       "</div>"
      ],
      "text/plain": [
       "      Survived  Pclass     Sex  SibSp  Parch      Fare Embarked  Age\n",
       "0          0.0       3    male      1      0    7.2500        S   22\n",
       "1          1.0       1  female      1      0   71.2833        C   38\n",
       "2          1.0       3  female      0      0    7.9250        S   26\n",
       "3          1.0       1  female      1      0   53.1000        S   35\n",
       "4          0.0       3    male      0      0    8.0500        S   35\n",
       "...        ...     ...     ...    ...    ...       ...      ...  ...\n",
       "1304       NaN       3    male      0      0    8.0500        S   29\n",
       "1305       NaN       1  female      0      0  108.9000        C   39\n",
       "1306       NaN       3    male      0      0    7.2500        S   38\n",
       "1307       NaN       3    male      0      0    8.0500        S   29\n",
       "1308       NaN       3    male      1      1   22.3583        C   29\n",
       "\n",
       "[1309 rows x 8 columns]"
      ]
     },
     "execution_count": 26,
     "metadata": {},
     "output_type": "execute_result"
    }
   ],
   "source": [
    "df"
   ]
  },
  {
   "cell_type": "code",
   "execution_count": 27,
   "id": "b1f0793f",
   "metadata": {},
   "outputs": [],
   "source": [
    "df['Alone'] = df.SibSp + df.Parch"
   ]
  },
  {
   "cell_type": "code",
   "execution_count": 28,
   "id": "791e5e4f",
   "metadata": {},
   "outputs": [
    {
     "data": {
      "text/html": [
       "<div>\n",
       "<style scoped>\n",
       "    .dataframe tbody tr th:only-of-type {\n",
       "        vertical-align: middle;\n",
       "    }\n",
       "\n",
       "    .dataframe tbody tr th {\n",
       "        vertical-align: top;\n",
       "    }\n",
       "\n",
       "    .dataframe thead th {\n",
       "        text-align: right;\n",
       "    }\n",
       "</style>\n",
       "<table border=\"1\" class=\"dataframe\">\n",
       "  <thead>\n",
       "    <tr style=\"text-align: right;\">\n",
       "      <th></th>\n",
       "      <th>Survived</th>\n",
       "      <th>Pclass</th>\n",
       "      <th>Sex</th>\n",
       "      <th>SibSp</th>\n",
       "      <th>Parch</th>\n",
       "      <th>Fare</th>\n",
       "      <th>Embarked</th>\n",
       "      <th>Age</th>\n",
       "      <th>Alone</th>\n",
       "    </tr>\n",
       "  </thead>\n",
       "  <tbody>\n",
       "    <tr>\n",
       "      <th>0</th>\n",
       "      <td>0.0</td>\n",
       "      <td>3</td>\n",
       "      <td>male</td>\n",
       "      <td>1</td>\n",
       "      <td>0</td>\n",
       "      <td>7.2500</td>\n",
       "      <td>S</td>\n",
       "      <td>22</td>\n",
       "      <td>1</td>\n",
       "    </tr>\n",
       "    <tr>\n",
       "      <th>1</th>\n",
       "      <td>1.0</td>\n",
       "      <td>1</td>\n",
       "      <td>female</td>\n",
       "      <td>1</td>\n",
       "      <td>0</td>\n",
       "      <td>71.2833</td>\n",
       "      <td>C</td>\n",
       "      <td>38</td>\n",
       "      <td>1</td>\n",
       "    </tr>\n",
       "    <tr>\n",
       "      <th>2</th>\n",
       "      <td>1.0</td>\n",
       "      <td>3</td>\n",
       "      <td>female</td>\n",
       "      <td>0</td>\n",
       "      <td>0</td>\n",
       "      <td>7.9250</td>\n",
       "      <td>S</td>\n",
       "      <td>26</td>\n",
       "      <td>0</td>\n",
       "    </tr>\n",
       "    <tr>\n",
       "      <th>3</th>\n",
       "      <td>1.0</td>\n",
       "      <td>1</td>\n",
       "      <td>female</td>\n",
       "      <td>1</td>\n",
       "      <td>0</td>\n",
       "      <td>53.1000</td>\n",
       "      <td>S</td>\n",
       "      <td>35</td>\n",
       "      <td>1</td>\n",
       "    </tr>\n",
       "    <tr>\n",
       "      <th>4</th>\n",
       "      <td>0.0</td>\n",
       "      <td>3</td>\n",
       "      <td>male</td>\n",
       "      <td>0</td>\n",
       "      <td>0</td>\n",
       "      <td>8.0500</td>\n",
       "      <td>S</td>\n",
       "      <td>35</td>\n",
       "      <td>0</td>\n",
       "    </tr>\n",
       "  </tbody>\n",
       "</table>\n",
       "</div>"
      ],
      "text/plain": [
       "   Survived  Pclass     Sex  SibSp  Parch     Fare Embarked  Age  Alone\n",
       "0       0.0       3    male      1      0   7.2500        S   22      1\n",
       "1       1.0       1  female      1      0  71.2833        C   38      1\n",
       "2       1.0       3  female      0      0   7.9250        S   26      0\n",
       "3       1.0       1  female      1      0  53.1000        S   35      1\n",
       "4       0.0       3    male      0      0   8.0500        S   35      0"
      ]
     },
     "execution_count": 28,
     "metadata": {},
     "output_type": "execute_result"
    }
   ],
   "source": [
    "df.head()"
   ]
  },
  {
   "cell_type": "code",
   "execution_count": 29,
   "id": "fda25247",
   "metadata": {},
   "outputs": [],
   "source": [
    "df.drop(['SibSp','Parch'],axis=1,inplace = True)"
   ]
  },
  {
   "cell_type": "code",
   "execution_count": 30,
   "id": "f135af71",
   "metadata": {},
   "outputs": [
    {
     "data": {
      "text/html": [
       "<div>\n",
       "<style scoped>\n",
       "    .dataframe tbody tr th:only-of-type {\n",
       "        vertical-align: middle;\n",
       "    }\n",
       "\n",
       "    .dataframe tbody tr th {\n",
       "        vertical-align: top;\n",
       "    }\n",
       "\n",
       "    .dataframe thead th {\n",
       "        text-align: right;\n",
       "    }\n",
       "</style>\n",
       "<table border=\"1\" class=\"dataframe\">\n",
       "  <thead>\n",
       "    <tr style=\"text-align: right;\">\n",
       "      <th></th>\n",
       "      <th>Survived</th>\n",
       "      <th>Pclass</th>\n",
       "      <th>Sex</th>\n",
       "      <th>Fare</th>\n",
       "      <th>Embarked</th>\n",
       "      <th>Age</th>\n",
       "      <th>Alone</th>\n",
       "    </tr>\n",
       "  </thead>\n",
       "  <tbody>\n",
       "    <tr>\n",
       "      <th>0</th>\n",
       "      <td>0.0</td>\n",
       "      <td>3</td>\n",
       "      <td>male</td>\n",
       "      <td>7.2500</td>\n",
       "      <td>S</td>\n",
       "      <td>22</td>\n",
       "      <td>1</td>\n",
       "    </tr>\n",
       "    <tr>\n",
       "      <th>1</th>\n",
       "      <td>1.0</td>\n",
       "      <td>1</td>\n",
       "      <td>female</td>\n",
       "      <td>71.2833</td>\n",
       "      <td>C</td>\n",
       "      <td>38</td>\n",
       "      <td>1</td>\n",
       "    </tr>\n",
       "    <tr>\n",
       "      <th>2</th>\n",
       "      <td>1.0</td>\n",
       "      <td>3</td>\n",
       "      <td>female</td>\n",
       "      <td>7.9250</td>\n",
       "      <td>S</td>\n",
       "      <td>26</td>\n",
       "      <td>0</td>\n",
       "    </tr>\n",
       "    <tr>\n",
       "      <th>3</th>\n",
       "      <td>1.0</td>\n",
       "      <td>1</td>\n",
       "      <td>female</td>\n",
       "      <td>53.1000</td>\n",
       "      <td>S</td>\n",
       "      <td>35</td>\n",
       "      <td>1</td>\n",
       "    </tr>\n",
       "    <tr>\n",
       "      <th>4</th>\n",
       "      <td>0.0</td>\n",
       "      <td>3</td>\n",
       "      <td>male</td>\n",
       "      <td>8.0500</td>\n",
       "      <td>S</td>\n",
       "      <td>35</td>\n",
       "      <td>0</td>\n",
       "    </tr>\n",
       "  </tbody>\n",
       "</table>\n",
       "</div>"
      ],
      "text/plain": [
       "   Survived  Pclass     Sex     Fare Embarked  Age  Alone\n",
       "0       0.0       3    male   7.2500        S   22      1\n",
       "1       1.0       1  female  71.2833        C   38      1\n",
       "2       1.0       3  female   7.9250        S   26      0\n",
       "3       1.0       1  female  53.1000        S   35      1\n",
       "4       0.0       3    male   8.0500        S   35      0"
      ]
     },
     "execution_count": 30,
     "metadata": {},
     "output_type": "execute_result"
    }
   ],
   "source": [
    "df.head()"
   ]
  },
  {
   "cell_type": "code",
   "execution_count": 31,
   "id": "35e26c4c",
   "metadata": {},
   "outputs": [],
   "source": [
    "from sklearn.preprocessing import OneHotEncoder\n",
    "onehot = OneHotEncoder()\n",
    "new_sex = pd.DataFrame(onehot.fit_transform(df[['Sex']]).toarray().astype('int'))"
   ]
  },
  {
   "cell_type": "code",
   "execution_count": 32,
   "id": "6f4366d0",
   "metadata": {},
   "outputs": [
    {
     "data": {
      "text/html": [
       "<div>\n",
       "<style scoped>\n",
       "    .dataframe tbody tr th:only-of-type {\n",
       "        vertical-align: middle;\n",
       "    }\n",
       "\n",
       "    .dataframe tbody tr th {\n",
       "        vertical-align: top;\n",
       "    }\n",
       "\n",
       "    .dataframe thead th {\n",
       "        text-align: right;\n",
       "    }\n",
       "</style>\n",
       "<table border=\"1\" class=\"dataframe\">\n",
       "  <thead>\n",
       "    <tr style=\"text-align: right;\">\n",
       "      <th></th>\n",
       "      <th>0</th>\n",
       "      <th>1</th>\n",
       "    </tr>\n",
       "  </thead>\n",
       "  <tbody>\n",
       "    <tr>\n",
       "      <th>0</th>\n",
       "      <td>0</td>\n",
       "      <td>1</td>\n",
       "    </tr>\n",
       "    <tr>\n",
       "      <th>1</th>\n",
       "      <td>1</td>\n",
       "      <td>0</td>\n",
       "    </tr>\n",
       "    <tr>\n",
       "      <th>2</th>\n",
       "      <td>1</td>\n",
       "      <td>0</td>\n",
       "    </tr>\n",
       "    <tr>\n",
       "      <th>3</th>\n",
       "      <td>1</td>\n",
       "      <td>0</td>\n",
       "    </tr>\n",
       "    <tr>\n",
       "      <th>4</th>\n",
       "      <td>0</td>\n",
       "      <td>1</td>\n",
       "    </tr>\n",
       "    <tr>\n",
       "      <th>...</th>\n",
       "      <td>...</td>\n",
       "      <td>...</td>\n",
       "    </tr>\n",
       "    <tr>\n",
       "      <th>1304</th>\n",
       "      <td>0</td>\n",
       "      <td>1</td>\n",
       "    </tr>\n",
       "    <tr>\n",
       "      <th>1305</th>\n",
       "      <td>1</td>\n",
       "      <td>0</td>\n",
       "    </tr>\n",
       "    <tr>\n",
       "      <th>1306</th>\n",
       "      <td>0</td>\n",
       "      <td>1</td>\n",
       "    </tr>\n",
       "    <tr>\n",
       "      <th>1307</th>\n",
       "      <td>0</td>\n",
       "      <td>1</td>\n",
       "    </tr>\n",
       "    <tr>\n",
       "      <th>1308</th>\n",
       "      <td>0</td>\n",
       "      <td>1</td>\n",
       "    </tr>\n",
       "  </tbody>\n",
       "</table>\n",
       "<p>1309 rows × 2 columns</p>\n",
       "</div>"
      ],
      "text/plain": [
       "      0  1\n",
       "0     0  1\n",
       "1     1  0\n",
       "2     1  0\n",
       "3     1  0\n",
       "4     0  1\n",
       "...  .. ..\n",
       "1304  0  1\n",
       "1305  1  0\n",
       "1306  0  1\n",
       "1307  0  1\n",
       "1308  0  1\n",
       "\n",
       "[1309 rows x 2 columns]"
      ]
     },
     "execution_count": 32,
     "metadata": {},
     "output_type": "execute_result"
    }
   ],
   "source": [
    "new_sex"
   ]
  },
  {
   "cell_type": "code",
   "execution_count": 33,
   "id": "15747b09",
   "metadata": {},
   "outputs": [],
   "source": [
    "df = df.join(new_sex)"
   ]
  },
  {
   "cell_type": "code",
   "execution_count": 34,
   "id": "63c8f34e",
   "metadata": {},
   "outputs": [],
   "source": [
    "df.rename(columns={0: 'Female' , 1: 'Male'} , inplace = True)"
   ]
  },
  {
   "cell_type": "code",
   "execution_count": 35,
   "id": "3887d835",
   "metadata": {},
   "outputs": [
    {
     "data": {
      "text/html": [
       "<div>\n",
       "<style scoped>\n",
       "    .dataframe tbody tr th:only-of-type {\n",
       "        vertical-align: middle;\n",
       "    }\n",
       "\n",
       "    .dataframe tbody tr th {\n",
       "        vertical-align: top;\n",
       "    }\n",
       "\n",
       "    .dataframe thead th {\n",
       "        text-align: right;\n",
       "    }\n",
       "</style>\n",
       "<table border=\"1\" class=\"dataframe\">\n",
       "  <thead>\n",
       "    <tr style=\"text-align: right;\">\n",
       "      <th></th>\n",
       "      <th>Survived</th>\n",
       "      <th>Pclass</th>\n",
       "      <th>Sex</th>\n",
       "      <th>Fare</th>\n",
       "      <th>Embarked</th>\n",
       "      <th>Age</th>\n",
       "      <th>Alone</th>\n",
       "      <th>Female</th>\n",
       "      <th>Male</th>\n",
       "    </tr>\n",
       "  </thead>\n",
       "  <tbody>\n",
       "    <tr>\n",
       "      <th>0</th>\n",
       "      <td>0.0</td>\n",
       "      <td>3</td>\n",
       "      <td>male</td>\n",
       "      <td>7.2500</td>\n",
       "      <td>S</td>\n",
       "      <td>22</td>\n",
       "      <td>1</td>\n",
       "      <td>0</td>\n",
       "      <td>1</td>\n",
       "    </tr>\n",
       "    <tr>\n",
       "      <th>1</th>\n",
       "      <td>1.0</td>\n",
       "      <td>1</td>\n",
       "      <td>female</td>\n",
       "      <td>71.2833</td>\n",
       "      <td>C</td>\n",
       "      <td>38</td>\n",
       "      <td>1</td>\n",
       "      <td>1</td>\n",
       "      <td>0</td>\n",
       "    </tr>\n",
       "    <tr>\n",
       "      <th>2</th>\n",
       "      <td>1.0</td>\n",
       "      <td>3</td>\n",
       "      <td>female</td>\n",
       "      <td>7.9250</td>\n",
       "      <td>S</td>\n",
       "      <td>26</td>\n",
       "      <td>0</td>\n",
       "      <td>1</td>\n",
       "      <td>0</td>\n",
       "    </tr>\n",
       "    <tr>\n",
       "      <th>3</th>\n",
       "      <td>1.0</td>\n",
       "      <td>1</td>\n",
       "      <td>female</td>\n",
       "      <td>53.1000</td>\n",
       "      <td>S</td>\n",
       "      <td>35</td>\n",
       "      <td>1</td>\n",
       "      <td>1</td>\n",
       "      <td>0</td>\n",
       "    </tr>\n",
       "    <tr>\n",
       "      <th>4</th>\n",
       "      <td>0.0</td>\n",
       "      <td>3</td>\n",
       "      <td>male</td>\n",
       "      <td>8.0500</td>\n",
       "      <td>S</td>\n",
       "      <td>35</td>\n",
       "      <td>0</td>\n",
       "      <td>0</td>\n",
       "      <td>1</td>\n",
       "    </tr>\n",
       "  </tbody>\n",
       "</table>\n",
       "</div>"
      ],
      "text/plain": [
       "   Survived  Pclass     Sex     Fare Embarked  Age  Alone  Female  Male\n",
       "0       0.0       3    male   7.2500        S   22      1       0     1\n",
       "1       1.0       1  female  71.2833        C   38      1       1     0\n",
       "2       1.0       3  female   7.9250        S   26      0       1     0\n",
       "3       1.0       1  female  53.1000        S   35      1       1     0\n",
       "4       0.0       3    male   8.0500        S   35      0       0     1"
      ]
     },
     "execution_count": 35,
     "metadata": {},
     "output_type": "execute_result"
    }
   ],
   "source": [
    "df.head()"
   ]
  },
  {
   "cell_type": "code",
   "execution_count": 36,
   "id": "61b145da",
   "metadata": {},
   "outputs": [],
   "source": [
    "df.drop(['Sex'],axis = 1 , inplace = True)"
   ]
  },
  {
   "cell_type": "code",
   "execution_count": 37,
   "id": "9514d71b",
   "metadata": {},
   "outputs": [
    {
     "data": {
      "text/html": [
       "<div>\n",
       "<style scoped>\n",
       "    .dataframe tbody tr th:only-of-type {\n",
       "        vertical-align: middle;\n",
       "    }\n",
       "\n",
       "    .dataframe tbody tr th {\n",
       "        vertical-align: top;\n",
       "    }\n",
       "\n",
       "    .dataframe thead th {\n",
       "        text-align: right;\n",
       "    }\n",
       "</style>\n",
       "<table border=\"1\" class=\"dataframe\">\n",
       "  <thead>\n",
       "    <tr style=\"text-align: right;\">\n",
       "      <th></th>\n",
       "      <th>Survived</th>\n",
       "      <th>Pclass</th>\n",
       "      <th>Fare</th>\n",
       "      <th>Embarked</th>\n",
       "      <th>Age</th>\n",
       "      <th>Alone</th>\n",
       "      <th>Female</th>\n",
       "      <th>Male</th>\n",
       "    </tr>\n",
       "  </thead>\n",
       "  <tbody>\n",
       "    <tr>\n",
       "      <th>0</th>\n",
       "      <td>0.0</td>\n",
       "      <td>3</td>\n",
       "      <td>7.2500</td>\n",
       "      <td>S</td>\n",
       "      <td>22</td>\n",
       "      <td>1</td>\n",
       "      <td>0</td>\n",
       "      <td>1</td>\n",
       "    </tr>\n",
       "    <tr>\n",
       "      <th>1</th>\n",
       "      <td>1.0</td>\n",
       "      <td>1</td>\n",
       "      <td>71.2833</td>\n",
       "      <td>C</td>\n",
       "      <td>38</td>\n",
       "      <td>1</td>\n",
       "      <td>1</td>\n",
       "      <td>0</td>\n",
       "    </tr>\n",
       "    <tr>\n",
       "      <th>2</th>\n",
       "      <td>1.0</td>\n",
       "      <td>3</td>\n",
       "      <td>7.9250</td>\n",
       "      <td>S</td>\n",
       "      <td>26</td>\n",
       "      <td>0</td>\n",
       "      <td>1</td>\n",
       "      <td>0</td>\n",
       "    </tr>\n",
       "    <tr>\n",
       "      <th>3</th>\n",
       "      <td>1.0</td>\n",
       "      <td>1</td>\n",
       "      <td>53.1000</td>\n",
       "      <td>S</td>\n",
       "      <td>35</td>\n",
       "      <td>1</td>\n",
       "      <td>1</td>\n",
       "      <td>0</td>\n",
       "    </tr>\n",
       "    <tr>\n",
       "      <th>4</th>\n",
       "      <td>0.0</td>\n",
       "      <td>3</td>\n",
       "      <td>8.0500</td>\n",
       "      <td>S</td>\n",
       "      <td>35</td>\n",
       "      <td>0</td>\n",
       "      <td>0</td>\n",
       "      <td>1</td>\n",
       "    </tr>\n",
       "  </tbody>\n",
       "</table>\n",
       "</div>"
      ],
      "text/plain": [
       "   Survived  Pclass     Fare Embarked  Age  Alone  Female  Male\n",
       "0       0.0       3   7.2500        S   22      1       0     1\n",
       "1       1.0       1  71.2833        C   38      1       1     0\n",
       "2       1.0       3   7.9250        S   26      0       1     0\n",
       "3       1.0       1  53.1000        S   35      1       1     0\n",
       "4       0.0       3   8.0500        S   35      0       0     1"
      ]
     },
     "execution_count": 37,
     "metadata": {},
     "output_type": "execute_result"
    }
   ],
   "source": [
    "df.head()"
   ]
  },
  {
   "cell_type": "code",
   "execution_count": 38,
   "id": "d9b3d328",
   "metadata": {},
   "outputs": [
    {
     "data": {
      "text/html": [
       "<div>\n",
       "<style scoped>\n",
       "    .dataframe tbody tr th:only-of-type {\n",
       "        vertical-align: middle;\n",
       "    }\n",
       "\n",
       "    .dataframe tbody tr th {\n",
       "        vertical-align: top;\n",
       "    }\n",
       "\n",
       "    .dataframe thead th {\n",
       "        text-align: right;\n",
       "    }\n",
       "</style>\n",
       "<table border=\"1\" class=\"dataframe\">\n",
       "  <thead>\n",
       "    <tr style=\"text-align: right;\">\n",
       "      <th></th>\n",
       "      <th>Survived</th>\n",
       "      <th>Pclass</th>\n",
       "      <th>Fare</th>\n",
       "      <th>Embarked</th>\n",
       "      <th>Age</th>\n",
       "      <th>Alone</th>\n",
       "      <th>Female</th>\n",
       "      <th>Male</th>\n",
       "    </tr>\n",
       "  </thead>\n",
       "  <tbody>\n",
       "    <tr>\n",
       "      <th>0</th>\n",
       "      <td>0.0</td>\n",
       "      <td>3</td>\n",
       "      <td>7.2500</td>\n",
       "      <td>S</td>\n",
       "      <td>22</td>\n",
       "      <td>1</td>\n",
       "      <td>0</td>\n",
       "      <td>1</td>\n",
       "    </tr>\n",
       "    <tr>\n",
       "      <th>1</th>\n",
       "      <td>1.0</td>\n",
       "      <td>1</td>\n",
       "      <td>71.2833</td>\n",
       "      <td>C</td>\n",
       "      <td>38</td>\n",
       "      <td>1</td>\n",
       "      <td>1</td>\n",
       "      <td>0</td>\n",
       "    </tr>\n",
       "    <tr>\n",
       "      <th>2</th>\n",
       "      <td>1.0</td>\n",
       "      <td>3</td>\n",
       "      <td>7.9250</td>\n",
       "      <td>S</td>\n",
       "      <td>26</td>\n",
       "      <td>0</td>\n",
       "      <td>1</td>\n",
       "      <td>0</td>\n",
       "    </tr>\n",
       "    <tr>\n",
       "      <th>3</th>\n",
       "      <td>1.0</td>\n",
       "      <td>1</td>\n",
       "      <td>53.1000</td>\n",
       "      <td>S</td>\n",
       "      <td>35</td>\n",
       "      <td>1</td>\n",
       "      <td>1</td>\n",
       "      <td>0</td>\n",
       "    </tr>\n",
       "    <tr>\n",
       "      <th>4</th>\n",
       "      <td>0.0</td>\n",
       "      <td>3</td>\n",
       "      <td>8.0500</td>\n",
       "      <td>S</td>\n",
       "      <td>35</td>\n",
       "      <td>0</td>\n",
       "      <td>0</td>\n",
       "      <td>1</td>\n",
       "    </tr>\n",
       "  </tbody>\n",
       "</table>\n",
       "</div>"
      ],
      "text/plain": [
       "   Survived  Pclass     Fare Embarked  Age  Alone  Female  Male\n",
       "0       0.0       3   7.2500        S   22      1       0     1\n",
       "1       1.0       1  71.2833        C   38      1       1     0\n",
       "2       1.0       3   7.9250        S   26      0       1     0\n",
       "3       1.0       1  53.1000        S   35      1       1     0\n",
       "4       0.0       3   8.0500        S   35      0       0     1"
      ]
     },
     "execution_count": 38,
     "metadata": {},
     "output_type": "execute_result"
    }
   ],
   "source": [
    "df.head()"
   ]
  },
  {
   "cell_type": "code",
   "execution_count": 39,
   "id": "ee0edf36",
   "metadata": {},
   "outputs": [
    {
     "data": {
      "text/plain": [
       "S    914\n",
       "C    270\n",
       "Q    123\n",
       "Name: Embarked, dtype: int64"
      ]
     },
     "execution_count": 39,
     "metadata": {},
     "output_type": "execute_result"
    }
   ],
   "source": [
    "df.Embarked.value_counts()"
   ]
  },
  {
   "cell_type": "code",
   "execution_count": 40,
   "id": "084eca31",
   "metadata": {},
   "outputs": [
    {
     "data": {
      "text/plain": [
       "2"
      ]
     },
     "execution_count": 40,
     "metadata": {},
     "output_type": "execute_result"
    }
   ],
   "source": [
    "df.Embarked.isna().sum()"
   ]
  },
  {
   "cell_type": "code",
   "execution_count": 41,
   "id": "549626e6",
   "metadata": {},
   "outputs": [
    {
     "data": {
      "text/plain": [
       "Survived    418\n",
       "Pclass        0\n",
       "Fare          1\n",
       "Embarked      2\n",
       "Age           0\n",
       "Alone         0\n",
       "Female        0\n",
       "Male          0\n",
       "dtype: int64"
      ]
     },
     "execution_count": 41,
     "metadata": {},
     "output_type": "execute_result"
    }
   ],
   "source": [
    "df.isna().sum()"
   ]
  },
  {
   "cell_type": "code",
   "execution_count": 42,
   "id": "efa8170f",
   "metadata": {},
   "outputs": [],
   "source": [
    "df = df.dropna()"
   ]
  },
  {
   "cell_type": "code",
   "execution_count": 43,
   "id": "af18cb8b",
   "metadata": {},
   "outputs": [],
   "source": [
    "from sklearn.preprocessing import OneHotEncoder\n",
    "\n",
    "onehot = OneHotEncoder()\n",
    "\n",
    "temp = pd.DataFrame(onehot.fit_transform(df[['Embarked']]).toarray().astype('int') , columns=['C','Q','S'])"
   ]
  },
  {
   "cell_type": "code",
   "execution_count": 44,
   "id": "6d57a551",
   "metadata": {},
   "outputs": [],
   "source": [
    "df = df.join(temp)"
   ]
  },
  {
   "cell_type": "code",
   "execution_count": 45,
   "id": "d6417a56",
   "metadata": {},
   "outputs": [],
   "source": [
    "df.drop(['Embarked'],axis = 1 , inplace = True)"
   ]
  },
  {
   "cell_type": "code",
   "execution_count": 46,
   "id": "d412c63c",
   "metadata": {},
   "outputs": [],
   "source": [
    "df = df.dropna()"
   ]
  },
  {
   "cell_type": "code",
   "execution_count": 47,
   "id": "c057d41d",
   "metadata": {},
   "outputs": [
    {
     "data": {
      "text/html": [
       "<div>\n",
       "<style scoped>\n",
       "    .dataframe tbody tr th:only-of-type {\n",
       "        vertical-align: middle;\n",
       "    }\n",
       "\n",
       "    .dataframe tbody tr th {\n",
       "        vertical-align: top;\n",
       "    }\n",
       "\n",
       "    .dataframe thead th {\n",
       "        text-align: right;\n",
       "    }\n",
       "</style>\n",
       "<table border=\"1\" class=\"dataframe\">\n",
       "  <thead>\n",
       "    <tr style=\"text-align: right;\">\n",
       "      <th></th>\n",
       "      <th>Survived</th>\n",
       "      <th>Pclass</th>\n",
       "      <th>Fare</th>\n",
       "      <th>Age</th>\n",
       "      <th>Alone</th>\n",
       "      <th>Female</th>\n",
       "      <th>Male</th>\n",
       "      <th>C</th>\n",
       "      <th>Q</th>\n",
       "      <th>S</th>\n",
       "    </tr>\n",
       "  </thead>\n",
       "  <tbody>\n",
       "    <tr>\n",
       "      <th>0</th>\n",
       "      <td>0.0</td>\n",
       "      <td>3</td>\n",
       "      <td>7.2500</td>\n",
       "      <td>22</td>\n",
       "      <td>1</td>\n",
       "      <td>0</td>\n",
       "      <td>1</td>\n",
       "      <td>0.0</td>\n",
       "      <td>0.0</td>\n",
       "      <td>1.0</td>\n",
       "    </tr>\n",
       "    <tr>\n",
       "      <th>1</th>\n",
       "      <td>1.0</td>\n",
       "      <td>1</td>\n",
       "      <td>71.2833</td>\n",
       "      <td>38</td>\n",
       "      <td>1</td>\n",
       "      <td>1</td>\n",
       "      <td>0</td>\n",
       "      <td>1.0</td>\n",
       "      <td>0.0</td>\n",
       "      <td>0.0</td>\n",
       "    </tr>\n",
       "    <tr>\n",
       "      <th>2</th>\n",
       "      <td>1.0</td>\n",
       "      <td>3</td>\n",
       "      <td>7.9250</td>\n",
       "      <td>26</td>\n",
       "      <td>0</td>\n",
       "      <td>1</td>\n",
       "      <td>0</td>\n",
       "      <td>0.0</td>\n",
       "      <td>0.0</td>\n",
       "      <td>1.0</td>\n",
       "    </tr>\n",
       "    <tr>\n",
       "      <th>3</th>\n",
       "      <td>1.0</td>\n",
       "      <td>1</td>\n",
       "      <td>53.1000</td>\n",
       "      <td>35</td>\n",
       "      <td>1</td>\n",
       "      <td>1</td>\n",
       "      <td>0</td>\n",
       "      <td>0.0</td>\n",
       "      <td>0.0</td>\n",
       "      <td>1.0</td>\n",
       "    </tr>\n",
       "    <tr>\n",
       "      <th>4</th>\n",
       "      <td>0.0</td>\n",
       "      <td>3</td>\n",
       "      <td>8.0500</td>\n",
       "      <td>35</td>\n",
       "      <td>0</td>\n",
       "      <td>0</td>\n",
       "      <td>1</td>\n",
       "      <td>0.0</td>\n",
       "      <td>0.0</td>\n",
       "      <td>1.0</td>\n",
       "    </tr>\n",
       "  </tbody>\n",
       "</table>\n",
       "</div>"
      ],
      "text/plain": [
       "   Survived  Pclass     Fare  Age  Alone  Female  Male    C    Q    S\n",
       "0       0.0       3   7.2500   22      1       0     1  0.0  0.0  1.0\n",
       "1       1.0       1  71.2833   38      1       1     0  1.0  0.0  0.0\n",
       "2       1.0       3   7.9250   26      0       1     0  0.0  0.0  1.0\n",
       "3       1.0       1  53.1000   35      1       1     0  0.0  0.0  1.0\n",
       "4       0.0       3   8.0500   35      0       0     1  0.0  0.0  1.0"
      ]
     },
     "execution_count": 47,
     "metadata": {},
     "output_type": "execute_result"
    }
   ],
   "source": [
    "df.head()"
   ]
  },
  {
   "cell_type": "code",
   "execution_count": 48,
   "id": "4848da62",
   "metadata": {},
   "outputs": [
    {
     "data": {
      "text/plain": [
       "Survived    0\n",
       "Pclass      0\n",
       "Fare        0\n",
       "Age         0\n",
       "Alone       0\n",
       "Female      0\n",
       "Male        0\n",
       "C           0\n",
       "Q           0\n",
       "S           0\n",
       "dtype: int64"
      ]
     },
     "execution_count": 48,
     "metadata": {},
     "output_type": "execute_result"
    }
   ],
   "source": [
    "df.isna().sum()"
   ]
  },
  {
   "cell_type": "code",
   "execution_count": 49,
   "id": "47204635",
   "metadata": {},
   "outputs": [],
   "source": [
    "df1 = df.copy()"
   ]
  },
  {
   "cell_type": "code",
   "execution_count": 50,
   "id": "dc249278",
   "metadata": {},
   "outputs": [],
   "source": [
    "df1.drop(['Survived'],axis = 1,inplace = True)"
   ]
  },
  {
   "cell_type": "code",
   "execution_count": 51,
   "id": "769dcc73",
   "metadata": {},
   "outputs": [
    {
     "data": {
      "text/html": [
       "<div>\n",
       "<style scoped>\n",
       "    .dataframe tbody tr th:only-of-type {\n",
       "        vertical-align: middle;\n",
       "    }\n",
       "\n",
       "    .dataframe tbody tr th {\n",
       "        vertical-align: top;\n",
       "    }\n",
       "\n",
       "    .dataframe thead th {\n",
       "        text-align: right;\n",
       "    }\n",
       "</style>\n",
       "<table border=\"1\" class=\"dataframe\">\n",
       "  <thead>\n",
       "    <tr style=\"text-align: right;\">\n",
       "      <th></th>\n",
       "      <th>Pclass</th>\n",
       "      <th>Fare</th>\n",
       "      <th>Age</th>\n",
       "      <th>Alone</th>\n",
       "      <th>Female</th>\n",
       "      <th>Male</th>\n",
       "      <th>C</th>\n",
       "      <th>Q</th>\n",
       "      <th>S</th>\n",
       "    </tr>\n",
       "  </thead>\n",
       "  <tbody>\n",
       "    <tr>\n",
       "      <th>0</th>\n",
       "      <td>3</td>\n",
       "      <td>7.2500</td>\n",
       "      <td>22</td>\n",
       "      <td>1</td>\n",
       "      <td>0</td>\n",
       "      <td>1</td>\n",
       "      <td>0.0</td>\n",
       "      <td>0.0</td>\n",
       "      <td>1.0</td>\n",
       "    </tr>\n",
       "    <tr>\n",
       "      <th>1</th>\n",
       "      <td>1</td>\n",
       "      <td>71.2833</td>\n",
       "      <td>38</td>\n",
       "      <td>1</td>\n",
       "      <td>1</td>\n",
       "      <td>0</td>\n",
       "      <td>1.0</td>\n",
       "      <td>0.0</td>\n",
       "      <td>0.0</td>\n",
       "    </tr>\n",
       "    <tr>\n",
       "      <th>2</th>\n",
       "      <td>3</td>\n",
       "      <td>7.9250</td>\n",
       "      <td>26</td>\n",
       "      <td>0</td>\n",
       "      <td>1</td>\n",
       "      <td>0</td>\n",
       "      <td>0.0</td>\n",
       "      <td>0.0</td>\n",
       "      <td>1.0</td>\n",
       "    </tr>\n",
       "    <tr>\n",
       "      <th>3</th>\n",
       "      <td>1</td>\n",
       "      <td>53.1000</td>\n",
       "      <td>35</td>\n",
       "      <td>1</td>\n",
       "      <td>1</td>\n",
       "      <td>0</td>\n",
       "      <td>0.0</td>\n",
       "      <td>0.0</td>\n",
       "      <td>1.0</td>\n",
       "    </tr>\n",
       "    <tr>\n",
       "      <th>4</th>\n",
       "      <td>3</td>\n",
       "      <td>8.0500</td>\n",
       "      <td>35</td>\n",
       "      <td>0</td>\n",
       "      <td>0</td>\n",
       "      <td>1</td>\n",
       "      <td>0.0</td>\n",
       "      <td>0.0</td>\n",
       "      <td>1.0</td>\n",
       "    </tr>\n",
       "  </tbody>\n",
       "</table>\n",
       "</div>"
      ],
      "text/plain": [
       "   Pclass     Fare  Age  Alone  Female  Male    C    Q    S\n",
       "0       3   7.2500   22      1       0     1  0.0  0.0  1.0\n",
       "1       1  71.2833   38      1       1     0  1.0  0.0  0.0\n",
       "2       3   7.9250   26      0       1     0  0.0  0.0  1.0\n",
       "3       1  53.1000   35      1       1     0  0.0  0.0  1.0\n",
       "4       3   8.0500   35      0       0     1  0.0  0.0  1.0"
      ]
     },
     "execution_count": 51,
     "metadata": {},
     "output_type": "execute_result"
    }
   ],
   "source": [
    "df1.head()"
   ]
  },
  {
   "cell_type": "code",
   "execution_count": 52,
   "id": "47ab679e",
   "metadata": {},
   "outputs": [],
   "source": [
    "df1 = pd.DataFrame(df1 , columns = ['C','Q','S','Pclass','Age','Alone','Male','Female','Fare'])"
   ]
  },
  {
   "cell_type": "code",
   "execution_count": 53,
   "id": "26dc6297",
   "metadata": {},
   "outputs": [
    {
     "data": {
      "text/html": [
       "<div>\n",
       "<style scoped>\n",
       "    .dataframe tbody tr th:only-of-type {\n",
       "        vertical-align: middle;\n",
       "    }\n",
       "\n",
       "    .dataframe tbody tr th {\n",
       "        vertical-align: top;\n",
       "    }\n",
       "\n",
       "    .dataframe thead th {\n",
       "        text-align: right;\n",
       "    }\n",
       "</style>\n",
       "<table border=\"1\" class=\"dataframe\">\n",
       "  <thead>\n",
       "    <tr style=\"text-align: right;\">\n",
       "      <th></th>\n",
       "      <th>C</th>\n",
       "      <th>Q</th>\n",
       "      <th>S</th>\n",
       "      <th>Pclass</th>\n",
       "      <th>Age</th>\n",
       "      <th>Alone</th>\n",
       "      <th>Male</th>\n",
       "      <th>Female</th>\n",
       "      <th>Fare</th>\n",
       "    </tr>\n",
       "  </thead>\n",
       "  <tbody>\n",
       "    <tr>\n",
       "      <th>0</th>\n",
       "      <td>0.0</td>\n",
       "      <td>0.0</td>\n",
       "      <td>1.0</td>\n",
       "      <td>3</td>\n",
       "      <td>22</td>\n",
       "      <td>1</td>\n",
       "      <td>1</td>\n",
       "      <td>0</td>\n",
       "      <td>7.2500</td>\n",
       "    </tr>\n",
       "    <tr>\n",
       "      <th>1</th>\n",
       "      <td>1.0</td>\n",
       "      <td>0.0</td>\n",
       "      <td>0.0</td>\n",
       "      <td>1</td>\n",
       "      <td>38</td>\n",
       "      <td>1</td>\n",
       "      <td>0</td>\n",
       "      <td>1</td>\n",
       "      <td>71.2833</td>\n",
       "    </tr>\n",
       "    <tr>\n",
       "      <th>2</th>\n",
       "      <td>0.0</td>\n",
       "      <td>0.0</td>\n",
       "      <td>1.0</td>\n",
       "      <td>3</td>\n",
       "      <td>26</td>\n",
       "      <td>0</td>\n",
       "      <td>0</td>\n",
       "      <td>1</td>\n",
       "      <td>7.9250</td>\n",
       "    </tr>\n",
       "    <tr>\n",
       "      <th>3</th>\n",
       "      <td>0.0</td>\n",
       "      <td>0.0</td>\n",
       "      <td>1.0</td>\n",
       "      <td>1</td>\n",
       "      <td>35</td>\n",
       "      <td>1</td>\n",
       "      <td>0</td>\n",
       "      <td>1</td>\n",
       "      <td>53.1000</td>\n",
       "    </tr>\n",
       "    <tr>\n",
       "      <th>4</th>\n",
       "      <td>0.0</td>\n",
       "      <td>0.0</td>\n",
       "      <td>1.0</td>\n",
       "      <td>3</td>\n",
       "      <td>35</td>\n",
       "      <td>0</td>\n",
       "      <td>1</td>\n",
       "      <td>0</td>\n",
       "      <td>8.0500</td>\n",
       "    </tr>\n",
       "  </tbody>\n",
       "</table>\n",
       "</div>"
      ],
      "text/plain": [
       "     C    Q    S  Pclass  Age  Alone  Male  Female     Fare\n",
       "0  0.0  0.0  1.0       3   22      1     1       0   7.2500\n",
       "1  1.0  0.0  0.0       1   38      1     0       1  71.2833\n",
       "2  0.0  0.0  1.0       3   26      0     0       1   7.9250\n",
       "3  0.0  0.0  1.0       1   35      1     0       1  53.1000\n",
       "4  0.0  0.0  1.0       3   35      0     1       0   8.0500"
      ]
     },
     "execution_count": 53,
     "metadata": {},
     "output_type": "execute_result"
    }
   ],
   "source": [
    "df1.head()"
   ]
  },
  {
   "cell_type": "code",
   "execution_count": 54,
   "id": "4257c2c3",
   "metadata": {},
   "outputs": [
    {
     "data": {
      "text/plain": [
       "Survived    0\n",
       "Pclass      0\n",
       "Fare        0\n",
       "Age         0\n",
       "Alone       0\n",
       "Female      0\n",
       "Male        0\n",
       "C           0\n",
       "Q           0\n",
       "S           0\n",
       "dtype: int64"
      ]
     },
     "execution_count": 54,
     "metadata": {},
     "output_type": "execute_result"
    }
   ],
   "source": [
    "df.isna().sum()"
   ]
  },
  {
   "cell_type": "code",
   "execution_count": 55,
   "id": "f4bc6e27",
   "metadata": {},
   "outputs": [],
   "source": [
    "x = df1.iloc[:,:-1].values\n",
    "y = df1.iloc[:,-1].values"
   ]
  },
  {
   "cell_type": "code",
   "execution_count": 56,
   "id": "193ff2c7",
   "metadata": {},
   "outputs": [],
   "source": [
    "from sklearn.model_selection import train_test_split\n",
    "\n",
    "x_train, x_test , y_train , y_test = train_test_split(x,y,test_size=0.2 , random_state = 0)"
   ]
  },
  {
   "cell_type": "markdown",
   "id": "f678eab0",
   "metadata": {},
   "source": [
    "Checking VIF factor for Multicollinearity."
   ]
  },
  {
   "cell_type": "code",
   "execution_count": 57,
   "id": "a28f06dc",
   "metadata": {},
   "outputs": [
    {
     "name": "stdout",
     "output_type": "stream",
     "text": [
      "Column  0 has VIF :  inf\n",
      "Column  1 has VIF :  inf\n",
      "Column  2 has VIF :  inf\n",
      "Column  3 has VIF :  1.6800368248276991\n",
      "Column  4 has VIF :  1.2060929230138686\n",
      "Column  5 has VIF :  1.201979750756314\n",
      "Column  6 has VIF :  inf\n",
      "Column  7 has VIF :  inf\n",
      "Column  8 has VIF :  1.5885284044339243\n"
     ]
    },
    {
     "name": "stderr",
     "output_type": "stream",
     "text": [
      "C:\\Users\\Aakash\\anaconda3\\lib\\site-packages\\statsmodels\\stats\\outliers_influence.py:195: RuntimeWarning: divide by zero encountered in double_scalars\n",
      "  vif = 1. / (1. - r_squared_i)\n"
     ]
    }
   ],
   "source": [
    "from statsmodels.stats.outliers_influence import variance_inflation_factor\n",
    "\n",
    "for i in range(df1.shape[1]):\n",
    "    print(\"Column \",i,\"has VIF : \",variance_inflation_factor(df1.values,i))"
   ]
  },
  {
   "cell_type": "code",
   "execution_count": 58,
   "id": "61d24a00",
   "metadata": {},
   "outputs": [
    {
     "data": {
      "text/plain": [
       "LinearRegression()"
      ]
     },
     "execution_count": 58,
     "metadata": {},
     "output_type": "execute_result"
    }
   ],
   "source": [
    "from sklearn.linear_model import LinearRegression\n",
    "\n",
    "model = LinearRegression()\n",
    "\n",
    "model.fit(x_train,y_train)"
   ]
  },
  {
   "cell_type": "code",
   "execution_count": 59,
   "id": "362f8b7a",
   "metadata": {},
   "outputs": [],
   "source": [
    "y_pred = model.predict(x_test)"
   ]
  },
  {
   "cell_type": "code",
   "execution_count": 60,
   "id": "3ecae2f8",
   "metadata": {
    "scrolled": false
   },
   "outputs": [
    {
     "data": {
      "text/plain": [
       "array([ 7.27501647e+00,  7.18605398e+01,  9.54581189e+01,  7.57972054e+01,\n",
       "        4.65566901e-01,  8.01199808e+01,  3.51819092e+01,  6.71139307e+01,\n",
       "        4.87776334e+00,  5.23831523e+01,  1.82661233e+01,  8.25347220e+01,\n",
       "        3.16612511e+01,  5.02029026e+01,  5.02759166e+00,  7.72249138e+00,\n",
       "        4.63920295e+01,  3.45683964e+01, -1.28988560e-01,  9.09028621e+01,\n",
       "        7.16164834e+01,  7.59490438e+01,  7.31147666e+01,  3.56313941e+01,\n",
       "       -2.07675673e+00,  9.19809687e-01,  7.01104971e+01,  6.90616988e+01,\n",
       "        6.85450387e+01,  6.56983006e+01,  5.30496407e+01,  6.50163342e+01,\n",
       "        1.20452667e+01, -2.82589834e+00,  3.40362583e+01,  1.06963801e+00,\n",
       "       -1.28988560e-01,  7.19035322e+00,  3.42002861e+01, -1.56009664e+00,\n",
       "        9.71062305e+01,  6.44121162e+00,  4.00388328e+01, -6.61126718e-01,\n",
       "        8.20025839e+01, -6.61126718e-01, -2.78816881e-01, -6.05494627e+00,\n",
       "        9.74513782e+00, -2.90855153e+00,  5.02759166e+00,  6.95938370e+01,\n",
       "        3.87671529e-01,  1.73816244e+01,  4.82551344e+01,  4.72793502e+00,\n",
       "        3.82408929e+01,  8.02872972e+01, -6.18134337e-02,  1.49094930e+01,\n",
       "        1.98315816e+01,  8.80148874e-02,  2.37348211e+01,  3.47995993e+01,\n",
       "        8.37156492e-01,  3.42002861e+01,  6.67570319e+00, -6.61126718e-01,\n",
       "        5.26001557e+01,  7.30351306e+01,  7.69958320e+01,  4.15351059e+01,\n",
       "        9.86984814e-01,  1.95319250e+01,  1.06820815e+02,  6.79457255e+01,\n",
       "       -3.61470076e-01,  8.14032706e+01,  9.97962939e+00, -9.60783360e-01,\n",
       "        6.41173642e+01,  7.92384990e+01,  1.90824400e+01,  7.76575626e+01,\n",
       "        1.01294577e+01,  7.75124921e+01,  6.74086826e+00, -3.05837985e+00,\n",
       "        5.19866430e+01,  2.19331452e+00, -6.61126718e-01,  1.01294577e+01,\n",
       "        5.48428227e+01, -1.28988560e-01, -6.18134337e-02,  5.02759166e+00,\n",
       "        7.85565325e+01,  5.55972982e+00,  6.90616988e+01,  8.11036139e+01,\n",
       "        4.07033111e+01,  8.30513821e+01,  2.92559515e+01,  3.97901417e+01,\n",
       "        7.18605398e+01,  5.27452262e+01,  7.19035322e+00, -1.11061168e+00,\n",
       "        6.95938370e+01,  8.17029272e+01,  7.33347872e+01,  4.39420722e+01,\n",
       "        3.50992560e+01,  1.81307660e+01,  2.88796781e+01,  7.89213542e+01,\n",
       "       -1.28988560e-01, -1.28988560e-01,  4.44073933e+00,  7.79572192e+01,\n",
       "        3.58483976e+01,  1.26445800e+01, -6.61126718e-01,  8.23674056e+01,\n",
       "        3.31514878e+01,  3.18859577e+01,  6.66644457e+01,  3.43501144e+01,\n",
       "       -3.80752146e+00,  3.34511445e+01,  5.63936590e+00,  2.10953732e+01,\n",
       "        6.82553151e+00,  1.21946633e+00,  5.37499850e-01,  5.40936811e+01,\n",
       "        1.06316468e+01,  4.06381460e+01,  9.87543420e+01,  5.23514647e+01,\n",
       "        1.59408031e+01,  4.44073933e+00,  9.03035488e+01,  8.97694006e+01,\n",
       "        1.63251230e+01, -3.61470076e-01,  4.53337896e+01,  6.65975421e+01,\n",
       "       -8.10955039e-01,  3.98775527e+01,  3.87671529e-01, -3.12555498e+00,\n",
       "        1.13280843e+01,  3.04545780e+01, -6.18134337e-02, -6.61126718e-01,\n",
       "        4.90966424e+01,  8.43326619e+01,  2.37271180e+01,  1.13681313e+00,\n",
       "       -3.50786482e+00,  3.02953081e+01,  5.02759166e+00, -6.61126718e-01,\n",
       "        5.37499850e-01,  5.32724830e+00, -3.42521162e+00,  7.46005889e+01,\n",
       "        7.34671274e+01,  8.11862671e+01,  5.37499850e-01,  4.94537610e+01,\n",
       "       -6.61126718e-01,  5.37499850e-01,  3.39006294e+01,  4.58484396e+01,\n",
       "        6.86122139e+01,  6.07638990e+00])"
      ]
     },
     "execution_count": 60,
     "metadata": {},
     "output_type": "execute_result"
    }
   ],
   "source": [
    "y_pred"
   ]
  },
  {
   "cell_type": "code",
   "execution_count": 61,
   "id": "b8ffc3d1",
   "metadata": {},
   "outputs": [
    {
     "data": {
      "text/plain": [
       "<matplotlib.legend.Legend at 0x2b13ec08430>"
      ]
     },
     "execution_count": 61,
     "metadata": {},
     "output_type": "execute_result"
    },
    {
     "data": {
      "image/png": "[encoded data removed]",
      "text/plain": [
       "<Figure size 640x480 with 1 Axes>"
      ]
     },
     "metadata": {},
     "output_type": "display_data"
    }
   ],
   "source": [
    "plt.plot(y_pred)\n",
    "plt.plot(y_test)\n",
    "plt.legend(['y_pred','y_test'])"
   ]
  },
  {
   "cell_type": "code",
   "execution_count": 62,
   "id": "ecfbe90b",
   "metadata": {},
   "outputs": [
    {
     "data": {
      "text/plain": [
       "array([[ 7.85420000e+00,  7.27501647e+00],\n",
       "       [ 6.95500000e+01,  7.18605398e+01],\n",
       "       [ 1.20000000e+02,  9.54581189e+01],\n",
       "       [ 7.88500000e+01,  7.57972054e+01],\n",
       "       [ 9.58750000e+00,  4.65566901e-01],\n",
       "       [ 7.96500000e+01,  8.01199808e+01],\n",
       "       [ 1.05000000e+01,  3.51819092e+01],\n",
       "       [ 2.62875000e+01,  6.71139307e+01],\n",
       "       [ 8.66250000e+00,  4.87776334e+00],\n",
       "       [ 3.67500000e+01,  5.23831523e+01],\n",
       "       [ 2.02125000e+01,  1.82661233e+01],\n",
       "       [ 1.46520800e+02,  8.25347220e+01],\n",
       "       [ 1.92583000e+01,  3.16612511e+01],\n",
       "       [ 3.67500000e+01,  5.02029026e+01],\n",
       "       [ 7.75000000e+00,  5.02759166e+00],\n",
       "       [ 1.78000000e+01,  7.72249138e+00],\n",
       "       [ 2.30000000e+01,  4.63920295e+01],\n",
       "       [ 2.10750000e+01,  3.45683964e+01],\n",
       "       [ 5.64958000e+01, -1.28988560e-01],\n",
       "       [ 7.96500000e+01,  9.09028621e+01],\n",
       "       [ 7.92000000e+01,  7.16164834e+01],\n",
       "       [ 7.79583000e+01,  7.59490438e+01],\n",
       "       [ 2.63875000e+01,  7.31147666e+01],\n",
       "       [ 1.30000000e+01,  3.56313941e+01],\n",
       "       [ 7.65000000e+00, -2.07675673e+00],\n",
       "       [ 7.22920000e+00,  9.19809687e-01],\n",
       "       [ 1.35633300e+02,  7.01104971e+01],\n",
       "       [ 3.55000000e+01,  6.90616988e+01],\n",
       "       [ 2.62875000e+01,  6.85450387e+01],\n",
       "       [ 3.05000000e+01,  6.56983006e+01],\n",
       "       [ 2.90000000e+01,  5.30496407e+01],\n",
       "       [ 3.55000000e+01,  6.50163342e+01],\n",
       "       [ 1.41083000e+01,  1.20452667e+01],\n",
       "       [ 9.00000000e+00, -2.82589834e+00],\n",
       "       [ 2.54667000e+01,  3.40362583e+01],\n",
       "       [ 8.05000000e+00,  1.06963801e+00],\n",
       "       [ 8.05000000e+00, -1.28988560e-01],\n",
       "       [ 7.77500000e+00,  7.19035322e+00],\n",
       "       [ 0.00000000e+00,  3.42002861e+01],\n",
       "       [ 8.05000000e+00, -1.56009664e+00],\n",
       "       [ 1.51550000e+02,  9.71062305e+01],\n",
       "       [ 1.61000000e+01,  6.44121162e+00],\n",
       "       [ 1.30000000e+01,  4.00388328e+01],\n",
       "       [ 9.50000000e+00, -6.61126718e-01],\n",
       "       [ 5.18625000e+01,  8.20025839e+01],\n",
       "       [ 7.22920000e+00, -6.61126718e-01],\n",
       "       [ 7.25000000e+00, -2.78816881e-01],\n",
       "       [ 7.75000000e+00, -6.05494627e+00],\n",
       "       [ 8.40420000e+00,  9.74513782e+00],\n",
       "       [ 7.92500000e+00, -2.90855153e+00],\n",
       "       [ 8.05000000e+00,  5.02759166e+00],\n",
       "       [ 2.77208000e+01,  6.95938370e+01],\n",
       "       [ 7.52080000e+00,  3.87671529e-01],\n",
       "       [ 1.44542000e+01,  1.73816244e+01],\n",
       "       [ 7.35000000e+01,  4.82551344e+01],\n",
       "       [ 7.85420000e+00,  4.72793502e+00],\n",
       "       [ 1.30000000e+01,  3.82408929e+01],\n",
       "       [ 5.79792000e+01,  8.02872972e+01],\n",
       "       [ 7.89580000e+00, -6.18134337e-02],\n",
       "       [ 1.44542000e+01,  1.49094930e+01],\n",
       "       [ 1.11333000e+01,  1.98315816e+01],\n",
       "       [ 9.50000000e+00,  8.80148874e-02],\n",
       "       [ 2.02500000e+01,  2.37348211e+01],\n",
       "       [ 1.30000000e+01,  3.47995993e+01],\n",
       "       [ 6.75000000e+00,  8.37156492e-01],\n",
       "       [ 1.38625000e+01,  3.42002861e+01],\n",
       "       [ 6.75000000e+00,  6.67570319e+00],\n",
       "       [ 7.89580000e+00, -6.61126718e-01],\n",
       "       [ 1.87500000e+01,  5.26001557e+01],\n",
       "       [ 2.77208000e+01,  7.30351306e+01],\n",
       "       [ 8.21708000e+01,  7.69958320e+01],\n",
       "       [ 2.60000000e+01,  4.15351059e+01],\n",
       "       [ 7.77500000e+00,  9.86984814e-01],\n",
       "       [ 2.23583000e+01,  1.95319250e+01],\n",
       "       [ 2.63000000e+02,  1.06820815e+02],\n",
       "       [ 2.77208000e+01,  6.79457255e+01],\n",
       "       [ 7.79580000e+00, -3.61470076e-01],\n",
       "       [ 5.31000000e+01,  8.14032706e+01],\n",
       "       [ 7.75000000e+00,  9.97962939e+00],\n",
       "       [ 7.75000000e+00, -9.60783360e-01],\n",
       "       [ 2.65500000e+01,  6.41173642e+01],\n",
       "       [ 7.79583000e+01,  7.92384990e+01],\n",
       "       [ 1.55000000e+01,  1.90824400e+01],\n",
       "       [ 1.53462500e+02,  7.76575626e+01],\n",
       "       [ 7.82920000e+00,  1.01294577e+01],\n",
       "       [ 7.72875000e+01,  7.75124921e+01],\n",
       "       [ 1.58500000e+01,  6.74086826e+00],\n",
       "       [ 8.05000000e+00, -3.05837985e+00],\n",
       "       [ 3.12750000e+01,  5.19866430e+01],\n",
       "       [ 8.05000000e+00,  2.19331452e+00],\n",
       "       [ 2.41500000e+01, -6.61126718e-01],\n",
       "       [ 7.22920000e+00,  1.01294577e+01],\n",
       "       [ 2.60000000e+01,  5.48428227e+01],\n",
       "       [ 7.22920000e+00, -1.28988560e-01],\n",
       "       [ 7.05000000e+00, -6.18134337e-02],\n",
       "       [ 7.75000000e+00,  5.02759166e+00],\n",
       "       [ 7.82667000e+01,  7.85565325e+01],\n",
       "       [ 8.13750000e+00,  5.55972982e+00],\n",
       "       [ 2.65500000e+01,  6.90616988e+01],\n",
       "       [ 5.20000000e+01,  8.11036139e+01],\n",
       "       [ 2.10000000e+01,  4.07033111e+01],\n",
       "       [ 6.66000000e+01,  8.30513821e+01],\n",
       "       [ 1.05000000e+01,  2.92559515e+01],\n",
       "       [ 2.91250000e+01,  3.97901417e+01],\n",
       "       [ 6.95500000e+01,  7.18605398e+01],\n",
       "       [ 3.90000000e+01,  5.27452262e+01],\n",
       "       [ 7.77500000e+00,  7.19035322e+00],\n",
       "       [ 8.05000000e+00, -1.11061168e+00],\n",
       "       [ 2.60000000e+01,  6.95938370e+01],\n",
       "       [ 1.13275000e+02,  8.17029272e+01],\n",
       "       [ 2.27525000e+02,  7.33347872e+01],\n",
       "       [ 1.30000000e+01,  4.39420722e+01],\n",
       "       [ 1.30000000e+01,  3.50992560e+01],\n",
       "       [ 1.58500000e+01,  1.81307660e+01],\n",
       "       [ 2.54667000e+01,  2.88796781e+01],\n",
       "       [ 7.92000000e+01,  7.89213542e+01],\n",
       "       [ 1.44583000e+01, -1.28988560e-01],\n",
       "       [ 5.64958000e+01, -1.28988560e-01],\n",
       "       [ 8.45830000e+00,  4.44073933e+00],\n",
       "       [ 8.31583000e+01,  7.79572192e+01],\n",
       "       [ 7.35000000e+01,  3.58483976e+01],\n",
       "       [ 7.92500000e+00,  1.26445800e+01],\n",
       "       [ 7.89580000e+00, -6.61126718e-01],\n",
       "       [ 5.25542000e+01,  8.23674056e+01],\n",
       "       [ 1.05000000e+01,  3.31514878e+01],\n",
       "       [ 2.34500000e+01,  3.18859577e+01],\n",
       "       [ 3.55000000e+01,  6.66644457e+01],\n",
       "       [ 1.35000000e+01,  3.43501144e+01],\n",
       "       [ 8.05000000e+00, -3.80752146e+00],\n",
       "       [ 1.30000000e+01,  3.34511445e+01],\n",
       "       [ 8.43330000e+00,  5.63936590e+00],\n",
       "       [ 2.34500000e+01,  2.10953732e+01],\n",
       "       [ 1.44583000e+01,  6.82553151e+00],\n",
       "       [ 7.92500000e+00,  1.21946633e+00],\n",
       "       [ 8.05000000e+00,  5.37499850e-01],\n",
       "       [ 2.62500000e+01,  5.40936811e+01],\n",
       "       [ 9.47500000e+00,  1.06316468e+01],\n",
       "       [ 1.30000000e+01,  4.06381460e+01],\n",
       "       [ 1.20000000e+02,  9.87543420e+01],\n",
       "       [ 4.69000000e+01,  5.23514647e+01],\n",
       "       [ 7.22920000e+00,  1.59408031e+01],\n",
       "       [ 7.22920000e+00,  4.44073933e+00],\n",
       "       [ 4.95000000e+01,  9.03035488e+01],\n",
       "       [ 1.20000000e+02,  8.97694006e+01],\n",
       "       [ 1.04625000e+01,  1.63251230e+01],\n",
       "       [ 8.66250000e+00, -3.61470076e-01],\n",
       "       [ 2.79000000e+01,  4.53337896e+01],\n",
       "       [ 2.10000000e+01,  6.65975421e+01],\n",
       "       [ 8.05000000e+00, -8.10955039e-01],\n",
       "       [ 2.79000000e+01,  3.98775527e+01],\n",
       "       [ 9.00000000e+00,  3.87671529e-01],\n",
       "       [ 0.00000000e+00, -3.12555498e+00],\n",
       "       [ 7.75000000e+00,  1.13280843e+01],\n",
       "       [ 1.40000000e+01,  3.04545780e+01],\n",
       "       [ 0.00000000e+00, -6.18134337e-02],\n",
       "       [ 7.77500000e+00, -6.61126718e-01],\n",
       "       [ 2.60000000e+01,  4.90966424e+01],\n",
       "       [ 1.08900000e+02,  8.43326619e+01],\n",
       "       [ 1.57417000e+01,  2.37271180e+01],\n",
       "       [ 8.66250000e+00,  1.13681313e+00],\n",
       "       [ 7.85420000e+00, -3.50786482e+00],\n",
       "       [ 3.43750000e+01,  3.02953081e+01],\n",
       "       [ 7.87920000e+00,  5.02759166e+00],\n",
       "       [ 7.89580000e+00, -6.61126718e-01],\n",
       "       [ 7.79580000e+00,  5.37499850e-01],\n",
       "       [ 7.92500000e+00,  5.32724830e+00],\n",
       "       [ 7.05420000e+00, -3.42521162e+00],\n",
       "       [ 9.35000000e+01,  7.46005889e+01],\n",
       "       [ 5.20000000e+01,  7.34671274e+01],\n",
       "       [ 7.12833000e+01,  8.11862671e+01],\n",
       "       [ 7.73330000e+00,  5.37499850e-01],\n",
       "       [ 7.35000000e+01,  4.94537610e+01],\n",
       "       [ 7.25000000e+00, -6.61126718e-01],\n",
       "       [ 8.66250000e+00,  5.37499850e-01],\n",
       "       [ 1.30000000e+01,  3.39006294e+01],\n",
       "       [ 3.13875000e+01,  4.58484396e+01],\n",
       "       [ 3.05000000e+01,  6.86122139e+01],\n",
       "       [ 7.75000000e+00,  6.07638990e+00]])"
      ]
     },
     "execution_count": 62,
     "metadata": {},
     "output_type": "execute_result"
    }
   ],
   "source": [
    "np.concatenate((y_test.reshape(-1,1),y_pred.reshape(-1,1)),1)"
   ]
  },
  {
   "cell_type": "code",
   "execution_count": 63,
   "id": "4fcfa77e",
   "metadata": {},
   "outputs": [
    {
     "data": {
      "text/plain": [
       "731.7037446913515"
      ]
     },
     "execution_count": 63,
     "metadata": {},
     "output_type": "execute_result"
    }
   ],
   "source": [
    "from sklearn.metrics import mean_squared_error\n",
    "\n",
    "mean_squared_error(y_test , y_pred)"
   ]
  },
  {
   "cell_type": "code",
   "execution_count": 64,
   "id": "0be6c897",
   "metadata": {},
   "outputs": [
    {
     "data": {
      "text/plain": [
       "LinearRegression()"
      ]
     },
     "execution_count": 64,
     "metadata": {},
     "output_type": "execute_result"
    }
   ],
   "source": [
    "from sklearn.preprocessing import PolynomialFeatures\n",
    "reg = PolynomialFeatures(degree=1)\n",
    "poly = reg.fit_transform(x_train)\n",
    "model = LinearRegression()\n",
    "model.fit(poly,y_train)"
   ]
  },
  {
   "cell_type": "code",
   "execution_count": 65,
   "id": "89689657",
   "metadata": {},
   "outputs": [],
   "source": [
    "poly1 = reg.fit_transform(x_test)\n",
    "y_pred = model.predict(poly1)"
   ]
  },
  {
   "cell_type": "code",
   "execution_count": 66,
   "id": "75acce25",
   "metadata": {},
   "outputs": [
    {
     "data": {
      "text/plain": [
       "<matplotlib.legend.Legend at 0x2b13ec70d00>"
      ]
     },
     "execution_count": 66,
     "metadata": {},
     "output_type": "execute_result"
    },
    {
     "data": {
      "image/png": "[encoded data removed]",
      "text/plain": [
       "<Figure size 640x480 with 1 Axes>"
      ]
     },
     "metadata": {},
     "output_type": "display_data"
    }
   ],
   "source": [
    "plt.plot(y_pred)\n",
    "plt.plot(y_test)\n",
    "plt.legend(['y_pred','y_test'])"
   ]
  },
  {
   "cell_type": "code",
   "execution_count": 67,
   "id": "57d39a62",
   "metadata": {},
   "outputs": [
    {
     "data": {
      "text/plain": [
       "<AxesSubplot:>"
      ]
     },
     "execution_count": 67,
     "metadata": {},
     "output_type": "execute_result"
    },
    {
     "data": {
      "image/png": "[encoded data removed]",
      "text/plain": [
       "<Figure size 640x480 with 1 Axes>"
      ]
     },
     "metadata": {},
     "output_type": "display_data"
    }
   ],
   "source": [
    "pd.Series(model.coef_ , index = df1.columns).plot.bar()"
   ]
  },
  {
   "cell_type": "code",
   "execution_count": 68,
   "id": "64d0e4ab",
   "metadata": {},
   "outputs": [
    {
     "data": {
      "text/plain": [
       "731.7037446913515"
      ]
     },
     "execution_count": 68,
     "metadata": {},
     "output_type": "execute_result"
    }
   ],
   "source": [
    "from sklearn.metrics import mean_squared_error\n",
    "\n",
    "mean_squared_error(y_test , y_pred)"
   ]
  },
  {
   "cell_type": "code",
   "execution_count": 69,
   "id": "885d3813",
   "metadata": {},
   "outputs": [
    {
     "data": {
      "text/html": [
       "<div>\n",
       "<style scoped>\n",
       "    .dataframe tbody tr th:only-of-type {\n",
       "        vertical-align: middle;\n",
       "    }\n",
       "\n",
       "    .dataframe tbody tr th {\n",
       "        vertical-align: top;\n",
       "    }\n",
       "\n",
       "    .dataframe thead th {\n",
       "        text-align: right;\n",
       "    }\n",
       "</style>\n",
       "<table border=\"1\" class=\"dataframe\">\n",
       "  <thead>\n",
       "    <tr style=\"text-align: right;\">\n",
       "      <th></th>\n",
       "      <th>C</th>\n",
       "      <th>Q</th>\n",
       "      <th>S</th>\n",
       "      <th>Pclass</th>\n",
       "      <th>Age</th>\n",
       "      <th>Alone</th>\n",
       "      <th>Male</th>\n",
       "      <th>Female</th>\n",
       "      <th>Fare</th>\n",
       "    </tr>\n",
       "  </thead>\n",
       "  <tbody>\n",
       "    <tr>\n",
       "      <th>count</th>\n",
       "      <td>887.000000</td>\n",
       "      <td>887.000000</td>\n",
       "      <td>887.000000</td>\n",
       "      <td>887.000000</td>\n",
       "      <td>887.000000</td>\n",
       "      <td>887.000000</td>\n",
       "      <td>887.000000</td>\n",
       "      <td>887.000000</td>\n",
       "      <td>887.000000</td>\n",
       "    </tr>\n",
       "    <tr>\n",
       "      <th>mean</th>\n",
       "      <td>0.189402</td>\n",
       "      <td>0.086809</td>\n",
       "      <td>0.723788</td>\n",
       "      <td>2.312289</td>\n",
       "      <td>29.499436</td>\n",
       "      <td>0.908681</td>\n",
       "      <td>0.648253</td>\n",
       "      <td>0.351747</td>\n",
       "      <td>32.126493</td>\n",
       "    </tr>\n",
       "    <tr>\n",
       "      <th>std</th>\n",
       "      <td>0.392049</td>\n",
       "      <td>0.281715</td>\n",
       "      <td>0.447375</td>\n",
       "      <td>0.834158</td>\n",
       "      <td>12.993476</td>\n",
       "      <td>1.615949</td>\n",
       "      <td>0.477785</td>\n",
       "      <td>0.477785</td>\n",
       "      <td>49.746782</td>\n",
       "    </tr>\n",
       "    <tr>\n",
       "      <th>min</th>\n",
       "      <td>0.000000</td>\n",
       "      <td>0.000000</td>\n",
       "      <td>0.000000</td>\n",
       "      <td>1.000000</td>\n",
       "      <td>0.000000</td>\n",
       "      <td>0.000000</td>\n",
       "      <td>0.000000</td>\n",
       "      <td>0.000000</td>\n",
       "      <td>0.000000</td>\n",
       "    </tr>\n",
       "    <tr>\n",
       "      <th>25%</th>\n",
       "      <td>0.000000</td>\n",
       "      <td>0.000000</td>\n",
       "      <td>0.000000</td>\n",
       "      <td>2.000000</td>\n",
       "      <td>22.000000</td>\n",
       "      <td>0.000000</td>\n",
       "      <td>0.000000</td>\n",
       "      <td>0.000000</td>\n",
       "      <td>7.910400</td>\n",
       "    </tr>\n",
       "    <tr>\n",
       "      <th>50%</th>\n",
       "      <td>0.000000</td>\n",
       "      <td>0.000000</td>\n",
       "      <td>1.000000</td>\n",
       "      <td>3.000000</td>\n",
       "      <td>29.000000</td>\n",
       "      <td>0.000000</td>\n",
       "      <td>1.000000</td>\n",
       "      <td>0.000000</td>\n",
       "      <td>14.454200</td>\n",
       "    </tr>\n",
       "    <tr>\n",
       "      <th>75%</th>\n",
       "      <td>0.000000</td>\n",
       "      <td>0.000000</td>\n",
       "      <td>1.000000</td>\n",
       "      <td>3.000000</td>\n",
       "      <td>35.000000</td>\n",
       "      <td>1.000000</td>\n",
       "      <td>1.000000</td>\n",
       "      <td>1.000000</td>\n",
       "      <td>31.000000</td>\n",
       "    </tr>\n",
       "    <tr>\n",
       "      <th>max</th>\n",
       "      <td>1.000000</td>\n",
       "      <td>1.000000</td>\n",
       "      <td>1.000000</td>\n",
       "      <td>3.000000</td>\n",
       "      <td>80.000000</td>\n",
       "      <td>10.000000</td>\n",
       "      <td>1.000000</td>\n",
       "      <td>1.000000</td>\n",
       "      <td>512.329200</td>\n",
       "    </tr>\n",
       "  </tbody>\n",
       "</table>\n",
       "</div>"
      ],
      "text/plain": [
       "                C           Q           S      Pclass         Age       Alone  \\\n",
       "count  887.000000  887.000000  887.000000  887.000000  887.000000  887.000000   \n",
       "mean     0.189402    0.086809    0.723788    2.312289   29.499436    0.908681   \n",
       "std      0.392049    0.281715    0.447375    0.834158   12.993476    1.615949   \n",
       "min      0.000000    0.000000    0.000000    1.000000    0.000000    0.000000   \n",
       "25%      0.000000    0.000000    0.000000    2.000000   22.000000    0.000000   \n",
       "50%      0.000000    0.000000    1.000000    3.000000   29.000000    0.000000   \n",
       "75%      0.000000    0.000000    1.000000    3.000000   35.000000    1.000000   \n",
       "max      1.000000    1.000000    1.000000    3.000000   80.000000   10.000000   \n",
       "\n",
       "             Male      Female        Fare  \n",
       "count  887.000000  887.000000  887.000000  \n",
       "mean     0.648253    0.351747   32.126493  \n",
       "std      0.477785    0.477785   49.746782  \n",
       "min      0.000000    0.000000    0.000000  \n",
       "25%      0.000000    0.000000    7.910400  \n",
       "50%      1.000000    0.000000   14.454200  \n",
       "75%      1.000000    1.000000   31.000000  \n",
       "max      1.000000    1.000000  512.329200  "
      ]
     },
     "execution_count": 69,
     "metadata": {},
     "output_type": "execute_result"
    }
   ],
   "source": [
    "df1.describe()"
   ]
  },
  {
   "cell_type": "markdown",
   "id": "d7d33945",
   "metadata": {},
   "source": [
    "# Ridge Regression"
   ]
  },
  {
   "cell_type": "code",
   "execution_count": 70,
   "id": "e0c2731d",
   "metadata": {},
   "outputs": [
    {
     "data": {
      "text/plain": [
       "C         -1.311745\n",
       "Q          3.176599\n",
       "S         -1.864854\n",
       "Pclass   -34.778045\n",
       "Age       -0.148131\n",
       "Alone      7.246694\n",
       "Male      -2.849556\n",
       "Female     2.849556\n",
       "dtype: float64"
      ]
     },
     "execution_count": 70,
     "metadata": {},
     "output_type": "execute_result"
    }
   ],
   "source": [
    "from sklearn.linear_model import Ridge\n",
    "rid = Ridge()\n",
    "rid.fit(x_train ,  y_train)\n",
    " \n",
    "rid_pred = rid.predict(x_test)\n",
    "\n",
    "pd.Series(rid.coef_ , index = df1.columns[:-1])\n"
   ]
  },
  {
   "cell_type": "code",
   "execution_count": 71,
   "id": "ff87d009",
   "metadata": {},
   "outputs": [
    {
     "data": {
      "text/plain": [
       "<matplotlib.legend.Legend at 0x2b13eea34f0>"
      ]
     },
     "execution_count": 71,
     "metadata": {},
     "output_type": "execute_result"
    },
    {
     "data": {
      "image/png": "[encoded data removed]",
      "text/plain": [
       "<Figure size 640x480 with 1 Axes>"
      ]
     },
     "metadata": {},
     "output_type": "display_data"
    }
   ],
   "source": [
    "plt.plot(rid_pred)\n",
    "plt.plot(y_test)\n",
    "plt.legend(['rid_pred','y_test'])"
   ]
  },
  {
   "cell_type": "code",
   "execution_count": 72,
   "id": "050f72a4",
   "metadata": {},
   "outputs": [
    {
     "data": {
      "text/plain": [
       "731.1463396912125"
      ]
     },
     "execution_count": 72,
     "metadata": {},
     "output_type": "execute_result"
    }
   ],
   "source": [
    "from sklearn.metrics import mean_squared_error\n",
    "\n",
    "mean_squared_error(rid_pred , y_test)"
   ]
  },
  {
   "cell_type": "code",
   "execution_count": 73,
   "id": "d88223b8",
   "metadata": {},
   "outputs": [
    {
     "data": {
      "text/plain": [
       "<AxesSubplot:>"
      ]
     },
     "execution_count": 73,
     "metadata": {},
     "output_type": "execute_result"
    },
    {
     "data": {
      "image/png": "[encoded data removed]",
      "text/plain": [
       "<Figure size 640x480 with 1 Axes>"
      ]
     },
     "metadata": {},
     "output_type": "display_data"
    }
   ],
   "source": [
    "pd.Series(rid.coef_ , index = df1.columns[:-1]).plot.bar()"
   ]
  },
  {
   "cell_type": "markdown",
   "id": "2c75f470",
   "metadata": {},
   "source": [
    "# Lasso Regression (L1)"
   ]
  },
  {
   "cell_type": "code",
   "execution_count": 74,
   "id": "ae14ec2e",
   "metadata": {},
   "outputs": [],
   "source": [
    "from sklearn.linear_model import Lasso\n",
    "la = Lasso()\n",
    "la.fit(x_train , y_train )\n",
    "la_pred = la.predict(x_test)\n"
   ]
  },
  {
   "cell_type": "code",
   "execution_count": 75,
   "id": "db0eae11",
   "metadata": {},
   "outputs": [
    {
     "data": {
      "text/plain": [
       "<matplotlib.legend.Legend at 0x2b13ff5a670>"
      ]
     },
     "execution_count": 75,
     "metadata": {},
     "output_type": "execute_result"
    },
    {
     "data": {
      "image/png": "[encoded data removed]",
      "text/plain": [
       "<Figure size 640x480 with 1 Axes>"
      ]
     },
     "metadata": {},
     "output_type": "display_data"
    }
   ],
   "source": [
    "plt.plot(la_pred)\n",
    "plt.plot(y_test)\n",
    "plt.legend(['la_pred','y_test'])"
   ]
  },
  {
   "cell_type": "code",
   "execution_count": 76,
   "id": "dc1198c4",
   "metadata": {},
   "outputs": [
    {
     "data": {
      "text/plain": [
       "<AxesSubplot:>"
      ]
     },
     "execution_count": 76,
     "metadata": {},
     "output_type": "execute_result"
    },
    {
     "data": {
      "image/png": "[encoded data removed]",
      "text/plain": [
       "<Figure size 640x480 with 1 Axes>"
      ]
     },
     "metadata": {},
     "output_type": "display_data"
    }
   ],
   "source": [
    "pd.Series(la.coef_ , index = df1.columns[:-1]).plot.bar()"
   ]
  },
  {
   "cell_type": "markdown",
   "id": "79484bcb",
   "metadata": {},
   "source": [
    "# Elastic Net"
   ]
  },
  {
   "cell_type": "code",
   "execution_count": 77,
   "id": "2e3a2633",
   "metadata": {},
   "outputs": [
    {
     "data": {
      "text/plain": [
       "<AxesSubplot:>"
      ]
     },
     "execution_count": 77,
     "metadata": {},
     "output_type": "execute_result"
    },
    {
     "data": {
      "image/png": "[encoded data removed]",
      "text/plain": [
       "<Figure size 640x480 with 1 Axes>"
      ]
     },
     "metadata": {},
     "output_type": "display_data"
    }
   ],
   "source": [
    "from sklearn.linear_model import ElasticNet\n",
    "elnet = ElasticNet()\n",
    "elnet.fit(x_train , y_train)\n",
    "\n",
    "elnet_pred = elnet.predict(x_test)\n",
    "\n",
    "pd.Series(elnet.coef_ , index = df1.columns[:-1] ).plot.bar()\n"
   ]
  },
  {
   "cell_type": "code",
   "execution_count": 78,
   "id": "81e67886",
   "metadata": {},
   "outputs": [
    {
     "data": {
      "text/plain": [
       "<matplotlib.legend.Legend at 0x2b140073b80>"
      ]
     },
     "execution_count": 78,
     "metadata": {},
     "output_type": "execute_result"
    },
    {
     "data": {
      "image/png": "[encoded data removed]",
      "text/plain": [
       "<Figure size 640x480 with 1 Axes>"
      ]
     },
     "metadata": {},
     "output_type": "display_data"
    }
   ],
   "source": [
    "plt.plot(la_pred)\n",
    "plt.plot(y_test)\n",
    "plt.legend(['la_pred','y_test'])"
   ]
  },
  {
   "cell_type": "code",
   "execution_count": 79,
   "id": "cc29e1f0",
   "metadata": {},
   "outputs": [
    {
     "data": {
      "text/plain": [
       "731.1463396912125"
      ]
     },
     "execution_count": 79,
     "metadata": {},
     "output_type": "execute_result"
    }
   ],
   "source": [
    "from sklearn.metrics import mean_squared_error\n",
    "\n",
    "mean_squared_error(rid_pred , y_test)"
   ]
  },
  {
   "cell_type": "code",
   "execution_count": 80,
   "id": "bc7740d1",
   "metadata": {},
   "outputs": [
    {
     "name": "stdout",
     "output_type": "stream",
     "text": [
      "Rid 0.5289431390732621\n",
      "LA 0.5334734640018512\n",
      "Elnet 0.47217954569120446\n"
     ]
    }
   ],
   "source": [
    "print(\"Rid\",rid.score(x_test , y_test))\n",
    "print(\"LA\",la.score(x_test , y_test))\n",
    "print(\"Elnet\",elnet.score(x_test , y_test))\n"
   ]
  },
  {
   "cell_type": "markdown",
   "id": "49ee6fcd",
   "metadata": {},
   "source": [
    "## Prediction on Survival"
   ]
  },
  {
   "cell_type": "code",
   "execution_count": 81,
   "id": "ca57884c",
   "metadata": {},
   "outputs": [],
   "source": [
    "df2 = pd.DataFrame(df , columns = ['Pclass','Fare','Age','Alone','Female','Male','C','Q','S','Survived'])"
   ]
  },
  {
   "cell_type": "code",
   "execution_count": 82,
   "id": "1ff1477f",
   "metadata": {},
   "outputs": [
    {
     "data": {
      "text/html": [
       "<div>\n",
       "<style scoped>\n",
       "    .dataframe tbody tr th:only-of-type {\n",
       "        vertical-align: middle;\n",
       "    }\n",
       "\n",
       "    .dataframe tbody tr th {\n",
       "        vertical-align: top;\n",
       "    }\n",
       "\n",
       "    .dataframe thead th {\n",
       "        text-align: right;\n",
       "    }\n",
       "</style>\n",
       "<table border=\"1\" class=\"dataframe\">\n",
       "  <thead>\n",
       "    <tr style=\"text-align: right;\">\n",
       "      <th></th>\n",
       "      <th>Pclass</th>\n",
       "      <th>Fare</th>\n",
       "      <th>Age</th>\n",
       "      <th>Alone</th>\n",
       "      <th>Female</th>\n",
       "      <th>Male</th>\n",
       "      <th>C</th>\n",
       "      <th>Q</th>\n",
       "      <th>S</th>\n",
       "      <th>Survived</th>\n",
       "    </tr>\n",
       "  </thead>\n",
       "  <tbody>\n",
       "    <tr>\n",
       "      <th>0</th>\n",
       "      <td>3</td>\n",
       "      <td>7.2500</td>\n",
       "      <td>22</td>\n",
       "      <td>1</td>\n",
       "      <td>0</td>\n",
       "      <td>1</td>\n",
       "      <td>0.0</td>\n",
       "      <td>0.0</td>\n",
       "      <td>1.0</td>\n",
       "      <td>0.0</td>\n",
       "    </tr>\n",
       "    <tr>\n",
       "      <th>1</th>\n",
       "      <td>1</td>\n",
       "      <td>71.2833</td>\n",
       "      <td>38</td>\n",
       "      <td>1</td>\n",
       "      <td>1</td>\n",
       "      <td>0</td>\n",
       "      <td>1.0</td>\n",
       "      <td>0.0</td>\n",
       "      <td>0.0</td>\n",
       "      <td>1.0</td>\n",
       "    </tr>\n",
       "    <tr>\n",
       "      <th>2</th>\n",
       "      <td>3</td>\n",
       "      <td>7.9250</td>\n",
       "      <td>26</td>\n",
       "      <td>0</td>\n",
       "      <td>1</td>\n",
       "      <td>0</td>\n",
       "      <td>0.0</td>\n",
       "      <td>0.0</td>\n",
       "      <td>1.0</td>\n",
       "      <td>1.0</td>\n",
       "    </tr>\n",
       "    <tr>\n",
       "      <th>3</th>\n",
       "      <td>1</td>\n",
       "      <td>53.1000</td>\n",
       "      <td>35</td>\n",
       "      <td>1</td>\n",
       "      <td>1</td>\n",
       "      <td>0</td>\n",
       "      <td>0.0</td>\n",
       "      <td>0.0</td>\n",
       "      <td>1.0</td>\n",
       "      <td>1.0</td>\n",
       "    </tr>\n",
       "    <tr>\n",
       "      <th>4</th>\n",
       "      <td>3</td>\n",
       "      <td>8.0500</td>\n",
       "      <td>35</td>\n",
       "      <td>0</td>\n",
       "      <td>0</td>\n",
       "      <td>1</td>\n",
       "      <td>0.0</td>\n",
       "      <td>0.0</td>\n",
       "      <td>1.0</td>\n",
       "      <td>0.0</td>\n",
       "    </tr>\n",
       "    <tr>\n",
       "      <th>...</th>\n",
       "      <td>...</td>\n",
       "      <td>...</td>\n",
       "      <td>...</td>\n",
       "      <td>...</td>\n",
       "      <td>...</td>\n",
       "      <td>...</td>\n",
       "      <td>...</td>\n",
       "      <td>...</td>\n",
       "      <td>...</td>\n",
       "      <td>...</td>\n",
       "    </tr>\n",
       "    <tr>\n",
       "      <th>884</th>\n",
       "      <td>3</td>\n",
       "      <td>7.0500</td>\n",
       "      <td>25</td>\n",
       "      <td>0</td>\n",
       "      <td>0</td>\n",
       "      <td>1</td>\n",
       "      <td>0.0</td>\n",
       "      <td>0.0</td>\n",
       "      <td>1.0</td>\n",
       "      <td>0.0</td>\n",
       "    </tr>\n",
       "    <tr>\n",
       "      <th>885</th>\n",
       "      <td>3</td>\n",
       "      <td>29.1250</td>\n",
       "      <td>39</td>\n",
       "      <td>5</td>\n",
       "      <td>1</td>\n",
       "      <td>0</td>\n",
       "      <td>0.0</td>\n",
       "      <td>0.0</td>\n",
       "      <td>1.0</td>\n",
       "      <td>0.0</td>\n",
       "    </tr>\n",
       "    <tr>\n",
       "      <th>886</th>\n",
       "      <td>2</td>\n",
       "      <td>13.0000</td>\n",
       "      <td>27</td>\n",
       "      <td>0</td>\n",
       "      <td>0</td>\n",
       "      <td>1</td>\n",
       "      <td>0.0</td>\n",
       "      <td>0.0</td>\n",
       "      <td>1.0</td>\n",
       "      <td>0.0</td>\n",
       "    </tr>\n",
       "    <tr>\n",
       "      <th>887</th>\n",
       "      <td>1</td>\n",
       "      <td>30.0000</td>\n",
       "      <td>19</td>\n",
       "      <td>0</td>\n",
       "      <td>1</td>\n",
       "      <td>0</td>\n",
       "      <td>1.0</td>\n",
       "      <td>0.0</td>\n",
       "      <td>0.0</td>\n",
       "      <td>1.0</td>\n",
       "    </tr>\n",
       "    <tr>\n",
       "      <th>888</th>\n",
       "      <td>3</td>\n",
       "      <td>23.4500</td>\n",
       "      <td>29</td>\n",
       "      <td>3</td>\n",
       "      <td>1</td>\n",
       "      <td>0</td>\n",
       "      <td>0.0</td>\n",
       "      <td>1.0</td>\n",
       "      <td>0.0</td>\n",
       "      <td>0.0</td>\n",
       "    </tr>\n",
       "  </tbody>\n",
       "</table>\n",
       "<p>887 rows × 10 columns</p>\n",
       "</div>"
      ],
      "text/plain": [
       "     Pclass     Fare  Age  Alone  Female  Male    C    Q    S  Survived\n",
       "0         3   7.2500   22      1       0     1  0.0  0.0  1.0       0.0\n",
       "1         1  71.2833   38      1       1     0  1.0  0.0  0.0       1.0\n",
       "2         3   7.9250   26      0       1     0  0.0  0.0  1.0       1.0\n",
       "3         1  53.1000   35      1       1     0  0.0  0.0  1.0       1.0\n",
       "4         3   8.0500   35      0       0     1  0.0  0.0  1.0       0.0\n",
       "..      ...      ...  ...    ...     ...   ...  ...  ...  ...       ...\n",
       "884       3   7.0500   25      0       0     1  0.0  0.0  1.0       0.0\n",
       "885       3  29.1250   39      5       1     0  0.0  0.0  1.0       0.0\n",
       "886       2  13.0000   27      0       0     1  0.0  0.0  1.0       0.0\n",
       "887       1  30.0000   19      0       1     0  1.0  0.0  0.0       1.0\n",
       "888       3  23.4500   29      3       1     0  0.0  1.0  0.0       0.0\n",
       "\n",
       "[887 rows x 10 columns]"
      ]
     },
     "execution_count": 82,
     "metadata": {},
     "output_type": "execute_result"
    }
   ],
   "source": [
    "df2"
   ]
  },
  {
   "cell_type": "code",
   "execution_count": 83,
   "id": "0c4670ec",
   "metadata": {},
   "outputs": [],
   "source": [
    "df2.drop(['Fare'],axis=1,inplace = True)"
   ]
  },
  {
   "cell_type": "code",
   "execution_count": 84,
   "id": "9893181d",
   "metadata": {},
   "outputs": [],
   "source": [
    "x = df2.iloc[:,:-1].values\n",
    "y = df2.iloc[:,-1].values\n",
    "\n",
    "from sklearn.model_selection import train_test_split\n",
    "\n",
    "x_train , x_test , y_train , y_test = train_test_split(x,y , test_size = 0.2 , random_state=0)"
   ]
  },
  {
   "cell_type": "markdown",
   "id": "7772dd02",
   "metadata": {},
   "source": [
    "# Logistic Regression"
   ]
  },
  {
   "cell_type": "code",
   "execution_count": 85,
   "id": "851253d8",
   "metadata": {},
   "outputs": [],
   "source": [
    "from sklearn.linear_model import LogisticRegression\n",
    "classifier = LogisticRegression(random_state = 0)\n",
    "classifier.fit(x_train, y_train)\n",
    "\n",
    "y_pred=classifier.predict(x_test)"
   ]
  },
  {
   "cell_type": "code",
   "execution_count": 86,
   "id": "032c9852",
   "metadata": {},
   "outputs": [
    {
     "data": {
      "text/plain": [
       "array([[1., 0.],\n",
       "       [0., 0.],\n",
       "       [1., 1.],\n",
       "       [0., 0.],\n",
       "       [0., 1.],\n",
       "       [0., 0.],\n",
       "       [0., 0.],\n",
       "       [0., 1.],\n",
       "       [1., 0.],\n",
       "       [0., 1.],\n",
       "       [0., 0.],\n",
       "       [1., 1.],\n",
       "       [1., 1.],\n",
       "       [0., 0.],\n",
       "       [1., 1.],\n",
       "       [0., 0.],\n",
       "       [1., 1.],\n",
       "       [0., 0.],\n",
       "       [0., 1.],\n",
       "       [1., 1.],\n",
       "       [0., 0.],\n",
       "       [1., 1.],\n",
       "       [1., 1.],\n",
       "       [0., 0.],\n",
       "       [0., 0.],\n",
       "       [0., 0.],\n",
       "       [1., 0.],\n",
       "       [0., 1.],\n",
       "       [0., 1.],\n",
       "       [0., 0.],\n",
       "       [0., 1.],\n",
       "       [0., 1.],\n",
       "       [0., 0.],\n",
       "       [0., 0.],\n",
       "       [0., 0.],\n",
       "       [0., 0.],\n",
       "       [0., 0.],\n",
       "       [0., 0.],\n",
       "       [0., 0.],\n",
       "       [0., 0.],\n",
       "       [1., 0.],\n",
       "       [0., 0.],\n",
       "       [1., 1.],\n",
       "       [0., 0.],\n",
       "       [1., 1.],\n",
       "       [0., 0.],\n",
       "       [0., 0.],\n",
       "       [0., 0.],\n",
       "       [0., 0.],\n",
       "       [0., 1.],\n",
       "       [1., 0.],\n",
       "       [1., 0.],\n",
       "       [0., 0.],\n",
       "       [1., 0.],\n",
       "       [0., 0.],\n",
       "       [1., 0.],\n",
       "       [1., 1.],\n",
       "       [1., 1.],\n",
       "       [0., 0.],\n",
       "       [1., 1.],\n",
       "       [1., 1.],\n",
       "       [0., 0.],\n",
       "       [1., 1.],\n",
       "       [0., 0.],\n",
       "       [0., 0.],\n",
       "       [0., 1.],\n",
       "       [1., 0.],\n",
       "       [0., 0.],\n",
       "       [0., 1.],\n",
       "       [1., 1.],\n",
       "       [0., 0.],\n",
       "       [0., 1.],\n",
       "       [0., 0.],\n",
       "       [1., 1.],\n",
       "       [0., 0.],\n",
       "       [0., 0.],\n",
       "       [0., 1.],\n",
       "       [1., 1.],\n",
       "       [1., 0.],\n",
       "       [0., 0.],\n",
       "       [0., 0.],\n",
       "       [1., 1.],\n",
       "       [1., 0.],\n",
       "       [1., 1.],\n",
       "       [1., 1.],\n",
       "       [1., 0.],\n",
       "       [0., 0.],\n",
       "       [0., 1.],\n",
       "       [1., 0.],\n",
       "       [0., 0.],\n",
       "       [0., 0.],\n",
       "       [1., 1.],\n",
       "       [1., 0.],\n",
       "       [0., 0.],\n",
       "       [0., 0.],\n",
       "       [1., 0.],\n",
       "       [1., 1.],\n",
       "       [1., 0.],\n",
       "       [0., 1.],\n",
       "       [1., 1.],\n",
       "       [0., 0.],\n",
       "       [1., 1.],\n",
       "       [0., 1.],\n",
       "       [0., 0.],\n",
       "       [0., 0.],\n",
       "       [1., 1.],\n",
       "       [0., 1.],\n",
       "       [0., 1.],\n",
       "       [1., 0.],\n",
       "       [1., 1.],\n",
       "       [1., 1.],\n",
       "       [1., 1.],\n",
       "       [0., 0.],\n",
       "       [1., 1.],\n",
       "       [0., 0.],\n",
       "       [0., 1.],\n",
       "       [0., 0.],\n",
       "       [0., 1.],\n",
       "       [0., 0.],\n",
       "       [1., 1.],\n",
       "       [0., 0.],\n",
       "       [0., 0.],\n",
       "       [0., 0.],\n",
       "       [0., 1.],\n",
       "       [0., 0.],\n",
       "       [1., 0.],\n",
       "       [0., 0.],\n",
       "       [0., 0.],\n",
       "       [0., 0.],\n",
       "       [0., 0.],\n",
       "       [0., 0.],\n",
       "       [0., 0.],\n",
       "       [1., 0.],\n",
       "       [0., 0.],\n",
       "       [0., 0.],\n",
       "       [1., 1.],\n",
       "       [0., 0.],\n",
       "       [1., 1.],\n",
       "       [1., 1.],\n",
       "       [0., 0.],\n",
       "       [0., 0.],\n",
       "       [0., 0.],\n",
       "       [1., 1.],\n",
       "       [0., 1.],\n",
       "       [1., 0.],\n",
       "       [0., 1.],\n",
       "       [1., 0.],\n",
       "       [1., 1.],\n",
       "       [0., 0.],\n",
       "       [0., 0.],\n",
       "       [0., 0.],\n",
       "       [0., 0.],\n",
       "       [1., 0.],\n",
       "       [0., 0.],\n",
       "       [0., 1.],\n",
       "       [0., 0.],\n",
       "       [1., 1.],\n",
       "       [1., 1.],\n",
       "       [1., 1.],\n",
       "       [0., 0.],\n",
       "       [0., 0.],\n",
       "       [0., 0.],\n",
       "       [1., 1.],\n",
       "       [0., 0.],\n",
       "       [0., 1.],\n",
       "       [1., 1.],\n",
       "       [0., 0.],\n",
       "       [1., 1.],\n",
       "       [0., 1.],\n",
       "       [1., 1.],\n",
       "       [0., 0.],\n",
       "       [0., 0.],\n",
       "       [0., 0.],\n",
       "       [0., 0.],\n",
       "       [0., 1.],\n",
       "       [0., 0.],\n",
       "       [0., 1.],\n",
       "       [1., 1.]])"
      ]
     },
     "execution_count": 86,
     "metadata": {},
     "output_type": "execute_result"
    }
   ],
   "source": [
    "np.concatenate((y_pred.reshape(-1,1) , y_test.reshape(-1,1)),1)"
   ]
  },
  {
   "cell_type": "code",
   "execution_count": 87,
   "id": "3a68a7ea",
   "metadata": {},
   "outputs": [
    {
     "data": {
      "text/plain": [
       "0.7191011235955056"
      ]
     },
     "execution_count": 87,
     "metadata": {},
     "output_type": "execute_result"
    }
   ],
   "source": [
    "from sklearn.metrics import confusion_matrix , accuracy_score\n",
    "cm = confusion_matrix(y_test , y_pred)\n",
    "accuracy_score(y_test , y_pred)"
   ]
  },
  {
   "cell_type": "code",
   "execution_count": 88,
   "id": "9b31c51b",
   "metadata": {},
   "outputs": [
    {
     "name": "stdout",
     "output_type": "stream",
     "text": [
      "[[84 22]\n",
      " [28 44]]\n"
     ]
    }
   ],
   "source": [
    "print(cm)"
   ]
  },
  {
   "cell_type": "code",
   "execution_count": 89,
   "id": "50297f12",
   "metadata": {},
   "outputs": [
    {
     "data": {
      "text/plain": [
       "0.7191011235955056"
      ]
     },
     "execution_count": 89,
     "metadata": {},
     "output_type": "execute_result"
    }
   ],
   "source": [
    "classifier.score(x_test,y_test)"
   ]
  },
  {
   "cell_type": "code",
   "execution_count": 90,
   "id": "7e0ea9e2",
   "metadata": {},
   "outputs": [
    {
     "data": {
      "text/plain": [
       "0.2808988764044944"
      ]
     },
     "execution_count": 90,
     "metadata": {},
     "output_type": "execute_result"
    }
   ],
   "source": [
    "from sklearn.metrics import mean_squared_error\n",
    "\n",
    "mean_squared_error(y_pred , y_test)"
   ]
  },
  {
   "cell_type": "code",
   "execution_count": 93,
   "id": "b568f04b",
   "metadata": {},
   "outputs": [
    {
     "name": "stdout",
     "output_type": "stream",
     "text": [
      "              precision    recall  f1-score   support\n",
      "\n",
      "         0.0       0.75      0.79      0.77       106\n",
      "         1.0       0.67      0.61      0.64        72\n",
      "\n",
      "    accuracy                           0.72       178\n",
      "   macro avg       0.71      0.70      0.70       178\n",
      "weighted avg       0.72      0.72      0.72       178\n",
      "\n"
     ]
    }
   ],
   "source": [
    "from sklearn.metrics import classification_report\n",
    "print(classification_report(y_test , y_pred))\n"
   ]
  },
  {
   "cell_type": "markdown",
   "id": "b6fa4cb2",
   "metadata": {},
   "source": [
    "# KNN Classifier"
   ]
  },
  {
   "cell_type": "code",
   "execution_count": 96,
   "id": "04e25f68",
   "metadata": {},
   "outputs": [
    {
     "data": {
      "text/plain": [
       "KNeighborsClassifier()"
      ]
     },
     "execution_count": 96,
     "metadata": {},
     "output_type": "execute_result"
    }
   ],
   "source": [
    "from sklearn.neighbors import KNeighborsClassifier\n",
    "model_K = KNeighborsClassifier(n_neighbors = 5 , metric = 'minkowski')\n",
    " \n",
    "model_K.fit(x_train , y_train)\n"
   ]
  },
  {
   "cell_type": "code",
   "execution_count": 97,
   "id": "44fd572f",
   "metadata": {},
   "outputs": [
    {
     "name": "stderr",
     "output_type": "stream",
     "text": [
      "C:\\Users\\Aakash\\anaconda3\\lib\\site-packages\\sklearn\\neighbors\\_classification.py:228: FutureWarning: Unlike other reduction functions (e.g. `skew`, `kurtosis`), the default behavior of `mode` typically preserves the axis it acts along. In SciPy 1.11.0, this behavior will change: the default value of `keepdims` will become False, the `axis` over which the statistic is taken will be eliminated, and the value None will no longer be accepted. Set `keepdims` to True or False to avoid this warning.\n",
      "  mode, _ = stats.mode(_y[neigh_ind, k], axis=1)\n"
     ]
    }
   ],
   "source": [
    "y_pred=model_K.predict(x_test)"
   ]
  },
  {
   "cell_type": "markdown",
   "id": "6175e3fc",
   "metadata": {},
   "source": [
    "np.concatenate((y_pred.reshape(-1,1),y_test.reshape(-1,1)),1)"
   ]
  },
  {
   "cell_type": "code",
   "execution_count": 100,
   "id": "7d99c50d",
   "metadata": {},
   "outputs": [
    {
     "data": {
      "text/plain": [
       "0.7528089887640449"
      ]
     },
     "execution_count": 100,
     "metadata": {},
     "output_type": "execute_result"
    }
   ],
   "source": [
    "from sklearn.metrics import confusion_matrix , accuracy_score\n",
    "cm = confusion_matrix(y_test , y_pred)\n",
    "accuracy_score(y_test , y_pred)"
   ]
  },
  {
   "cell_type": "code",
   "execution_count": 101,
   "id": "8d04f631",
   "metadata": {},
   "outputs": [
    {
     "name": "stdout",
     "output_type": "stream",
     "text": [
      "[[92 14]\n",
      " [30 42]]\n"
     ]
    }
   ],
   "source": [
    "print(cm)"
   ]
  },
  {
   "cell_type": "markdown",
   "id": "08075f1e",
   "metadata": {},
   "source": [
    "# Naive Bayes Theorem"
   ]
  },
  {
   "cell_type": "code",
   "execution_count": 112,
   "id": "d528c853",
   "metadata": {},
   "outputs": [
    {
     "data": {
      "text/plain": [
       "GaussianNB()"
      ]
     },
     "execution_count": 112,
     "metadata": {},
     "output_type": "execute_result"
    }
   ],
   "source": [
    "from sklearn.naive_bayes import GaussianNB\n",
    "model = GaussianNB()\n",
    "model.fit(x_train , y_train)\n"
   ]
  },
  {
   "cell_type": "code",
   "execution_count": 113,
   "id": "4c378aa4",
   "metadata": {},
   "outputs": [],
   "source": [
    "y_pred = model.predict(x_test)"
   ]
  },
  {
   "cell_type": "code",
   "execution_count": 114,
   "id": "1b552403",
   "metadata": {},
   "outputs": [
    {
     "data": {
      "text/plain": [
       "array([[1., 0.],\n",
       "       [0., 0.],\n",
       "       [1., 1.],\n",
       "       [0., 0.],\n",
       "       [1., 1.],\n",
       "       [0., 0.],\n",
       "       [0., 0.],\n",
       "       [0., 1.],\n",
       "       [1., 0.],\n",
       "       [0., 1.],\n",
       "       [1., 0.],\n",
       "       [1., 1.],\n",
       "       [1., 1.],\n",
       "       [0., 0.],\n",
       "       [1., 1.],\n",
       "       [0., 0.],\n",
       "       [1., 1.],\n",
       "       [1., 0.],\n",
       "       [0., 1.],\n",
       "       [1., 1.],\n",
       "       [0., 0.],\n",
       "       [1., 1.],\n",
       "       [0., 1.],\n",
       "       [0., 0.],\n",
       "       [0., 0.],\n",
       "       [0., 0.],\n",
       "       [0., 0.],\n",
       "       [0., 1.],\n",
       "       [0., 1.],\n",
       "       [0., 0.],\n",
       "       [0., 1.],\n",
       "       [0., 1.],\n",
       "       [0., 0.],\n",
       "       [0., 0.],\n",
       "       [1., 0.],\n",
       "       [0., 0.],\n",
       "       [0., 0.],\n",
       "       [0., 0.],\n",
       "       [0., 0.],\n",
       "       [0., 0.],\n",
       "       [1., 0.],\n",
       "       [0., 0.],\n",
       "       [1., 1.],\n",
       "       [0., 0.],\n",
       "       [1., 1.],\n",
       "       [0., 0.],\n",
       "       [0., 0.],\n",
       "       [0., 0.],\n",
       "       [0., 0.],\n",
       "       [0., 1.],\n",
       "       [1., 0.],\n",
       "       [0., 0.],\n",
       "       [0., 0.],\n",
       "       [1., 0.],\n",
       "       [0., 0.],\n",
       "       [1., 0.],\n",
       "       [1., 1.],\n",
       "       [1., 1.],\n",
       "       [0., 0.],\n",
       "       [1., 1.],\n",
       "       [1., 1.],\n",
       "       [0., 0.],\n",
       "       [1., 1.],\n",
       "       [0., 0.],\n",
       "       [0., 0.],\n",
       "       [0., 1.],\n",
       "       [1., 0.],\n",
       "       [0., 0.],\n",
       "       [0., 1.],\n",
       "       [1., 1.],\n",
       "       [0., 0.],\n",
       "       [0., 1.],\n",
       "       [0., 0.],\n",
       "       [1., 1.],\n",
       "       [0., 0.],\n",
       "       [0., 0.],\n",
       "       [0., 1.],\n",
       "       [1., 1.],\n",
       "       [1., 0.],\n",
       "       [0., 0.],\n",
       "       [0., 0.],\n",
       "       [1., 1.],\n",
       "       [1., 0.],\n",
       "       [1., 1.],\n",
       "       [1., 1.],\n",
       "       [0., 0.],\n",
       "       [0., 0.],\n",
       "       [0., 1.],\n",
       "       [1., 0.],\n",
       "       [0., 0.],\n",
       "       [0., 0.],\n",
       "       [1., 1.],\n",
       "       [1., 0.],\n",
       "       [0., 0.],\n",
       "       [0., 0.],\n",
       "       [1., 0.],\n",
       "       [1., 1.],\n",
       "       [1., 0.],\n",
       "       [0., 1.],\n",
       "       [1., 1.],\n",
       "       [0., 0.],\n",
       "       [1., 1.],\n",
       "       [0., 1.],\n",
       "       [1., 0.],\n",
       "       [0., 0.],\n",
       "       [1., 1.],\n",
       "       [0., 1.],\n",
       "       [0., 1.],\n",
       "       [0., 0.],\n",
       "       [1., 1.],\n",
       "       [1., 1.],\n",
       "       [1., 1.],\n",
       "       [0., 0.],\n",
       "       [1., 1.],\n",
       "       [0., 0.],\n",
       "       [0., 1.],\n",
       "       [0., 0.],\n",
       "       [0., 1.],\n",
       "       [0., 0.],\n",
       "       [1., 1.],\n",
       "       [0., 0.],\n",
       "       [0., 0.],\n",
       "       [0., 0.],\n",
       "       [0., 1.],\n",
       "       [0., 0.],\n",
       "       [1., 0.],\n",
       "       [0., 0.],\n",
       "       [0., 0.],\n",
       "       [0., 0.],\n",
       "       [0., 0.],\n",
       "       [0., 0.],\n",
       "       [0., 0.],\n",
       "       [1., 0.],\n",
       "       [0., 0.],\n",
       "       [0., 0.],\n",
       "       [1., 1.],\n",
       "       [1., 0.],\n",
       "       [1., 1.],\n",
       "       [1., 1.],\n",
       "       [0., 0.],\n",
       "       [0., 0.],\n",
       "       [0., 0.],\n",
       "       [1., 1.],\n",
       "       [0., 1.],\n",
       "       [1., 0.],\n",
       "       [0., 1.],\n",
       "       [1., 0.],\n",
       "       [1., 1.],\n",
       "       [0., 0.],\n",
       "       [0., 0.],\n",
       "       [0., 0.],\n",
       "       [0., 0.],\n",
       "       [1., 0.],\n",
       "       [0., 0.],\n",
       "       [0., 1.],\n",
       "       [0., 0.],\n",
       "       [1., 1.],\n",
       "       [1., 1.],\n",
       "       [1., 1.],\n",
       "       [0., 0.],\n",
       "       [0., 0.],\n",
       "       [0., 0.],\n",
       "       [1., 1.],\n",
       "       [0., 0.],\n",
       "       [0., 1.],\n",
       "       [1., 1.],\n",
       "       [0., 0.],\n",
       "       [1., 1.],\n",
       "       [0., 1.],\n",
       "       [1., 1.],\n",
       "       [0., 0.],\n",
       "       [0., 0.],\n",
       "       [0., 0.],\n",
       "       [0., 0.],\n",
       "       [0., 1.],\n",
       "       [0., 0.],\n",
       "       [0., 1.],\n",
       "       [1., 1.]])"
      ]
     },
     "execution_count": 114,
     "metadata": {},
     "output_type": "execute_result"
    }
   ],
   "source": [
    "np.concatenate((y_pred.reshape(-1,1) , y_test.reshape(-1,1)),1)"
   ]
  },
  {
   "cell_type": "code",
   "execution_count": 115,
   "id": "2e687f37",
   "metadata": {},
   "outputs": [
    {
     "data": {
      "text/plain": [
       "0.7134831460674157"
      ]
     },
     "execution_count": 115,
     "metadata": {},
     "output_type": "execute_result"
    }
   ],
   "source": [
    "from sklearn.metrics import confusion_matrix , accuracy_score\n",
    "cm = confusion_matrix(y_test , y_pred)\n",
    "accuracy_score(y_test , y_pred)"
   ]
  },
  {
   "cell_type": "code",
   "execution_count": 116,
   "id": "be9ded11",
   "metadata": {},
   "outputs": [
    {
     "name": "stdout",
     "output_type": "stream",
     "text": [
      "[[83 23]\n",
      " [28 44]]\n"
     ]
    }
   ],
   "source": [
    "print(cm)"
   ]
  },
  {
   "cell_type": "markdown",
   "id": "006da8eb",
   "metadata": {},
   "source": [
    "# Decision Tree"
   ]
  },
  {
   "cell_type": "code",
   "execution_count": 124,
   "id": "e3d501f5",
   "metadata": {},
   "outputs": [],
   "source": [
    "from sklearn.tree import DecisionTreeClassifier\n",
    "model = DecisionTreeClassifier(criterion = 'entropy' , random_state = 0)\n",
    "model.fit(x_train , y_train)\n",
    " \n",
    "y_pred = model.predict(x_test)\n"
   ]
  },
  {
   "cell_type": "code",
   "execution_count": 125,
   "id": "f3adc4b4",
   "metadata": {
    "scrolled": false
   },
   "outputs": [
    {
     "data": {
      "text/plain": [
       "[Text(0.5187586805555555, 0.975, 'X[3] <= 0.5\\nentropy = 0.956\\nsamples = 709\\nvalue = [442, 267]'),\n",
       " Text(0.22307291666666668, 0.925, 'X[1] <= 13.0\\nentropy = 0.663\\nsamples = 464\\nvalue = [384, 80]'),\n",
       " Text(0.035555555555555556, 0.875, 'X[2] <= 3.5\\nentropy = 0.989\\nsamples = 32\\nvalue = [14, 18]'),\n",
       " Text(0.017777777777777778, 0.825, 'X[2] <= 0.5\\nentropy = 0.31\\nsamples = 18\\nvalue = [1, 17]'),\n",
       " Text(0.008888888888888889, 0.775, 'entropy = 0.0\\nsamples = 1\\nvalue = [1, 0]'),\n",
       " Text(0.02666666666666667, 0.775, 'entropy = 0.0\\nsamples = 17\\nvalue = [0, 17]'),\n",
       " Text(0.05333333333333334, 0.825, 'X[2] <= 5.5\\nentropy = 0.371\\nsamples = 14\\nvalue = [13, 1]'),\n",
       " Text(0.044444444444444446, 0.775, 'entropy = 0.0\\nsamples = 9\\nvalue = [9, 0]'),\n",
       " Text(0.06222222222222222, 0.775, 'X[2] <= 6.5\\nentropy = 0.722\\nsamples = 5\\nvalue = [4, 1]'),\n",
       " Text(0.05333333333333334, 0.725, 'X[7] <= 0.5\\nentropy = 1.0\\nsamples = 2\\nvalue = [1, 1]'),\n",
       " Text(0.044444444444444446, 0.675, 'entropy = 0.0\\nsamples = 1\\nvalue = [1, 0]'),\n",
       " Text(0.06222222222222222, 0.675, 'entropy = 0.0\\nsamples = 1\\nvalue = [0, 1]'),\n",
       " Text(0.07111111111111111, 0.725, 'entropy = 0.0\\nsamples = 3\\nvalue = [3, 0]'),\n",
       " Text(0.4105902777777778, 0.875, 'X[0] <= 1.5\\nentropy = 0.593\\nsamples = 432\\nvalue = [370, 62]'),\n",
       " Text(0.21027777777777779, 0.825, 'X[1] <= 53.0\\nentropy = 0.903\\nsamples = 94\\nvalue = [64, 30]'),\n",
       " Text(0.1638888888888889, 0.775, 'X[1] <= 28.5\\nentropy = 0.959\\nsamples = 76\\nvalue = [47, 29]'),\n",
       " Text(0.09777777777777778, 0.725, 'X[1] <= 24.5\\nentropy = 0.971\\nsamples = 15\\nvalue = [6, 9]'),\n",
       " Text(0.08, 0.675, 'X[2] <= 1.5\\nentropy = 0.918\\nsamples = 6\\nvalue = [4, 2]'),\n",
       " Text(0.07111111111111111, 0.625, 'X[1] <= 21.0\\nentropy = 0.722\\nsamples = 5\\nvalue = [4, 1]'),\n",
       " Text(0.06222222222222222, 0.575, 'entropy = 0.0\\nsamples = 2\\nvalue = [2, 0]'),\n",
       " Text(0.08, 0.575, 'X[1] <= 23.5\\nentropy = 0.918\\nsamples = 3\\nvalue = [2, 1]'),\n",
       " Text(0.07111111111111111, 0.525, 'entropy = 0.0\\nsamples = 1\\nvalue = [0, 1]'),\n",
       " Text(0.08888888888888889, 0.525, 'entropy = 0.0\\nsamples = 2\\nvalue = [2, 0]'),\n",
       " Text(0.08888888888888889, 0.625, 'entropy = 0.0\\nsamples = 1\\nvalue = [0, 1]'),\n",
       " Text(0.11555555555555555, 0.675, 'X[2] <= 1.5\\nentropy = 0.764\\nsamples = 9\\nvalue = [2, 7]'),\n",
       " Text(0.10666666666666667, 0.625, 'X[1] <= 27.5\\nentropy = 0.544\\nsamples = 8\\nvalue = [1, 7]'),\n",
       " Text(0.09777777777777778, 0.575, 'entropy = 0.0\\nsamples = 5\\nvalue = [0, 5]'),\n",
       " Text(0.11555555555555555, 0.575, 'entropy = 0.918\\nsamples = 3\\nvalue = [1, 2]'),\n",
       " Text(0.12444444444444444, 0.625, 'entropy = 0.0\\nsamples = 1\\nvalue = [1, 0]'),\n",
       " Text(0.23, 0.725, 'X[1] <= 47.5\\nentropy = 0.913\\nsamples = 61\\nvalue = [41, 20]'),\n",
       " Text(0.18888888888888888, 0.675, 'X[1] <= 45.5\\nentropy = 0.827\\nsamples = 50\\nvalue = [37, 13]'),\n",
       " Text(0.18, 0.625, 'X[1] <= 33.5\\nentropy = 0.867\\nsamples = 45\\nvalue = [32, 13]'),\n",
       " Text(0.13333333333333333, 0.575, 'X[5] <= 0.5\\nentropy = 0.65\\nsamples = 24\\nvalue = [20, 4]'),\n",
       " Text(0.10666666666666667, 0.525, 'X[7] <= 0.5\\nentropy = 0.523\\nsamples = 17\\nvalue = [15, 2]'),\n",
       " Text(0.09777777777777778, 0.475, 'entropy = 0.0\\nsamples = 2\\nvalue = [2, 0]'),\n",
       " Text(0.11555555555555555, 0.475, 'X[1] <= 30.0\\nentropy = 0.567\\nsamples = 15\\nvalue = [13, 2]'),\n",
       " Text(0.10666666666666667, 0.425, 'entropy = 0.619\\nsamples = 13\\nvalue = [11, 2]'),\n",
       " Text(0.12444444444444444, 0.425, 'entropy = 0.0\\nsamples = 2\\nvalue = [2, 0]'),\n",
       " Text(0.16, 0.525, 'X[1] <= 32.0\\nentropy = 0.863\\nsamples = 7\\nvalue = [5, 2]'),\n",
       " Text(0.1511111111111111, 0.475, 'X[1] <= 30.5\\nentropy = 0.918\\nsamples = 6\\nvalue = [4, 2]'),\n",
       " Text(0.14222222222222222, 0.425, 'X[1] <= 29.5\\nentropy = 0.722\\nsamples = 5\\nvalue = [4, 1]'),\n",
       " Text(0.13333333333333333, 0.375, 'X[2] <= 0.5\\nentropy = 0.811\\nsamples = 4\\nvalue = [3, 1]'),\n",
       " Text(0.12444444444444444, 0.325, 'entropy = 0.918\\nsamples = 3\\nvalue = [2, 1]'),\n",
       " Text(0.14222222222222222, 0.325, 'entropy = 0.0\\nsamples = 1\\nvalue = [1, 0]'),\n",
       " Text(0.1511111111111111, 0.375, 'entropy = 0.0\\nsamples = 1\\nvalue = [1, 0]'),\n",
       " Text(0.16, 0.425, 'entropy = 0.0\\nsamples = 1\\nvalue = [0, 1]'),\n",
       " Text(0.1688888888888889, 0.475, 'entropy = 0.0\\nsamples = 1\\nvalue = [1, 0]'),\n",
       " Text(0.22666666666666666, 0.575, 'X[1] <= 35.5\\nentropy = 0.985\\nsamples = 21\\nvalue = [12, 9]'),\n",
       " Text(0.21777777777777776, 0.525, 'entropy = 0.0\\nsamples = 4\\nvalue = [0, 4]'),\n",
       " Text(0.23555555555555555, 0.525, 'X[7] <= 0.5\\nentropy = 0.874\\nsamples = 17\\nvalue = [12, 5]'),\n",
       " Text(0.19555555555555557, 0.475, 'X[1] <= 41.0\\nentropy = 0.985\\nsamples = 7\\nvalue = [4, 3]'),\n",
       " Text(0.17777777777777778, 0.425, 'X[2] <= 0.5\\nentropy = 0.811\\nsamples = 4\\nvalue = [3, 1]'),\n",
       " Text(0.1688888888888889, 0.375, 'entropy = 0.0\\nsamples = 2\\nvalue = [2, 0]'),\n",
       " Text(0.18666666666666668, 0.375, 'X[1] <= 36.5\\nentropy = 1.0\\nsamples = 2\\nvalue = [1, 1]'),\n",
       " Text(0.17777777777777778, 0.325, 'entropy = 0.0\\nsamples = 1\\nvalue = [0, 1]'),\n",
       " Text(0.19555555555555557, 0.325, 'entropy = 0.0\\nsamples = 1\\nvalue = [1, 0]'),\n",
       " Text(0.21333333333333335, 0.425, 'X[1] <= 43.5\\nentropy = 0.918\\nsamples = 3\\nvalue = [1, 2]'),\n",
       " Text(0.20444444444444446, 0.375, 'entropy = 0.0\\nsamples = 1\\nvalue = [0, 1]'),\n",
       " Text(0.2222222222222222, 0.375, 'X[6] <= 0.5\\nentropy = 1.0\\nsamples = 2\\nvalue = [1, 1]'),\n",
       " Text(0.21333333333333335, 0.325, 'entropy = 0.0\\nsamples = 1\\nvalue = [1, 0]'),\n",
       " Text(0.2311111111111111, 0.325, 'entropy = 0.0\\nsamples = 1\\nvalue = [0, 1]'),\n",
       " Text(0.27555555555555555, 0.475, 'X[1] <= 41.0\\nentropy = 0.722\\nsamples = 10\\nvalue = [8, 2]'),\n",
       " Text(0.26666666666666666, 0.425, 'X[1] <= 39.5\\nentropy = 0.918\\nsamples = 6\\nvalue = [4, 2]'),\n",
       " Text(0.2577777777777778, 0.375, 'X[2] <= 0.5\\nentropy = 0.722\\nsamples = 5\\nvalue = [4, 1]'),\n",
       " Text(0.24888888888888888, 0.325, 'entropy = 0.0\\nsamples = 2\\nvalue = [2, 0]'),\n",
       " Text(0.26666666666666666, 0.325, 'X[1] <= 37.5\\nentropy = 0.918\\nsamples = 3\\nvalue = [2, 1]'),\n",
       " Text(0.2577777777777778, 0.275, 'entropy = 0.0\\nsamples = 1\\nvalue = [1, 0]'),\n",
       " Text(0.27555555555555555, 0.275, 'entropy = 1.0\\nsamples = 2\\nvalue = [1, 1]'),\n",
       " Text(0.27555555555555555, 0.375, 'entropy = 0.0\\nsamples = 1\\nvalue = [0, 1]'),\n",
       " Text(0.28444444444444444, 0.425, 'entropy = 0.0\\nsamples = 4\\nvalue = [4, 0]'),\n",
       " Text(0.19777777777777777, 0.625, 'entropy = 0.0\\nsamples = 5\\nvalue = [5, 0]'),\n",
       " Text(0.27111111111111114, 0.675, 'X[2] <= 0.5\\nentropy = 0.946\\nsamples = 11\\nvalue = [4, 7]'),\n",
       " Text(0.26222222222222225, 0.625, 'entropy = 0.0\\nsamples = 3\\nvalue = [0, 3]'),\n",
       " Text(0.28, 0.625, 'X[1] <= 49.5\\nentropy = 1.0\\nsamples = 8\\nvalue = [4, 4]'),\n",
       " Text(0.26222222222222225, 0.575, 'X[2] <= 1.5\\nentropy = 0.811\\nsamples = 4\\nvalue = [1, 3]'),\n",
       " Text(0.25333333333333335, 0.525, 'entropy = 0.0\\nsamples = 3\\nvalue = [0, 3]'),\n",
       " Text(0.27111111111111114, 0.525, 'entropy = 0.0\\nsamples = 1\\nvalue = [1, 0]'),\n",
       " Text(0.29777777777777775, 0.575, 'X[2] <= 1.5\\nentropy = 0.811\\nsamples = 4\\nvalue = [3, 1]'),\n",
       " Text(0.28888888888888886, 0.525, 'entropy = 0.0\\nsamples = 3\\nvalue = [3, 0]'),\n",
       " Text(0.30666666666666664, 0.525, 'entropy = 0.0\\nsamples = 1\\nvalue = [0, 1]'),\n",
       " Text(0.25666666666666665, 0.775, 'X[1] <= 75.5\\nentropy = 0.31\\nsamples = 18\\nvalue = [17, 1]'),\n",
       " Text(0.2477777777777778, 0.725, 'entropy = 0.0\\nsamples = 17\\nvalue = [17, 0]'),\n",
       " Text(0.26555555555555554, 0.725, 'entropy = 0.0\\nsamples = 1\\nvalue = [0, 1]'),\n",
       " Text(0.6109027777777778, 0.825, 'X[1] <= 42.5\\nentropy = 0.452\\nsamples = 338\\nvalue = [306, 32]'),\n",
       " Text(0.6020138888888888, 0.775, 'X[2] <= 2.5\\nentropy = 0.481\\nsamples = 308\\nvalue = [276, 32]'),\n",
       " Text(0.593125, 0.725, 'X[1] <= 32.5\\nentropy = 0.492\\nsamples = 298\\nvalue = [266, 32]'),\n",
       " Text(0.5240277777777778, 0.675, 'X[1] <= 31.5\\nentropy = 0.523\\nsamples = 246\\nvalue = [217, 29]'),\n",
       " Text(0.4747222222222222, 0.625, 'X[2] <= 1.5\\nentropy = 0.489\\nsamples = 235\\nvalue = [210, 25]'),\n",
       " Text(0.4027777777777778, 0.575, 'X[0] <= 2.5\\nentropy = 0.456\\nsamples = 219\\nvalue = [198, 21]'),\n",
       " Text(0.3244444444444444, 0.525, 'X[7] <= 0.5\\nentropy = 0.286\\nsamples = 40\\nvalue = [38, 2]'),\n",
       " Text(0.31555555555555553, 0.475, 'entropy = 0.0\\nsamples = 11\\nvalue = [11, 0]'),\n",
       " Text(0.3333333333333333, 0.475, 'X[1] <= 20.0\\nentropy = 0.362\\nsamples = 29\\nvalue = [27, 2]'),\n",
       " Text(0.31555555555555553, 0.425, 'X[1] <= 18.5\\nentropy = 0.592\\nsamples = 7\\nvalue = [6, 1]'),\n",
       " Text(0.30666666666666664, 0.375, 'entropy = 0.0\\nsamples = 4\\nvalue = [4, 0]'),\n",
       " Text(0.3244444444444444, 0.375, 'entropy = 0.918\\nsamples = 3\\nvalue = [2, 1]'),\n",
       " Text(0.3511111111111111, 0.425, 'X[1] <= 28.5\\nentropy = 0.267\\nsamples = 22\\nvalue = [21, 1]'),\n",
       " Text(0.3422222222222222, 0.375, 'entropy = 0.0\\nsamples = 11\\nvalue = [11, 0]'),\n",
       " Text(0.36, 0.375, 'X[1] <= 29.5\\nentropy = 0.439\\nsamples = 11\\nvalue = [10, 1]'),\n",
       " Text(0.3511111111111111, 0.325, 'entropy = 0.592\\nsamples = 7\\nvalue = [6, 1]'),\n",
       " Text(0.3688888888888889, 0.325, 'entropy = 0.0\\nsamples = 4\\nvalue = [4, 0]'),\n",
       " Text(0.4811111111111111, 0.525, 'X[1] <= 30.5\\nentropy = 0.488\\nsamples = 179\\nvalue = [160, 19]'),\n",
       " Text(0.4722222222222222, 0.475, 'X[6] <= 0.5\\nentropy = 0.474\\nsamples = 177\\nvalue = [159, 18]'),\n",
       " Text(0.43333333333333335, 0.425, 'X[1] <= 20.5\\nentropy = 0.447\\nsamples = 161\\nvalue = [146, 15]'),\n",
       " Text(0.39555555555555555, 0.375, 'X[7] <= 0.5\\nentropy = 0.602\\nsamples = 34\\nvalue = [29, 5]'),\n",
       " Text(0.38666666666666666, 0.325, 'entropy = 0.0\\nsamples = 7\\nvalue = [7, 0]'),\n",
       " Text(0.40444444444444444, 0.325, 'X[2] <= 0.5\\nentropy = 0.691\\nsamples = 27\\nvalue = [22, 5]'),\n",
       " Text(0.38666666666666666, 0.275, 'X[1] <= 19.5\\nentropy = 0.65\\nsamples = 24\\nvalue = [20, 4]'),\n",
       " Text(0.37777777777777777, 0.225, 'X[1] <= 17.5\\nentropy = 0.75\\nsamples = 14\\nvalue = [11, 3]'),\n",
       " Text(0.36, 0.175, 'X[1] <= 16.5\\nentropy = 0.65\\nsamples = 6\\nvalue = [5, 1]'),\n",
       " Text(0.3511111111111111, 0.125, 'entropy = 0.811\\nsamples = 4\\nvalue = [3, 1]'),\n",
       " Text(0.3688888888888889, 0.125, 'entropy = 0.0\\nsamples = 2\\nvalue = [2, 0]'),\n",
       " Text(0.39555555555555555, 0.175, 'X[1] <= 18.5\\nentropy = 0.811\\nsamples = 8\\nvalue = [6, 2]'),\n",
       " Text(0.38666666666666666, 0.125, 'entropy = 0.918\\nsamples = 3\\nvalue = [2, 1]'),\n",
       " Text(0.40444444444444444, 0.125, 'entropy = 0.722\\nsamples = 5\\nvalue = [4, 1]'),\n",
       " Text(0.39555555555555555, 0.225, 'entropy = 0.469\\nsamples = 10\\nvalue = [9, 1]'),\n",
       " Text(0.4222222222222222, 0.275, 'X[1] <= 19.0\\nentropy = 0.918\\nsamples = 3\\nvalue = [2, 1]'),\n",
       " Text(0.41333333333333333, 0.225, 'entropy = 0.0\\nsamples = 2\\nvalue = [2, 0]'),\n",
       " Text(0.4311111111111111, 0.225, 'entropy = 0.0\\nsamples = 1\\nvalue = [0, 1]'),\n",
       " Text(0.4711111111111111, 0.375, 'X[2] <= 0.5\\nentropy = 0.398\\nsamples = 127\\nvalue = [117, 10]'),\n",
       " Text(0.4622222222222222, 0.325, 'X[1] <= 21.5\\nentropy = 0.426\\nsamples = 115\\nvalue = [105, 10]'),\n",
       " Text(0.4533333333333333, 0.275, 'entropy = 0.0\\nsamples = 6\\nvalue = [6, 0]'),\n",
       " Text(0.4711111111111111, 0.275, 'X[5] <= 0.5\\nentropy = 0.442\\nsamples = 109\\nvalue = [99, 10]'),\n",
       " Text(0.4488888888888889, 0.225, 'X[1] <= 26.5\\nentropy = 0.401\\nsamples = 88\\nvalue = [81, 7]'),\n",
       " Text(0.4311111111111111, 0.175, 'X[1] <= 22.5\\nentropy = 0.242\\nsamples = 25\\nvalue = [24, 1]'),\n",
       " Text(0.4222222222222222, 0.125, 'entropy = 0.544\\nsamples = 8\\nvalue = [7, 1]'),\n",
       " Text(0.44, 0.125, 'entropy = 0.0\\nsamples = 17\\nvalue = [17, 0]'),\n",
       " Text(0.4666666666666667, 0.175, 'X[1] <= 27.5\\nentropy = 0.454\\nsamples = 63\\nvalue = [57, 6]'),\n",
       " Text(0.4577777777777778, 0.125, 'entropy = 0.0\\nsamples = 1\\nvalue = [0, 1]'),\n",
       " Text(0.47555555555555556, 0.125, 'X[1] <= 28.5\\nentropy = 0.404\\nsamples = 62\\nvalue = [57, 5]'),\n",
       " Text(0.4666666666666667, 0.075, 'entropy = 0.0\\nsamples = 9\\nvalue = [9, 0]'),\n",
       " Text(0.48444444444444446, 0.075, 'X[1] <= 29.5\\nentropy = 0.451\\nsamples = 53\\nvalue = [48, 5]'),\n",
       " Text(0.47555555555555556, 0.025, 'entropy = 0.414\\nsamples = 48\\nvalue = [44, 4]'),\n",
       " Text(0.49333333333333335, 0.025, 'entropy = 0.722\\nsamples = 5\\nvalue = [4, 1]'),\n",
       " Text(0.49333333333333335, 0.225, 'X[1] <= 23.5\\nentropy = 0.592\\nsamples = 21\\nvalue = [18, 3]'),\n",
       " Text(0.48444444444444446, 0.175, 'entropy = 0.0\\nsamples = 3\\nvalue = [3, 0]'),\n",
       " Text(0.5022222222222222, 0.175, 'X[1] <= 26.0\\nentropy = 0.65\\nsamples = 18\\nvalue = [15, 3]'),\n",
       " Text(0.49333333333333335, 0.125, 'entropy = 1.0\\nsamples = 2\\nvalue = [1, 1]'),\n",
       " Text(0.5111111111111111, 0.125, 'X[1] <= 28.5\\nentropy = 0.544\\nsamples = 16\\nvalue = [14, 2]'),\n",
       " Text(0.5022222222222222, 0.075, 'entropy = 0.0\\nsamples = 1\\nvalue = [1, 0]'),\n",
       " Text(0.52, 0.075, 'entropy = 0.567\\nsamples = 15\\nvalue = [13, 2]'),\n",
       " Text(0.48, 0.325, 'entropy = 0.0\\nsamples = 12\\nvalue = [12, 0]'),\n",
       " Text(0.5111111111111111, 0.425, 'X[1] <= 23.5\\nentropy = 0.696\\nsamples = 16\\nvalue = [13, 3]'),\n",
       " Text(0.5022222222222222, 0.375, 'entropy = 0.0\\nsamples = 4\\nvalue = [4, 0]'),\n",
       " Text(0.52, 0.375, 'X[1] <= 26.5\\nentropy = 0.811\\nsamples = 12\\nvalue = [9, 3]'),\n",
       " Text(0.5111111111111111, 0.325, 'entropy = 0.918\\nsamples = 3\\nvalue = [1, 2]'),\n",
       " Text(0.5288888888888889, 0.325, 'X[2] <= 0.5\\nentropy = 0.503\\nsamples = 9\\nvalue = [8, 1]'),\n",
       " Text(0.52, 0.275, 'X[1] <= 28.0\\nentropy = 0.544\\nsamples = 8\\nvalue = [7, 1]'),\n",
       " Text(0.5111111111111111, 0.225, 'entropy = 0.0\\nsamples = 1\\nvalue = [1, 0]'),\n",
       " Text(0.5288888888888889, 0.225, 'X[1] <= 29.5\\nentropy = 0.592\\nsamples = 7\\nvalue = [6, 1]'),\n",
       " Text(0.52, 0.175, 'entropy = 0.65\\nsamples = 6\\nvalue = [5, 1]'),\n",
       " Text(0.5377777777777778, 0.175, 'entropy = 0.0\\nsamples = 1\\nvalue = [1, 0]'),\n",
       " Text(0.5377777777777778, 0.275, 'entropy = 0.0\\nsamples = 1\\nvalue = [1, 0]'),\n",
       " Text(0.49, 0.475, 'entropy = 1.0\\nsamples = 2\\nvalue = [1, 1]'),\n",
       " Text(0.5466666666666666, 0.575, 'X[1] <= 19.0\\nentropy = 0.811\\nsamples = 16\\nvalue = [12, 4]'),\n",
       " Text(0.5377777777777778, 0.525, 'entropy = 0.0\\nsamples = 5\\nvalue = [5, 0]'),\n",
       " Text(0.5555555555555556, 0.525, 'X[0] <= 2.5\\nentropy = 0.946\\nsamples = 11\\nvalue = [7, 4]'),\n",
       " Text(0.5466666666666666, 0.475, 'entropy = 0.0\\nsamples = 3\\nvalue = [3, 0]'),\n",
       " Text(0.5644444444444444, 0.475, 'X[1] <= 28.5\\nentropy = 1.0\\nsamples = 8\\nvalue = [4, 4]'),\n",
       " Text(0.5466666666666666, 0.425, 'X[1] <= 22.0\\nentropy = 0.811\\nsamples = 4\\nvalue = [3, 1]'),\n",
       " Text(0.5377777777777778, 0.375, 'entropy = 0.0\\nsamples = 1\\nvalue = [0, 1]'),\n",
       " Text(0.5555555555555556, 0.375, 'entropy = 0.0\\nsamples = 3\\nvalue = [3, 0]'),\n",
       " Text(0.5822222222222222, 0.425, 'X[5] <= 0.5\\nentropy = 0.811\\nsamples = 4\\nvalue = [1, 3]'),\n",
       " Text(0.5733333333333334, 0.375, 'entropy = 0.0\\nsamples = 2\\nvalue = [0, 2]'),\n",
       " Text(0.5911111111111111, 0.375, 'entropy = 1.0\\nsamples = 2\\nvalue = [1, 1]'),\n",
       " Text(0.5733333333333334, 0.625, 'X[0] <= 2.5\\nentropy = 0.946\\nsamples = 11\\nvalue = [7, 4]'),\n",
       " Text(0.5644444444444444, 0.575, 'entropy = 0.0\\nsamples = 2\\nvalue = [2, 0]'),\n",
       " Text(0.5822222222222222, 0.575, 'X[7] <= 0.5\\nentropy = 0.991\\nsamples = 9\\nvalue = [5, 4]'),\n",
       " Text(0.5733333333333334, 0.525, 'entropy = 0.0\\nsamples = 1\\nvalue = [1, 0]'),\n",
       " Text(0.5911111111111111, 0.525, 'entropy = 1.0\\nsamples = 8\\nvalue = [4, 4]'),\n",
       " Text(0.6622222222222223, 0.675, 'X[6] <= 0.5\\nentropy = 0.318\\nsamples = 52\\nvalue = [49, 3]'),\n",
       " Text(0.6444444444444445, 0.625, 'X[2] <= 0.5\\nentropy = 0.246\\nsamples = 49\\nvalue = [47, 2]'),\n",
       " Text(0.6355555555555555, 0.575, 'X[1] <= 33.5\\nentropy = 0.297\\nsamples = 38\\nvalue = [36, 2]'),\n",
       " Text(0.6266666666666667, 0.525, 'entropy = 0.0\\nsamples = 7\\nvalue = [7, 0]'),\n",
       " Text(0.6444444444444445, 0.525, 'X[1] <= 39.5\\nentropy = 0.345\\nsamples = 31\\nvalue = [29, 2]'),\n",
       " Text(0.6355555555555555, 0.475, 'X[1] <= 34.5\\nentropy = 0.414\\nsamples = 24\\nvalue = [22, 2]'),\n",
       " Text(0.6177777777777778, 0.425, 'X[0] <= 2.5\\nentropy = 0.65\\nsamples = 6\\nvalue = [5, 1]'),\n",
       " Text(0.6088888888888889, 0.375, 'entropy = 1.0\\nsamples = 2\\nvalue = [1, 1]'),\n",
       " Text(0.6266666666666667, 0.375, 'entropy = 0.0\\nsamples = 4\\nvalue = [4, 0]'),\n",
       " Text(0.6533333333333333, 0.425, 'X[1] <= 38.5\\nentropy = 0.31\\nsamples = 18\\nvalue = [17, 1]'),\n",
       " Text(0.6444444444444445, 0.375, 'entropy = 0.0\\nsamples = 12\\nvalue = [12, 0]'),\n",
       " Text(0.6622222222222223, 0.375, 'X[0] <= 2.5\\nentropy = 0.65\\nsamples = 6\\nvalue = [5, 1]'),\n",
       " Text(0.6533333333333333, 0.325, 'entropy = 0.0\\nsamples = 3\\nvalue = [3, 0]'),\n",
       " Text(0.6711111111111111, 0.325, 'entropy = 0.918\\nsamples = 3\\nvalue = [2, 1]'),\n",
       " Text(0.6533333333333333, 0.475, 'entropy = 0.0\\nsamples = 7\\nvalue = [7, 0]'),\n",
       " Text(0.6533333333333333, 0.575, 'entropy = 0.0\\nsamples = 11\\nvalue = [11, 0]'),\n",
       " Text(0.68, 0.625, 'X[1] <= 40.0\\nentropy = 0.918\\nsamples = 3\\nvalue = [2, 1]'),\n",
       " Text(0.6711111111111111, 0.575, 'entropy = 0.0\\nsamples = 2\\nvalue = [2, 0]'),\n",
       " Text(0.6888888888888889, 0.575, 'entropy = 0.0\\nsamples = 1\\nvalue = [0, 1]'),\n",
       " Text(0.6109027777777778, 0.725, 'entropy = 0.0\\nsamples = 10\\nvalue = [10, 0]'),\n",
       " Text(0.6197916666666666, 0.775, 'entropy = 0.0\\nsamples = 30\\nvalue = [30, 0]'),\n",
       " Text(0.8144444444444444, 0.925, 'X[0] <= 2.5\\nentropy = 0.79\\nsamples = 245\\nvalue = [58, 187]'),\n",
       " Text(0.7088888888888889, 0.875, 'X[1] <= 2.5\\nentropy = 0.293\\nsamples = 136\\nvalue = [7, 129]'),\n",
       " Text(0.68, 0.825, 'X[2] <= 2.5\\nentropy = 1.0\\nsamples = 2\\nvalue = [1, 1]'),\n",
       " Text(0.6711111111111111, 0.775, 'entropy = 0.0\\nsamples = 1\\nvalue = [0, 1]'),\n",
       " Text(0.6888888888888889, 0.775, 'entropy = 0.0\\nsamples = 1\\nvalue = [1, 0]'),\n",
       " Text(0.7377777777777778, 0.825, 'X[1] <= 37.0\\nentropy = 0.264\\nsamples = 134\\nvalue = [6, 128]'),\n",
       " Text(0.7066666666666667, 0.775, 'X[1] <= 27.5\\nentropy = 0.147\\nsamples = 95\\nvalue = [2, 93]'),\n",
       " Text(0.6977777777777778, 0.725, 'X[1] <= 23.5\\nentropy = 0.239\\nsamples = 51\\nvalue = [2, 49]'),\n",
       " Text(0.6888888888888889, 0.675, 'entropy = 0.0\\nsamples = 34\\nvalue = [0, 34]'),\n",
       " Text(0.7066666666666667, 0.675, 'X[0] <= 1.5\\nentropy = 0.523\\nsamples = 17\\nvalue = [2, 15]'),\n",
       " Text(0.6977777777777778, 0.625, 'entropy = 0.0\\nsamples = 6\\nvalue = [0, 6]'),\n",
       " Text(0.7155555555555555, 0.625, 'X[2] <= 1.5\\nentropy = 0.684\\nsamples = 11\\nvalue = [2, 9]'),\n",
       " Text(0.7066666666666667, 0.575, 'X[7] <= 0.5\\nentropy = 0.918\\nsamples = 6\\nvalue = [2, 4]'),\n",
       " Text(0.6977777777777778, 0.525, 'entropy = 0.0\\nsamples = 1\\nvalue = [0, 1]'),\n",
       " Text(0.7155555555555555, 0.525, 'X[2] <= 0.5\\nentropy = 0.971\\nsamples = 5\\nvalue = [2, 3]'),\n",
       " Text(0.7066666666666667, 0.475, 'entropy = 0.0\\nsamples = 1\\nvalue = [1, 0]'),\n",
       " Text(0.7244444444444444, 0.475, 'X[1] <= 26.0\\nentropy = 0.811\\nsamples = 4\\nvalue = [1, 3]'),\n",
       " Text(0.7155555555555555, 0.425, 'entropy = 0.0\\nsamples = 2\\nvalue = [0, 2]'),\n",
       " Text(0.7333333333333333, 0.425, 'entropy = 1.0\\nsamples = 2\\nvalue = [1, 1]'),\n",
       " Text(0.7244444444444444, 0.575, 'entropy = 0.0\\nsamples = 5\\nvalue = [0, 5]'),\n",
       " Text(0.7155555555555555, 0.725, 'entropy = 0.0\\nsamples = 44\\nvalue = [0, 44]'),\n",
       " Text(0.7688888888888888, 0.775, 'X[0] <= 1.5\\nentropy = 0.477\\nsamples = 39\\nvalue = [4, 35]'),\n",
       " Text(0.7511111111111111, 0.725, 'X[2] <= 0.5\\nentropy = 0.242\\nsamples = 25\\nvalue = [1, 24]'),\n",
       " Text(0.7422222222222222, 0.675, 'X[1] <= 49.5\\nentropy = 0.544\\nsamples = 8\\nvalue = [1, 7]'),\n",
       " Text(0.7333333333333333, 0.625, 'entropy = 0.0\\nsamples = 5\\nvalue = [0, 5]'),\n",
       " Text(0.7511111111111111, 0.625, 'X[1] <= 54.0\\nentropy = 0.918\\nsamples = 3\\nvalue = [1, 2]'),\n",
       " Text(0.7422222222222222, 0.575, 'entropy = 0.0\\nsamples = 1\\nvalue = [1, 0]'),\n",
       " Text(0.76, 0.575, 'entropy = 0.0\\nsamples = 2\\nvalue = [0, 2]'),\n",
       " Text(0.76, 0.675, 'entropy = 0.0\\nsamples = 17\\nvalue = [0, 17]'),\n",
       " Text(0.7866666666666666, 0.725, 'X[1] <= 39.0\\nentropy = 0.75\\nsamples = 14\\nvalue = [3, 11]'),\n",
       " Text(0.7777777777777778, 0.675, 'entropy = 0.0\\nsamples = 1\\nvalue = [1, 0]'),\n",
       " Text(0.7955555555555556, 0.675, 'X[1] <= 56.0\\nentropy = 0.619\\nsamples = 13\\nvalue = [2, 11]'),\n",
       " Text(0.7866666666666666, 0.625, 'X[1] <= 44.5\\nentropy = 0.414\\nsamples = 12\\nvalue = [1, 11]'),\n",
       " Text(0.7777777777777778, 0.575, 'X[1] <= 43.0\\nentropy = 0.722\\nsamples = 5\\nvalue = [1, 4]'),\n",
       " Text(0.7688888888888888, 0.525, 'entropy = 0.0\\nsamples = 4\\nvalue = [0, 4]'),\n",
       " Text(0.7866666666666666, 0.525, 'entropy = 0.0\\nsamples = 1\\nvalue = [1, 0]'),\n",
       " Text(0.7955555555555556, 0.575, 'entropy = 0.0\\nsamples = 7\\nvalue = [0, 7]'),\n",
       " Text(0.8044444444444444, 0.625, 'entropy = 0.0\\nsamples = 1\\nvalue = [1, 0]'),\n",
       " Text(0.92, 0.875, 'X[2] <= 3.5\\nentropy = 0.997\\nsamples = 109\\nvalue = [51, 58]'),\n",
       " Text(0.8844444444444445, 0.825, 'X[1] <= 36.5\\nentropy = 0.949\\nsamples = 87\\nvalue = [32, 55]'),\n",
       " Text(0.8755555555555555, 0.775, 'X[1] <= 7.0\\nentropy = 0.922\\nsamples = 83\\nvalue = [28, 55]'),\n",
       " Text(0.8666666666666667, 0.725, 'entropy = 0.0\\nsamples = 8\\nvalue = [0, 8]'),\n",
       " Text(0.8844444444444445, 0.725, 'X[7] <= 0.5\\nentropy = 0.953\\nsamples = 75\\nvalue = [28, 47]'),\n",
       " Text(0.84, 0.675, 'X[1] <= 26.0\\nentropy = 0.667\\nsamples = 23\\nvalue = [4, 19]'),\n",
       " Text(0.8311111111111111, 0.625, 'X[2] <= 0.5\\nentropy = 0.971\\nsamples = 10\\nvalue = [4, 6]'),\n",
       " Text(0.8133333333333334, 0.575, 'X[1] <= 22.5\\nentropy = 0.65\\nsamples = 6\\nvalue = [1, 5]'),\n",
       " Text(0.8044444444444444, 0.525, 'entropy = 0.0\\nsamples = 5\\nvalue = [0, 5]'),\n",
       " Text(0.8222222222222222, 0.525, 'entropy = 0.0\\nsamples = 1\\nvalue = [1, 0]'),\n",
       " Text(0.8488888888888889, 0.575, 'X[1] <= 16.0\\nentropy = 0.811\\nsamples = 4\\nvalue = [3, 1]'),\n",
       " Text(0.84, 0.525, 'X[2] <= 1.5\\nentropy = 1.0\\nsamples = 2\\nvalue = [1, 1]'),\n",
       " Text(0.8311111111111111, 0.475, 'entropy = 0.0\\nsamples = 1\\nvalue = [0, 1]'),\n",
       " Text(0.8488888888888889, 0.475, 'entropy = 0.0\\nsamples = 1\\nvalue = [1, 0]'),\n",
       " Text(0.8577777777777778, 0.525, 'entropy = 0.0\\nsamples = 2\\nvalue = [2, 0]'),\n",
       " Text(0.8488888888888889, 0.625, 'entropy = 0.0\\nsamples = 13\\nvalue = [0, 13]'),\n",
       " Text(0.9288888888888889, 0.675, 'X[2] <= 2.5\\nentropy = 0.996\\nsamples = 52\\nvalue = [24, 28]'),\n",
       " Text(0.92, 0.625, 'X[2] <= 1.5\\nentropy = 0.999\\nsamples = 50\\nvalue = [24, 26]'),\n",
       " Text(0.9022222222222223, 0.575, 'X[1] <= 30.5\\nentropy = 0.984\\nsamples = 40\\nvalue = [17, 23]'),\n",
       " Text(0.8933333333333333, 0.525, 'X[1] <= 28.5\\nentropy = 0.977\\nsamples = 39\\nvalue = [16, 23]'),\n",
       " Text(0.8666666666666667, 0.475, 'X[1] <= 27.5\\nentropy = 0.999\\nsamples = 25\\nvalue = [12, 13]'),\n",
       " Text(0.8577777777777778, 0.425, 'X[2] <= 0.5\\nentropy = 0.995\\nsamples = 24\\nvalue = [11, 13]'),\n",
       " Text(0.8311111111111111, 0.375, 'X[1] <= 17.0\\nentropy = 0.954\\nsamples = 16\\nvalue = [6, 10]'),\n",
       " Text(0.8222222222222222, 0.325, 'entropy = 0.0\\nsamples = 3\\nvalue = [0, 3]'),\n",
       " Text(0.84, 0.325, 'X[1] <= 25.5\\nentropy = 0.996\\nsamples = 13\\nvalue = [6, 7]'),\n",
       " Text(0.8311111111111111, 0.275, 'X[1] <= 23.5\\nentropy = 0.994\\nsamples = 11\\nvalue = [6, 5]'),\n",
       " Text(0.8222222222222222, 0.225, 'X[1] <= 22.5\\nentropy = 0.991\\nsamples = 9\\nvalue = [4, 5]'),\n",
       " Text(0.8133333333333334, 0.175, 'X[1] <= 20.5\\nentropy = 1.0\\nsamples = 8\\nvalue = [4, 4]'),\n",
       " Text(0.7955555555555556, 0.125, 'X[1] <= 19.0\\nentropy = 0.918\\nsamples = 3\\nvalue = [2, 1]'),\n",
       " Text(0.7866666666666666, 0.075, 'entropy = 1.0\\nsamples = 2\\nvalue = [1, 1]'),\n",
       " Text(0.8044444444444444, 0.075, 'entropy = 0.0\\nsamples = 1\\nvalue = [1, 0]'),\n",
       " Text(0.8311111111111111, 0.125, 'X[1] <= 21.5\\nentropy = 0.971\\nsamples = 5\\nvalue = [2, 3]'),\n",
       " Text(0.8222222222222222, 0.075, 'entropy = 0.0\\nsamples = 1\\nvalue = [0, 1]'),\n",
       " Text(0.84, 0.075, 'entropy = 1.0\\nsamples = 4\\nvalue = [2, 2]'),\n",
       " Text(0.8311111111111111, 0.175, 'entropy = 0.0\\nsamples = 1\\nvalue = [0, 1]'),\n",
       " Text(0.84, 0.225, 'entropy = 0.0\\nsamples = 2\\nvalue = [2, 0]'),\n",
       " Text(0.8488888888888889, 0.275, 'entropy = 0.0\\nsamples = 2\\nvalue = [0, 2]'),\n",
       " Text(0.8844444444444445, 0.375, 'X[1] <= 26.5\\nentropy = 0.954\\nsamples = 8\\nvalue = [5, 3]'),\n",
       " Text(0.8755555555555555, 0.325, 'X[1] <= 20.0\\nentropy = 0.863\\nsamples = 7\\nvalue = [5, 2]'),\n",
       " Text(0.8666666666666667, 0.275, 'X[1] <= 16.0\\nentropy = 1.0\\nsamples = 4\\nvalue = [2, 2]'),\n",
       " Text(0.8577777777777778, 0.225, 'entropy = 0.0\\nsamples = 1\\nvalue = [1, 0]'),\n",
       " Text(0.8755555555555555, 0.225, 'X[1] <= 18.5\\nentropy = 0.918\\nsamples = 3\\nvalue = [1, 2]'),\n",
       " Text(0.8666666666666667, 0.175, 'entropy = 1.0\\nsamples = 2\\nvalue = [1, 1]'),\n",
       " Text(0.8844444444444445, 0.175, 'entropy = 0.0\\nsamples = 1\\nvalue = [0, 1]'),\n",
       " Text(0.8844444444444445, 0.275, 'entropy = 0.0\\nsamples = 3\\nvalue = [3, 0]'),\n",
       " Text(0.8933333333333333, 0.325, 'entropy = 0.0\\nsamples = 1\\nvalue = [0, 1]'),\n",
       " Text(0.8755555555555555, 0.425, 'entropy = 0.0\\nsamples = 1\\nvalue = [1, 0]'),\n",
       " Text(0.92, 0.475, 'X[2] <= 0.5\\nentropy = 0.863\\nsamples = 14\\nvalue = [4, 10]'),\n",
       " Text(0.9111111111111111, 0.425, 'X[1] <= 29.5\\nentropy = 0.954\\nsamples = 8\\nvalue = [3, 5]'),\n",
       " Text(0.9022222222222223, 0.375, 'entropy = 0.985\\nsamples = 7\\nvalue = [3, 4]'),\n",
       " Text(0.92, 0.375, 'entropy = 0.0\\nsamples = 1\\nvalue = [0, 1]'),\n",
       " Text(0.9288888888888889, 0.425, 'entropy = 0.65\\nsamples = 6\\nvalue = [1, 5]'),\n",
       " Text(0.9111111111111111, 0.525, 'entropy = 0.0\\nsamples = 1\\nvalue = [1, 0]'),\n",
       " Text(0.9377777777777778, 0.575, 'X[1] <= 21.0\\nentropy = 0.881\\nsamples = 10\\nvalue = [7, 3]'),\n",
       " Text(0.9288888888888889, 0.525, 'entropy = 0.0\\nsamples = 2\\nvalue = [2, 0]'),\n",
       " Text(0.9466666666666667, 0.525, 'X[1] <= 26.0\\nentropy = 0.954\\nsamples = 8\\nvalue = [5, 3]'),\n",
       " Text(0.9377777777777778, 0.475, 'entropy = 0.0\\nsamples = 1\\nvalue = [0, 1]'),\n",
       " Text(0.9555555555555556, 0.475, 'X[1] <= 28.5\\nentropy = 0.863\\nsamples = 7\\nvalue = [5, 2]'),\n",
       " Text(0.9466666666666667, 0.425, 'entropy = 0.0\\nsamples = 1\\nvalue = [1, 0]'),\n",
       " Text(0.9644444444444444, 0.425, 'X[1] <= 29.5\\nentropy = 0.918\\nsamples = 6\\nvalue = [4, 2]'),\n",
       " Text(0.9555555555555556, 0.375, 'entropy = 0.971\\nsamples = 5\\nvalue = [3, 2]'),\n",
       " Text(0.9733333333333334, 0.375, 'entropy = 0.0\\nsamples = 1\\nvalue = [1, 0]'),\n",
       " Text(0.9377777777777778, 0.625, 'entropy = 0.0\\nsamples = 2\\nvalue = [0, 2]'),\n",
       " Text(0.8933333333333333, 0.775, 'entropy = 0.0\\nsamples = 4\\nvalue = [4, 0]'),\n",
       " Text(0.9555555555555556, 0.825, 'X[2] <= 5.5\\nentropy = 0.575\\nsamples = 22\\nvalue = [19, 3]'),\n",
       " Text(0.9466666666666667, 0.775, 'entropy = 0.0\\nsamples = 10\\nvalue = [10, 0]'),\n",
       " Text(0.9644444444444444, 0.775, 'X[2] <= 6.5\\nentropy = 0.811\\nsamples = 12\\nvalue = [9, 3]'),\n",
       " Text(0.9555555555555556, 0.725, 'X[1] <= 3.5\\nentropy = 0.985\\nsamples = 7\\nvalue = [4, 3]'),\n",
       " Text(0.9466666666666667, 0.675, 'entropy = 0.0\\nsamples = 1\\nvalue = [1, 0]'),\n",
       " Text(0.9644444444444444, 0.675, 'X[1] <= 7.0\\nentropy = 1.0\\nsamples = 6\\nvalue = [3, 3]'),\n",
       " Text(0.9555555555555556, 0.625, 'entropy = 0.0\\nsamples = 1\\nvalue = [0, 1]'),\n",
       " Text(0.9733333333333334, 0.625, 'X[1] <= 14.0\\nentropy = 0.971\\nsamples = 5\\nvalue = [3, 2]'),\n",
       " Text(0.9644444444444444, 0.575, 'entropy = 0.0\\nsamples = 2\\nvalue = [2, 0]'),\n",
       " Text(0.9822222222222222, 0.575, 'X[1] <= 38.5\\nentropy = 0.918\\nsamples = 3\\nvalue = [1, 2]'),\n",
       " Text(0.9733333333333334, 0.525, 'entropy = 0.0\\nsamples = 2\\nvalue = [0, 2]'),\n",
       " Text(0.9911111111111112, 0.525, 'entropy = 0.0\\nsamples = 1\\nvalue = [1, 0]'),\n",
       " Text(0.9733333333333334, 0.725, 'entropy = 0.0\\nsamples = 5\\nvalue = [5, 0]')]"
      ]
     },
     "execution_count": 125,
     "metadata": {},
     "output_type": "execute_result"
    },
    {
     "data": {
      "image/png": "[encoded data removed]",
      "text/plain": [
       "<Figure size 640x480 with 1 Axes>"
      ]
     },
     "metadata": {},
     "output_type": "display_data"
    }
   ],
   "source": [
    "from sklearn import tree\n",
    "tree.plot_tree(model1)"
   ]
  },
  {
   "cell_type": "code",
   "execution_count": 126,
   "id": "c5542eb9",
   "metadata": {},
   "outputs": [
    {
     "data": {
      "text/plain": [
       "0.7247191011235955"
      ]
     },
     "execution_count": 126,
     "metadata": {},
     "output_type": "execute_result"
    }
   ],
   "source": [
    "from sklearn.metrics import confusion_matrix , accuracy_score\n",
    "cm = confusion_matrix(y_test , y_pred)\n",
    "accuracy_score(y_test , y_pred)"
   ]
  },
  {
   "cell_type": "code",
   "execution_count": 127,
   "id": "72e01366",
   "metadata": {},
   "outputs": [
    {
     "name": "stdout",
     "output_type": "stream",
     "text": [
      "[[85 21]\n",
      " [28 44]]\n"
     ]
    }
   ],
   "source": [
    "print(cm)"
   ]
  },
  {
   "cell_type": "code",
   "execution_count": null,
   "id": "53d7107e",
   "metadata": {},
   "outputs": [],
   "source": []
  }
 ],
 "metadata": {
  "kernelspec": {
   "display_name": "Python 3 (ipykernel)",
   "language": "python",
   "name": "python3"
  },
  "language_info": {
   "codemirror_mode": {
    "name": "ipython",
    "version": 3
   },
   "file_extension": ".py",
   "mimetype": "text/x-python",
   "name": "python",
   "nbconvert_exporter": "python",
   "pygments_lexer": "ipython3",
   "version": "3.9.13"
  }
 },
 "nbformat": 4,
 "nbformat_minor": 5
}
